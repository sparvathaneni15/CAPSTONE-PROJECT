{
 "cells": [
  {
   "cell_type": "markdown",
   "metadata": {},
   "source": [
    "### CAPSTONE Project: Atmospheric Physics using AI (ClimSim)\n",
    "## Samanyu Parvathaneni"
   ]
  },
  {
   "cell_type": "markdown",
   "metadata": {
    "execution": {
     "iopub.execute_input": "2024-07-21T16:33:50.342534Z",
     "iopub.status.busy": "2024-07-21T16:33:50.341578Z",
     "iopub.status.idle": "2024-07-21T16:33:50.385699Z",
     "shell.execute_reply": "2024-07-21T16:33:50.384149Z",
     "shell.execute_reply.started": "2024-07-21T16:33:50.342493Z"
    }
   },
   "source": [
    "## Abstract\n",
    "Climate models are crucial for understanding Earth's climate system. Due to the complexity of Earth's climate, these models use parameterizations to approximate the effects of physical processes that occur at scales smaller than the size of their grid cells. These approximations, however, are imperfect and contribute significantly to uncertainties in predicted warming, changing precipitation patterns, and the frequency and severity of extreme events. The Multi-scale Modeling Framework (MMF) approach, however, represents these subgrid processes more explicitly but at a computational cost too high for operational climate prediction.\n",
    "\n",
    "This project aims to develop machine learning (ML) models that emulate subgrid atmospheric processes—such as storms, clouds, turbulence, rainfall, and radiation—within E3SM-MMF, a multi-scale climate model supported by the U.S. Department of Energy. ML emulators are significantly cheaper to run than MMF, and advancements in this area could enable high-resolution, physically credible long-term climate projections to become broadly accessible. This would enhance our understanding of climate-related hazards and empower policymakers with the knowledge needed to mitigate them."
   ]
  },
  {
   "cell_type": "markdown",
   "metadata": {},
   "source": [
    "## Research Question\n",
    "\n",
    "Motivation: With the increasing frequency and severity of climate disasters, governments and other institutions are investing more time and money into projects that will be able to predict these catastrophies. We aim to model these weather events and figue out what features are the most predictive of natural disasters.\n",
    "\n",
    "Research Question: What relationships can we find between observable weather data and climate events?"
   ]
  },
  {
   "cell_type": "markdown",
   "metadata": {},
   "source": [
    "## Hypothesis\n",
    "\n",
    "We believe that there will be many highly correlated variables, particularly the ones with the same number of dimensions."
   ]
  },
  {
   "cell_type": "markdown",
   "metadata": {},
   "source": [
    "## Data Preparation"
   ]
  },
  {
   "cell_type": "code",
   "execution_count": 1,
   "metadata": {
    "_cell_guid": "b1076dfc-b9ad-4769-8c92-a6c4dae69d19",
    "_uuid": "8f2839f25d086af736a60e9eeb907d3b93b6e0e5",
    "execution": {
     "iopub.execute_input": "2024-12-30T22:30:24.493626Z",
     "iopub.status.busy": "2024-12-30T22:30:24.493208Z",
     "iopub.status.idle": "2024-12-30T22:30:42.262324Z",
     "shell.execute_reply": "2024-12-30T22:30:42.260775Z",
     "shell.execute_reply.started": "2024-12-30T22:30:24.493596Z"
    },
    "trusted": true
   },
   "outputs": [
    {
     "name": "stderr",
     "output_type": "stream",
     "text": [
      "2024-12-30 22:30:26,539\tINFO util.py:124 -- Outdated packages:\n",
      "  ipywidgets==7.7.1 found, needs ipywidgets>=8\n",
      "Run `pip install -U ipywidgets`, then restart the notebook server for rich notebook output.\n",
      "2024-12-30 22:30:28.935432: E external/local_xla/xla/stream_executor/cuda/cuda_dnn.cc:9261] Unable to register cuDNN factory: Attempting to register factory for plugin cuDNN when one has already been registered\n",
      "2024-12-30 22:30:28.935579: E external/local_xla/xla/stream_executor/cuda/cuda_fft.cc:607] Unable to register cuFFT factory: Attempting to register factory for plugin cuFFT when one has already been registered\n",
      "2024-12-30 22:30:29.134334: E external/local_xla/xla/stream_executor/cuda/cuda_blas.cc:1515] Unable to register cuBLAS factory: Attempting to register factory for plugin cuBLAS when one has already been registered\n"
     ]
    },
    {
     "name": "stdout",
     "output_type": "stream",
     "text": [
      "/kaggle/input/leap-atmospheric-physics-ai-climsim/sample_submission.csv\n",
      "/kaggle/input/leap-atmospheric-physics-ai-climsim/test_old.csv\n",
      "/kaggle/input/leap-atmospheric-physics-ai-climsim/train.csv\n",
      "/kaggle/input/leap-atmospheric-physics-ai-climsim/test.csv\n",
      "/kaggle/input/leap-atmospheric-physics-ai-climsim/sample_submission_old.csv\n"
     ]
    }
   ],
   "source": [
    "# This Python 3 environment comes with many helpful analytics libraries installed\n",
    "# It is defined by the kaggle/python Docker image: https://github.com/kaggle/docker-python\n",
    "# For example, here's several helpful packages to load\n",
    "\n",
    "import numpy as np # linear algebra\n",
    "import pandas as pd # data processing, CSV file I/O (e.g. pd.read_csv)\n",
    "import dask as dd\n",
    "import polars as pl\n",
    "import ray\n",
    "import gc  # Garbage Collector interface\n",
    "import random\n",
    "import time\n",
    "import tensorflow as tf\n",
    "from sklearn.model_selection import train_test_split\n",
    "from sklearn.preprocessing import StandardScaler\n",
    "from tensorflow.keras import layers, regularizers, models\n",
    "from tensorflow.keras.callbacks import EarlyStopping\n",
    "from sklearn.metrics import r2_score\n",
    "\n",
    "# Plots\n",
    "import matplotlib.pyplot as plt\n",
    "import seaborn as sns\n",
    "\n",
    "# Input data files are available in the read-only \"../input/\" directory\n",
    "# For example, running this (by clicking run or pressing Shift+Enter) will list all files under the input directory\n",
    "\n",
    "import os\n",
    "for dirname, _, filenames in os.walk('/kaggle/input'):\n",
    "    for filename in filenames:\n",
    "        print(os.path.join(dirname, filename))\n",
    "\n",
    "# You can write up to 20GB to the current directory (/kaggle/working/) that gets preserved as output when you create a version using \"Save & Run All\" \n",
    "# You can also write temporary files to /kaggle/temp/, but they won't be saved outside of the current session"
   ]
  },
  {
   "cell_type": "code",
   "execution_count": 2,
   "metadata": {
    "execution": {
     "iopub.execute_input": "2024-12-30T22:30:49.231748Z",
     "iopub.status.busy": "2024-12-30T22:30:49.230588Z",
     "iopub.status.idle": "2024-12-30T22:31:06.167115Z",
     "shell.execute_reply": "2024-12-30T22:31:06.166182Z",
     "shell.execute_reply.started": "2024-12-30T22:30:49.231712Z"
    },
    "trusted": true
   },
   "outputs": [],
   "source": [
    "train_df = pl.read_csv('../input/leap-atmospheric-physics-ai-climsim/train.csv', n_rows = 100000).to_pandas()\n",
    "test_df = pl.read_csv('../input/leap-atmospheric-physics-ai-climsim/test.csv', n_rows = 100000).to_pandas()\n",
    "df_submission = pl.read_csv('../input/leap-atmospheric-physics-ai-climsim/sample_submission_old.csv', n_rows=100000).to_pandas()"
   ]
  },
  {
   "cell_type": "code",
   "execution_count": 3,
   "metadata": {
    "execution": {
     "iopub.execute_input": "2024-12-30T22:31:10.498906Z",
     "iopub.status.busy": "2024-12-30T22:31:10.498507Z",
     "iopub.status.idle": "2024-12-30T22:31:10.510692Z",
     "shell.execute_reply": "2024-12-30T22:31:10.509563Z",
     "shell.execute_reply.started": "2024-12-30T22:31:10.498877Z"
    },
    "trusted": true
   },
   "outputs": [],
   "source": [
    "# targets (extract from submission file)\n",
    "targets = [x for x in df_submission.columns.tolist() if x not in ['sample_id']]\n",
    "\n",
    "# numerical features\n",
    "features_numerical = [x for x in train_df.columns.tolist() if x not in ['sample_id']+targets]\n",
    "\n",
    "# categorical features\n",
    "features_categorical = []\n",
    "\n",
    "# all features combined\n",
    "features_all = features_numerical + features_categorical"
   ]
  },
  {
   "cell_type": "markdown",
   "metadata": {},
   "source": [
    "## Model Training"
   ]
  },
  {
   "cell_type": "markdown",
   "metadata": {},
   "source": [
    "#### Neural Network (Keras) with ReLU activation, batch normalization, and dropout"
   ]
  },
  {
   "cell_type": "code",
   "execution_count": 4,
   "metadata": {
    "execution": {
     "iopub.execute_input": "2024-12-30T22:31:19.531086Z",
     "iopub.status.busy": "2024-12-30T22:31:19.530698Z",
     "iopub.status.idle": "2024-12-30T22:31:21.485345Z",
     "shell.execute_reply": "2024-12-30T22:31:21.483954Z",
     "shell.execute_reply.started": "2024-12-30T22:31:19.531055Z"
    },
    "trusted": true
   },
   "outputs": [],
   "source": [
    "import pandas as pd\n",
    "import numpy as np\n",
    "from sklearn.model_selection import train_test_split\n",
    "from sklearn.preprocessing import StandardScaler\n",
    "from tensorflow.keras import layers, regularizers, models\n",
    "from tensorflow.keras.callbacks import EarlyStopping\n",
    "from sklearn.metrics import r2_score\n",
    "import matplotlib.pyplot as plt\n",
    "\n",
    "# Assume train_df and test_df are already loaded with the specified columns\n",
    "\n",
    "# Separate features and targets\n",
    "feature_columns = ['state_t_0', 'state_t_1', 'state_t_2', 'state_t_3', 'state_t_4', 'state_t_5', 'state_t_6', 'state_t_7', 'state_t_8','state_t_9', \n",
    "                   'state_t_10', 'state_t_11', 'state_t_12', 'state_t_13', 'state_t_14', 'state_t_15', 'state_t_16', 'state_t_17', 'state_t_18', 'state_t_19', \n",
    "                   'state_t_20','state_t_21', 'state_t_22', 'state_t_23', 'state_t_24', 'state_t_25', 'state_t_26', 'state_t_27', 'state_t_28', 'state_t_29', \n",
    "                   'state_t_30', 'state_t_31', 'state_t_32', 'state_t_33', 'state_t_34', 'state_t_35', 'state_t_36', 'state_t_37', 'state_t_38', 'state_t_39',\n",
    "                   'state_t_40', 'state_t_41', 'state_t_42', 'state_t_43', 'state_t_44', 'state_t_45', 'state_t_46', 'state_t_47', 'state_t_48', 'state_t_49', \n",
    "                   'state_t_50', 'state_t_51', 'state_t_52', 'state_t_53', 'state_t_54', 'state_t_55', 'state_t_56', 'state_t_57', 'state_t_58','state_v_59', \n",
    "                   'state_q0001_0', 'state_q0001_1', 'state_q0001_2', 'state_q0001_3', 'state_q0001_4', 'state_q0001_5', 'state_q0001_6', 'state_q0001_7', 'state_q0001_8','state_q0001_9', \n",
    "                   'state_q0001_10', 'state_q0001_11', 'state_q0001_12', 'state_q0001_13', 'state_q0001_14', 'state_q0001_15', 'state_q0001_16', 'state_q0001_17', 'state_q0001_18', 'state_q0001_19', \n",
    "                   'state_q0001_20','state_q0001_21', 'state_q0001_22', 'state_q0001_23', 'state_q0001_24', 'state_q0001_25', 'state_q0001_26', 'state_q0001_27', 'state_q0001_28', 'state_q0001_29', \n",
    "                   'state_q0001_30', 'state_q0001_31', 'state_q0001_32', 'state_q0001_33', 'state_q0001_34', 'state_q0001_35', 'state_q0001_36', 'state_q0001_37', 'state_q0001_38', 'state_q0001_39',\n",
    "                   'state_q0001_40', 'state_q0001_41', 'state_q0001_42', 'state_q0001_43', 'state_q0001_44', 'state_q0001_45', 'state_q0001_46', 'state_q0001_47', 'state_q0001_48', 'state_q0001_49', \n",
    "                   'state_q0001_50', 'state_q0001_51', 'state_q0001_52', 'state_q0001_53', 'state_q0001_54', 'state_q0001_55', 'state_q0001_56', 'state_q0001_57', 'state_q0001_58','state_v_59',\n",
    "                   'state_q0002_0', 'state_q0002_1', 'state_q0002_2', 'state_q0002_3', 'state_q0002_4', 'state_q0002_5', 'state_q0002_6', 'state_q0002_7', 'state_q0002_8','state_q0002_9', \n",
    "                   'state_q0002_10', 'state_q0002_11', 'state_q0002_12', 'state_q0002_13', 'state_q0002_14', 'state_q0002_15', 'state_q0002_16', 'state_q0002_17', 'state_q0002_18', 'state_q0002_19', \n",
    "                   'state_q0002_20','state_q0002_21', 'state_q0002_22', 'state_q0002_23', 'state_q0002_24', 'state_q0002_25', 'state_q0002_26', 'state_q0002_27', 'state_q0002_28', 'state_q0002_29', \n",
    "                   'state_q0002_30', 'state_q0002_31', 'state_q0002_32', 'state_q0002_33', 'state_q0002_34', 'state_q0002_35', 'state_q0002_36', 'state_q0002_37', 'state_q0002_38', 'state_q0002_39',\n",
    "                   'state_q0002_40', 'state_q0002_41', 'state_q0002_42', 'state_q0002_43', 'state_q0002_44', 'state_q0002_45', 'state_q0002_46', 'state_q0002_47', 'state_q0002_48', 'state_q0002_49', \n",
    "                   'state_q0002_50', 'state_q0002_51', 'state_q0002_52', 'state_q0002_53', 'state_q0002_54', 'state_q0002_55', 'state_q0002_56', 'state_q0002_57', 'state_q0002_58','state_v_59',\n",
    "                   'state_q0003_0', 'state_q0003_1', 'state_q0003_2', 'state_q0003_3', 'state_q0003_4', 'state_q0003_5', 'state_q0003_6', 'state_q0003_7', 'state_q0003_8','state_q0003_9', \n",
    "                   'state_q0003_10', 'state_q0003_11', 'state_q0003_12', 'state_q0003_13', 'state_q0003_14', 'state_q0003_15', 'state_q0003_16', 'state_q0003_17', 'state_q0003_18', 'state_q0003_19', \n",
    "                   'state_q0003_20','state_q0003_21', 'state_q0003_22', 'state_q0003_23', 'state_q0003_24', 'state_q0003_25', 'state_q0003_26', 'state_q0003_27', 'state_q0003_28', 'state_q0003_29', \n",
    "                   'state_q0003_30', 'state_q0003_31', 'state_q0003_32', 'state_q0003_33', 'state_q0003_34', 'state_q0003_35', 'state_q0003_36', 'state_q0003_37', 'state_q0003_38', 'state_q0003_39',\n",
    "                   'state_q0003_40', 'state_q0003_41', 'state_q0003_42', 'state_q0003_43', 'state_q0003_44', 'state_q0003_45', 'state_q0003_46', 'state_q0003_47', 'state_q0003_48', 'state_q0003_49', \n",
    "                   'state_q0003_50', 'state_q0003_51', 'state_q0003_52', 'state_q0003_53', 'state_q0003_54', 'state_q0003_55', 'state_q0003_56', 'state_q0003_57', 'state_q0003_58','state_v_59',\n",
    "                   'state_u_0', 'state_u_1', 'state_u_2', 'state_u_3', 'state_u_4', 'state_u_5', 'state_u_6', 'state_u_7', 'state_u_8','state_u_9', \n",
    "                   'state_u_10', 'state_u_11', 'state_u_12', 'state_u_13', 'state_u_14', 'state_u_15', 'state_u_16', 'state_u_17', 'state_u_18', 'state_u_19', \n",
    "                   'state_u_20','state_u_21', 'state_u_22', 'state_u_23', 'state_u_24', 'state_u_25', 'state_u_26', 'state_u_27', 'state_u_28', 'state_u_29', \n",
    "                   'state_u_30', 'state_u_31', 'state_u_32', 'state_u_33', 'state_u_34', 'state_u_35', 'state_u_36', 'state_u_37', 'state_u_38', 'state_u_39',\n",
    "                   'state_u_40', 'state_u_41', 'state_u_42', 'state_u_43', 'state_u_44', 'state_u_45', 'state_u_46', 'state_u_47', 'state_u_48', 'state_u_49', \n",
    "                   'state_u_50', 'state_u_51', 'state_u_52', 'state_u_53', 'state_u_54', 'state_u_55', 'state_u_56', 'state_u_57', 'state_u_58','state_v_59',\n",
    "                   'state_v_0', 'state_v_1', 'state_v_2', 'state_v_3', 'state_v_4', 'state_v_5', 'state_v_6', 'state_v_7', 'state_v_8','state_v_9', \n",
    "                   'state_v_10', 'state_v_11', 'state_v_12', 'state_v_13', 'state_v_14', 'state_v_15', 'state_v_16', 'state_v_17', 'state_v_18', 'state_v_19', \n",
    "                   'state_v_20','state_v_21', 'state_v_22', 'state_v_23', 'state_v_24', 'state_v_25', 'state_v_26', 'state_v_27', 'state_v_28', 'state_v_29', \n",
    "                   'state_v_30', 'state_v_31', 'state_v_32', 'state_v_33', 'state_v_34', 'state_v_35', 'state_v_36', 'state_v_37', 'state_v_38', 'state_v_39',\n",
    "                   'state_v_40', 'state_v_41', 'state_v_42', 'state_v_43', 'state_v_44', 'state_v_45', 'state_v_46', 'state_v_47', 'state_v_48', 'state_v_49', \n",
    "                   'state_v_50', 'state_v_51', 'state_v_52', 'state_v_53', 'state_v_54', 'state_v_55', 'state_v_56', 'state_v_57', 'state_v_58','state_v_59',\n",
    "                   'state_ps', 'pbuf_SOLIN', 'pbuf_LHFLX', 'pbuf_TAUX', 'pbuf_TAUY', 'pbuf_COSZRS', 'cam_in_ALDIF', 'cam_in_ASDIF', 'cam_in_LWUP', 'cam_in_ICEFRAC', 'cam_in_LANDFRAC', 'cam_in_OCNFRAC', 'cam_in_SNOWHLAND',\n",
    "                   'pbuf_ozone_0', 'pbuf_ozone_1', 'pbuf_ozone_2', 'pbuf_ozone_3', 'pbuf_ozone_4', 'pbuf_ozone_5', 'pbuf_ozone_6', 'pbuf_ozone_7', 'pbuf_ozone_8','pbuf_ozone_9', \n",
    "                   'pbuf_ozone_10', 'pbuf_ozone_11', 'pbuf_ozone_12', 'pbuf_ozone_13', 'pbuf_ozone_14', 'pbuf_ozone_15', 'pbuf_ozone_16', 'pbuf_ozone_17', 'pbuf_ozone_18', 'pbuf_ozone_19', \n",
    "                   'pbuf_ozone_20','pbuf_ozone_21', 'pbuf_ozone_22', 'pbuf_ozone_23', 'pbuf_ozone_24', 'pbuf_ozone_25', 'pbuf_ozone_26', 'pbuf_ozone_27', 'pbuf_ozone_28', 'pbuf_ozone_29', \n",
    "                   'pbuf_ozone_30', 'pbuf_ozone_31', 'pbuf_ozone_32', 'pbuf_ozone_33', 'pbuf_ozone_34', 'pbuf_ozone_35', 'pbuf_ozone_36', 'pbuf_ozone_37', 'pbuf_ozone_38', 'pbuf_ozone_39',\n",
    "                   'pbuf_ozone_40', 'pbuf_ozone_41', 'pbuf_ozone_42', 'pbuf_ozone_43', 'pbuf_ozone_44', 'pbuf_ozone_45', 'pbuf_ozone_46', 'pbuf_ozone_47', 'pbuf_ozone_48', 'pbuf_ozone_49', \n",
    "                   'pbuf_ozone_50', 'pbuf_ozone_51', 'pbuf_ozone_52', 'pbuf_ozone_53', 'pbuf_ozone_54', 'pbuf_ozone_55', 'pbuf_ozone_56', 'pbuf_ozone_57', 'pbuf_ozone_58','pbuf_ozone_59',\n",
    "                   'pbuf_CH4_0', 'pbuf_CH4_1', 'pbuf_CH4_2', 'pbuf_CH4_3', 'pbuf_CH4_4', 'pbuf_CH4_5', 'pbuf_CH4_6', 'pbuf_CH4_7', 'pbuf_CH4_8','pbuf_CH4_9', \n",
    "                   'pbuf_CH4_10', 'pbuf_CH4_11', 'pbuf_CH4_12', 'pbuf_CH4_13', 'pbuf_CH4_14', 'pbuf_CH4_15', 'pbuf_CH4_16', 'pbuf_CH4_17', 'pbuf_CH4_18', 'pbuf_CH4_19', \n",
    "                   'pbuf_CH4_20','pbuf_CH4_21', 'pbuf_CH4_22', 'pbuf_CH4_23', 'pbuf_CH4_24', 'pbuf_CH4_25', 'pbuf_CH4_26', 'pbuf_CH4_27', 'pbuf_CH4_28', 'pbuf_CH4_29', \n",
    "                   'pbuf_CH4_30', 'pbuf_CH4_31', 'pbuf_CH4_32', 'pbuf_CH4_33', 'pbuf_CH4_34', 'pbuf_CH4_35', 'pbuf_CH4_36', 'pbuf_CH4_37', 'pbuf_CH4_38', 'pbuf_CH4_39',\n",
    "                   'pbuf_CH4_40', 'pbuf_CH4_41', 'pbuf_CH4_42', 'pbuf_CH4_43', 'pbuf_CH4_44', 'pbuf_CH4_45', 'pbuf_CH4_46', 'pbuf_CH4_47', 'pbuf_CH4_48', 'pbuf_CH4_49', \n",
    "                   'pbuf_CH4_50', 'pbuf_CH4_51', 'pbuf_CH4_52', 'pbuf_CH4_53', 'pbuf_CH4_54', 'pbuf_CH4_55', 'pbuf_CH4_56', 'pbuf_CH4_57', 'pbuf_CH4_58','pbuf_CH4_59',\n",
    "                   'pbuf_N2O_0', 'pbuf_N2O_1', 'pbuf_N2O_2', 'pbuf_N2O_3', 'pbuf_N2O_4', 'pbuf_N2O_5', 'pbuf_N2O_6', 'pbuf_N2O_7', 'pbuf_N2O_8','pbuf_N2O_9', \n",
    "                   'pbuf_N2O_10', 'pbuf_N2O_11', 'pbuf_N2O_12', 'pbuf_N2O_13', 'pbuf_N2O_14', 'pbuf_N2O_15', 'pbuf_N2O_16', 'pbuf_N2O_17', 'pbuf_N2O_18', 'pbuf_N2O_19', \n",
    "                   'pbuf_N2O_20','pbuf_N2O_21', 'pbuf_N2O_22', 'pbuf_N2O_23', 'pbuf_N2O_24', 'pbuf_N2O_25', 'pbuf_N2O_26', 'pbuf_N2O_27', 'pbuf_N2O_28', 'pbuf_N2O_29', \n",
    "                   'pbuf_N2O_30', 'pbuf_N2O_31', 'pbuf_N2O_32', 'pbuf_N2O_33', 'pbuf_N2O_34', 'pbuf_N2O_35', 'pbuf_N2O_36', 'pbuf_N2O_37', 'pbuf_N2O_38', 'pbuf_N2O_39',\n",
    "                   'pbuf_N2O_40', 'pbuf_N2O_41', 'pbuf_N2O_42', 'pbuf_N2O_43', 'pbuf_N2O_44', 'pbuf_N2O_45', 'pbuf_N2O_46', 'pbuf_N2O_47', 'pbuf_N2O_48', 'pbuf_N2O_49', \n",
    "                   'pbuf_N2O_50', 'pbuf_N2O_51', 'pbuf_N2O_52', 'pbuf_N2O_53', 'pbuf_N2O_54', 'pbuf_N2O_55', 'pbuf_N2O_56', 'pbuf_N2O_57', 'pbuf_N2O_58','pbuf_N2O_59']\n",
    "\n",
    "target_columns = ['ptend_t_0', 'ptend_t_1', 'ptend_t_2', 'ptend_t_3', 'ptend_t_4', 'ptend_t_5', 'ptend_t_6', 'ptend_t_7', 'ptend_t_8','ptend_t_9', \n",
    "                   'ptend_t_10', 'ptend_t_11', 'ptend_t_12', 'ptend_t_13', 'ptend_t_14', 'ptend_t_15', 'ptend_t_16', 'ptend_t_17', 'ptend_t_18', 'ptend_t_19', \n",
    "                   'ptend_t_20','ptend_t_21', 'ptend_t_22', 'ptend_t_23', 'ptend_t_24', 'ptend_t_25', 'ptend_t_26', 'ptend_t_27', 'ptend_t_28', 'ptend_t_29', \n",
    "                   'ptend_t_30', 'ptend_t_31', 'ptend_t_32', 'ptend_t_33', 'ptend_t_34', 'ptend_t_35', 'ptend_t_36', 'ptend_t_37', 'ptend_t_38', 'ptend_t_39',\n",
    "                   'ptend_t_40', 'ptend_t_41', 'ptend_t_42', 'ptend_t_43', 'ptend_t_44', 'ptend_t_45', 'ptend_t_46', 'ptend_t_47', 'ptend_t_48', 'ptend_t_49', \n",
    "                   'ptend_t_50', 'ptend_t_51', 'ptend_t_52', 'ptend_t_53', 'ptend_t_54', 'ptend_t_55', 'ptend_t_56', 'ptend_t_57', 'ptend_t_58','ptend_t_59',\n",
    "                  'ptend_q0001_0', 'ptend_q0001_1', 'ptend_q0001_2', 'ptend_q0001_3', 'ptend_q0001_4', 'ptend_q0001_5', 'ptend_q0001_6', 'ptend_q0001_7', 'ptend_q0001_8','ptend_q0001_9', \n",
    "                   'ptend_q0001_10', 'ptend_q0001_11', 'ptend_q0001_12', 'ptend_q0001_13', 'ptend_q0001_14', 'ptend_q0001_15', 'ptend_q0001_16', 'ptend_q0001_17', 'ptend_q0001_18', 'ptend_q0001_19', \n",
    "                   'ptend_q0001_20','ptend_q0001_21', 'ptend_q0001_22', 'ptend_q0001_23', 'ptend_q0001_24', 'ptend_q0001_25', 'ptend_q0001_26', 'ptend_q0001_27', 'ptend_q0001_28', 'ptend_q0001_29', \n",
    "                   'ptend_q0001_30', 'ptend_q0001_31', 'ptend_q0001_32', 'ptend_q0001_33', 'ptend_q0001_34', 'ptend_q0001_35', 'ptend_q0001_36', 'ptend_q0001_37', 'ptend_q0001_38', 'ptend_q0001_39',\n",
    "                   'ptend_q0001_40', 'ptend_q0001_41', 'ptend_q0001_42', 'ptend_q0001_43', 'ptend_q0001_44', 'ptend_q0001_45', 'ptend_q0001_46', 'ptend_q0001_47', 'ptend_q0001_48', 'ptend_q0001_49', \n",
    "                   'ptend_q0001_50', 'ptend_q0001_51', 'ptend_q0001_52', 'ptend_q0001_53', 'ptend_q0001_54', 'ptend_q0001_55', 'ptend_q0001_56', 'ptend_q0001_57', 'ptend_q0001_58','ptend_q0001_59',\n",
    "                  'ptend_q0002_0', 'ptend_q0002_1', 'ptend_q0002_2', 'ptend_q0002_3', 'ptend_q0002_4', 'ptend_q0002_5', 'ptend_q0002_6', 'ptend_q0002_7', 'ptend_q0002_8','ptend_q0002_9', \n",
    "                   'ptend_q0002_10', 'ptend_q0002_11', 'ptend_q0002_12', 'ptend_q0002_13', 'ptend_q0002_14', 'ptend_q0002_15', 'ptend_q0002_16', 'ptend_q0002_17', 'ptend_q0002_18', 'ptend_q0002_19', \n",
    "                   'ptend_q0002_20','ptend_q0002_21', 'ptend_q0002_22', 'ptend_q0002_23', 'ptend_q0002_24', 'ptend_q0002_25', 'ptend_q0002_26', 'ptend_q0002_27', 'ptend_q0002_28', 'ptend_q0002_29', \n",
    "                   'ptend_q0002_30', 'ptend_q0002_31', 'ptend_q0002_32', 'ptend_q0002_33', 'ptend_q0002_34', 'ptend_q0002_35', 'ptend_q0002_36', 'ptend_q0002_37', 'ptend_q0002_38', 'ptend_q0002_39',\n",
    "                   'ptend_q0002_40', 'ptend_q0002_41', 'ptend_q0002_42', 'ptend_q0002_43', 'ptend_q0002_44', 'ptend_q0002_45', 'ptend_q0002_46', 'ptend_q0002_47', 'ptend_q0002_48', 'ptend_q0002_49', \n",
    "                   'ptend_q0002_50', 'ptend_q0002_51', 'ptend_q0002_52', 'ptend_q0002_53', 'ptend_q0002_54', 'ptend_q0002_55', 'ptend_q0002_56', 'ptend_q0002_57', 'ptend_q0002_58','ptend_q0002_59',\n",
    "                  'ptend_q0003_0', 'ptend_q0003_1', 'ptend_q0003_2', 'ptend_q0003_3', 'ptend_q0003_4', 'ptend_q0003_5', 'ptend_q0003_6', 'ptend_q0003_7', 'ptend_q0003_8','ptend_q0003_9', \n",
    "                   'ptend_q0003_10', 'ptend_q0003_11', 'ptend_q0003_12', 'ptend_q0003_13', 'ptend_q0003_14', 'ptend_q0003_15', 'ptend_q0003_16', 'ptend_q0003_17', 'ptend_q0003_18', 'ptend_q0003_19', \n",
    "                   'ptend_q0003_20','ptend_q0003_21', 'ptend_q0003_22', 'ptend_q0003_23', 'ptend_q0003_24', 'ptend_q0003_25', 'ptend_q0003_26', 'ptend_q0003_27', 'ptend_q0003_28', 'ptend_q0003_29', \n",
    "                   'ptend_q0003_30', 'ptend_q0003_31', 'ptend_q0003_32', 'ptend_q0003_33', 'ptend_q0003_34', 'ptend_q0003_35', 'ptend_q0003_36', 'ptend_q0003_37', 'ptend_q0003_38', 'ptend_q0003_39',\n",
    "                   'ptend_q0003_40', 'ptend_q0003_41', 'ptend_q0003_42', 'ptend_q0003_43', 'ptend_q0003_44', 'ptend_q0003_45', 'ptend_q0003_46', 'ptend_q0003_47', 'ptend_q0003_48', 'ptend_q0003_49', \n",
    "                   'ptend_q0003_50', 'ptend_q0003_51', 'ptend_q0003_52', 'ptend_q0003_53', 'ptend_q0003_54', 'ptend_q0003_55', 'ptend_q0003_56', 'ptend_q0003_57', 'ptend_q0003_58','ptend_q0003_59',\n",
    "                  'ptend_u_0', 'ptend_u_1', 'ptend_u_2', 'ptend_u_3', 'ptend_u_4', 'ptend_u_5', 'ptend_u_6', 'ptend_u_7', 'ptend_u_8','ptend_u_9', \n",
    "                   'ptend_u_10', 'ptend_u_11', 'ptend_u_12', 'ptend_u_13', 'ptend_u_14', 'ptend_u_15', 'ptend_u_16', 'ptend_u_17', 'ptend_u_18', 'ptend_u_19', \n",
    "                   'ptend_u_20','ptend_u_21', 'ptend_u_22', 'ptend_u_23', 'ptend_u_24', 'ptend_u_25', 'ptend_u_26', 'ptend_u_27', 'ptend_u_28', 'ptend_u_29', \n",
    "                   'ptend_u_30', 'ptend_u_31', 'ptend_u_32', 'ptend_u_33', 'ptend_u_34', 'ptend_u_35', 'ptend_u_36', 'ptend_u_37', 'ptend_u_38', 'ptend_u_39',\n",
    "                   'ptend_u_40', 'ptend_u_41', 'ptend_u_42', 'ptend_u_43', 'ptend_u_44', 'ptend_u_45', 'ptend_u_46', 'ptend_u_47', 'ptend_u_48', 'ptend_u_49', \n",
    "                   'ptend_u_50', 'ptend_u_51', 'ptend_u_52', 'ptend_u_53', 'ptend_u_54', 'ptend_u_55', 'ptend_u_56', 'ptend_u_57', 'ptend_u_58','ptend_u_59',\n",
    "                  'ptend_v_0', 'ptend_v_1', 'ptend_v_2', 'ptend_v_3', 'ptend_v_4', 'ptend_v_5', 'ptend_v_6', 'ptend_v_7', 'ptend_v_8','ptend_v_9', \n",
    "                   'ptend_v_10', 'ptend_v_11', 'ptend_v_12', 'ptend_v_13', 'ptend_v_14', 'ptend_v_15', 'ptend_v_16', 'ptend_v_17', 'ptend_v_18', 'ptend_v_19', \n",
    "                   'ptend_v_20','ptend_v_21', 'ptend_v_22', 'ptend_v_23', 'ptend_v_24', 'ptend_v_25', 'ptend_v_26', 'ptend_v_27', 'ptend_v_28', 'ptend_v_29', \n",
    "                   'ptend_v_30', 'ptend_v_31', 'ptend_v_32', 'ptend_v_33', 'ptend_v_34', 'ptend_v_35', 'ptend_v_36', 'ptend_v_37', 'ptend_v_38', 'ptend_v_39',\n",
    "                   'ptend_v_40', 'ptend_v_41', 'ptend_v_42', 'ptend_v_43', 'ptend_v_44', 'ptend_v_45', 'ptend_v_46', 'ptend_v_47', 'ptend_v_48', 'ptend_v_49', \n",
    "                   'ptend_v_50', 'ptend_v_51', 'ptend_v_52', 'ptend_v_53', 'ptend_v_54', 'ptend_v_55', 'ptend_v_56', 'ptend_v_57', 'ptend_v_58','ptend_v_59',\n",
    "                  'cam_out_NETSW', 'cam_out_FLWDS', 'cam_out_PRECSC', 'cam_out_PRECC', 'cam_out_SOLS', 'cam_out_SOLL', 'cam_out_SOLSD', 'cam_out_SOLLD']\n",
    "\n",
    "X_train = train_df[feature_columns][:70000]\n",
    "y_train = train_df[target_columns][:70000]\n",
    "X_test = train_df[feature_columns][70001:]\n",
    "y_test = train_df[target_columns][70001:]\n",
    "\n",
    "# Normalize the data\n",
    "scaler_X = StandardScaler()\n",
    "scaler_y = StandardScaler()\n",
    "\n",
    "X_train_scaled = scaler_X.fit_transform(X_train)\n",
    "y_train_scaled = scaler_y.fit_transform(y_train)\n",
    "X_test_scaled = scaler_X.transform(X_test)\n",
    "y_test_scaled = scaler_y.transform(y_test)"
   ]
  },
  {
   "cell_type": "code",
   "execution_count": 6,
   "metadata": {
    "execution": {
     "iopub.execute_input": "2024-12-30T22:35:40.593446Z",
     "iopub.status.busy": "2024-12-30T22:35:40.591665Z",
     "iopub.status.idle": "2024-12-30T22:39:19.937863Z",
     "shell.execute_reply": "2024-12-30T22:39:19.936573Z",
     "shell.execute_reply.started": "2024-12-30T22:35:40.593387Z"
    },
    "trusted": true
   },
   "outputs": [
    {
     "name": "stdout",
     "output_type": "stream",
     "text": [
      "Epoch 1/40\n",
      "\u001b[1m938/938\u001b[0m \u001b[32m━━━━━━━━━━━━━━━━━━━━\u001b[0m\u001b[37m\u001b[0m \u001b[1m3s\u001b[0m 3ms/step\n",
      " - val_r2: -3641303699867803260724733534011392.0000\n",
      "\u001b[1m28/28\u001b[0m \u001b[32m━━━━━━━━━━━━━━━━━━━━\u001b[0m\u001b[37m\u001b[0m \u001b[1m9s\u001b[0m 239ms/step - loss: 1.5838 - mse: 1.4979 - val_loss: 1.1222 - val_mse: 1.0399 - val_r2: -3641303699867803260724733534011392.0000\n",
      "Epoch 2/40\n",
      "\u001b[1m938/938\u001b[0m \u001b[32m━━━━━━━━━━━━━━━━━━━━\u001b[0m\u001b[37m\u001b[0m \u001b[1m3s\u001b[0m 3ms/step\n",
      " - val_r2: -905497039778311247892433684398080.0000\n",
      "\u001b[1m28/28\u001b[0m \u001b[32m━━━━━━━━━━━━━━━━━━━━\u001b[0m\u001b[37m\u001b[0m \u001b[1m6s\u001b[0m 229ms/step - loss: 1.0804 - mse: 0.9994 - val_loss: 0.8042 - val_mse: 0.7275 - val_r2: -905497039778311247892433684398080.0000\n",
      "Epoch 3/40\n",
      "\u001b[1m938/938\u001b[0m \u001b[32m━━━━━━━━━━━━━━━━━━━━\u001b[0m\u001b[37m\u001b[0m \u001b[1m3s\u001b[0m 3ms/step\n",
      " - val_r2: -252579795697820700879864589189120.0000\n",
      "\u001b[1m28/28\u001b[0m \u001b[32m━━━━━━━━━━━━━━━━━━━━\u001b[0m\u001b[37m\u001b[0m \u001b[1m6s\u001b[0m 224ms/step - loss: 0.8859 - mse: 0.8106 - val_loss: 0.7138 - val_mse: 0.6427 - val_r2: -252579795697820700879864589189120.0000\n",
      "Epoch 4/40\n",
      "\u001b[1m938/938\u001b[0m \u001b[32m━━━━━━━━━━━━━━━━━━━━\u001b[0m\u001b[37m\u001b[0m \u001b[1m3s\u001b[0m 3ms/step\n",
      " - val_r2: -99658370556494960456382405410816.0000\n",
      "\u001b[1m28/28\u001b[0m \u001b[32m━━━━━━━━━━━━━━━━━━━━\u001b[0m\u001b[37m\u001b[0m \u001b[1m6s\u001b[0m 227ms/step - loss: 0.8622 - mse: 0.7924 - val_loss: 0.6936 - val_mse: 0.6279 - val_r2: -99658370556494960456382405410816.0000\n",
      "Epoch 5/40\n",
      "\u001b[1m938/938\u001b[0m \u001b[32m━━━━━━━━━━━━━━━━━━━━\u001b[0m\u001b[37m\u001b[0m \u001b[1m3s\u001b[0m 3ms/step\n",
      " - val_r2: -117567154521154088777125543804928.0000\n",
      "\u001b[1m28/28\u001b[0m \u001b[32m━━━━━━━━━━━━━━━━━━━━\u001b[0m\u001b[37m\u001b[0m \u001b[1m6s\u001b[0m 218ms/step - loss: 0.7602 - mse: 0.6958 - val_loss: 0.6902 - val_mse: 0.6297 - val_r2: -117567154521154088777125543804928.0000\n",
      "Epoch 6/40\n",
      "\u001b[1m938/938\u001b[0m \u001b[32m━━━━━━━━━━━━━━━━━━━━\u001b[0m\u001b[37m\u001b[0m \u001b[1m3s\u001b[0m 3ms/step\n",
      " - val_r2: -53919799922255246275876644454400.0000\n",
      "\u001b[1m28/28\u001b[0m \u001b[32m━━━━━━━━━━━━━━━━━━━━\u001b[0m\u001b[37m\u001b[0m \u001b[1m6s\u001b[0m 217ms/step - loss: 0.7700 - mse: 0.7106 - val_loss: 0.6861 - val_mse: 0.6301 - val_r2: -53919799922255246275876644454400.0000\n",
      "Epoch 7/40\n",
      "\u001b[1m938/938\u001b[0m \u001b[32m━━━━━━━━━━━━━━━━━━━━\u001b[0m\u001b[37m\u001b[0m \u001b[1m3s\u001b[0m 3ms/step\n",
      " - val_r2: -64641156895578962507787690573824.0000\n",
      "\u001b[1m28/28\u001b[0m \u001b[32m━━━━━━━━━━━━━━━━━━━━\u001b[0m\u001b[37m\u001b[0m \u001b[1m6s\u001b[0m 206ms/step - loss: 0.7377 - mse: 0.6828 - val_loss: 0.6835 - val_mse: 0.6317 - val_r2: -64641156895578962507787690573824.0000\n",
      "Epoch 8/40\n",
      "\u001b[1m938/938\u001b[0m \u001b[32m━━━━━━━━━━━━━━━━━━━━\u001b[0m\u001b[37m\u001b[0m \u001b[1m3s\u001b[0m 3ms/step\n",
      " - val_r2: -91274207863864758025337863929856.0000\n",
      "\u001b[1m28/28\u001b[0m \u001b[32m━━━━━━━━━━━━━━━━━━━━\u001b[0m\u001b[37m\u001b[0m \u001b[1m6s\u001b[0m 211ms/step - loss: 0.6600 - mse: 0.6091 - val_loss: 0.6784 - val_mse: 0.6302 - val_r2: -91274207863864758025337863929856.0000\n",
      "Epoch 9/40\n",
      "\u001b[1m938/938\u001b[0m \u001b[32m━━━━━━━━━━━━━━━━━━━━\u001b[0m\u001b[37m\u001b[0m \u001b[1m2s\u001b[0m 3ms/step\n",
      " - val_r2: -45834353506666363396566261170176.0000\n",
      "\u001b[1m28/28\u001b[0m \u001b[32m━━━━━━━━━━━━━━━━━━━━\u001b[0m\u001b[37m\u001b[0m \u001b[1m5s\u001b[0m 194ms/step - loss: 0.6668 - mse: 0.6195 - val_loss: 0.6700 - val_mse: 0.6250 - val_r2: -45834353506666363396566261170176.0000\n",
      "Epoch 10/40\n",
      "\u001b[1m938/938\u001b[0m \u001b[32m━━━━━━━━━━━━━━━━━━━━\u001b[0m\u001b[37m\u001b[0m \u001b[1m2s\u001b[0m 3ms/step\n",
      " - val_r2: -137923008899915129945378701443072.0000\n",
      "\u001b[1m28/28\u001b[0m \u001b[32m━━━━━━━━━━━━━━━━━━━━\u001b[0m\u001b[37m\u001b[0m \u001b[1m5s\u001b[0m 193ms/step - loss: 0.6482 - mse: 0.6039 - val_loss: 0.6629 - val_mse: 0.6207 - val_r2: -137923008899915129945378701443072.0000\n",
      "Epoch 11/40\n",
      "\u001b[1m938/938\u001b[0m \u001b[32m━━━━━━━━━━━━━━━━━━━━\u001b[0m\u001b[37m\u001b[0m \u001b[1m2s\u001b[0m 2ms/step\n",
      " - val_r2: -270049477293314395389535262343168.0000\n",
      "\u001b[1m28/28\u001b[0m \u001b[32m━━━━━━━━━━━━━━━━━━━━\u001b[0m\u001b[37m\u001b[0m \u001b[1m5s\u001b[0m 189ms/step - loss: 0.6329 - mse: 0.5913 - val_loss: 0.6609 - val_mse: 0.6213 - val_r2: -270049477293314395389535262343168.0000\n",
      "Epoch 12/40\n",
      "\u001b[1m938/938\u001b[0m \u001b[32m━━━━━━━━━━━━━━━━━━━━\u001b[0m\u001b[37m\u001b[0m \u001b[1m2s\u001b[0m 3ms/step\n",
      " - val_r2: -131262427165009086630069733949440.0000\n",
      "\u001b[1m28/28\u001b[0m \u001b[32m━━━━━━━━━━━━━━━━━━━━\u001b[0m\u001b[37m\u001b[0m \u001b[1m5s\u001b[0m 192ms/step - loss: 0.6299 - mse: 0.5909 - val_loss: 0.6523 - val_mse: 0.6149 - val_r2: -131262427165009086630069733949440.0000\n",
      "Epoch 13/40\n",
      "\u001b[1m938/938\u001b[0m \u001b[32m━━━━━━━━━━━━━━━━━━━━\u001b[0m\u001b[37m\u001b[0m \u001b[1m2s\u001b[0m 2ms/step\n",
      " - val_r2: -219177285388381466791807811584000.0000\n",
      "\u001b[1m28/28\u001b[0m \u001b[32m━━━━━━━━━━━━━━━━━━━━\u001b[0m\u001b[37m\u001b[0m \u001b[1m5s\u001b[0m 189ms/step - loss: 0.5975 - mse: 0.5607 - val_loss: 0.6411 - val_mse: 0.6057 - val_r2: -219177285388381466791807811584000.0000\n",
      "Epoch 14/40\n",
      "\u001b[1m938/938\u001b[0m \u001b[32m━━━━━━━━━━━━━━━━━━━━\u001b[0m\u001b[37m\u001b[0m \u001b[1m3s\u001b[0m 3ms/step\n",
      " - val_r2: -117458043996571751488173501317120.0000\n",
      "\u001b[1m28/28\u001b[0m \u001b[32m━━━━━━━━━━━━━━━━━━━━\u001b[0m\u001b[37m\u001b[0m \u001b[1m6s\u001b[0m 200ms/step - loss: 0.6115 - mse: 0.5765 - val_loss: 0.6383 - val_mse: 0.6046 - val_r2: -117458043996571751488173501317120.0000\n",
      "Epoch 15/40\n",
      "\u001b[1m938/938\u001b[0m \u001b[32m━━━━━━━━━━━━━━━━━━━━\u001b[0m\u001b[37m\u001b[0m \u001b[1m2s\u001b[0m 3ms/step\n",
      " - val_r2: -137429996445845874361440910966784.0000\n",
      "\u001b[1m28/28\u001b[0m \u001b[32m━━━━━━━━━━━━━━━━━━━━\u001b[0m\u001b[37m\u001b[0m \u001b[1m5s\u001b[0m 193ms/step - loss: 0.6073 - mse: 0.5739 - val_loss: 0.6254 - val_mse: 0.5930 - val_r2: -137429996445845874361440910966784.0000\n",
      "Epoch 16/40\n",
      "\u001b[1m938/938\u001b[0m \u001b[32m━━━━━━━━━━━━━━━━━━━━\u001b[0m\u001b[37m\u001b[0m \u001b[1m2s\u001b[0m 3ms/step\n",
      " - val_r2: -84528803511612587157561368641536.0000\n",
      "\u001b[1m28/28\u001b[0m \u001b[32m━━━━━━━━━━━━━━━━━━━━\u001b[0m\u001b[37m\u001b[0m \u001b[1m5s\u001b[0m 198ms/step - loss: 0.5976 - mse: 0.5655 - val_loss: 0.6242 - val_mse: 0.5930 - val_r2: -84528803511612587157561368641536.0000\n",
      "Epoch 17/40\n",
      "\u001b[1m938/938\u001b[0m \u001b[32m━━━━━━━━━━━━━━━━━━━━\u001b[0m\u001b[37m\u001b[0m \u001b[1m2s\u001b[0m 2ms/step\n",
      " - val_r2: -170957840520549561096003970400256.0000\n",
      "\u001b[1m28/28\u001b[0m \u001b[32m━━━━━━━━━━━━━━━━━━━━\u001b[0m\u001b[37m\u001b[0m \u001b[1m5s\u001b[0m 186ms/step - loss: 0.5839 - mse: 0.5529 - val_loss: 0.6145 - val_mse: 0.5842 - val_r2: -170957840520549561096003970400256.0000\n",
      "Epoch 18/40\n",
      "\u001b[1m938/938\u001b[0m \u001b[32m━━━━━━━━━━━━━━━━━━━━\u001b[0m\u001b[37m\u001b[0m \u001b[1m2s\u001b[0m 2ms/step\n",
      " - val_r2: -105763314954660399764155456815104.0000\n",
      "\u001b[1m28/28\u001b[0m \u001b[32m━━━━━━━━━━━━━━━━━━━━\u001b[0m\u001b[37m\u001b[0m \u001b[1m5s\u001b[0m 189ms/step - loss: 0.5729 - mse: 0.5428 - val_loss: 0.6109 - val_mse: 0.5814 - val_r2: -105763314954660399764155456815104.0000\n",
      "Epoch 19/40\n",
      "\u001b[1m938/938\u001b[0m \u001b[32m━━━━━━━━━━━━━━━━━━━━\u001b[0m\u001b[37m\u001b[0m \u001b[1m2s\u001b[0m 3ms/step\n",
      " - val_r2: -211560351558591873094521081298944.0000\n",
      "\u001b[1m28/28\u001b[0m \u001b[32m━━━━━━━━━━━━━━━━━━━━\u001b[0m\u001b[37m\u001b[0m \u001b[1m5s\u001b[0m 190ms/step - loss: 0.5847 - mse: 0.5554 - val_loss: 0.6150 - val_mse: 0.5862 - val_r2: -211560351558591873094521081298944.0000\n",
      "Epoch 20/40\n",
      "\u001b[1m938/938\u001b[0m \u001b[32m━━━━━━━━━━━━━━━━━━━━\u001b[0m\u001b[37m\u001b[0m \u001b[1m2s\u001b[0m 3ms/step\n",
      " - val_r2: -104515505973340477097762887827456.0000\n",
      "\u001b[1m28/28\u001b[0m \u001b[32m━━━━━━━━━━━━━━━━━━━━\u001b[0m\u001b[37m\u001b[0m \u001b[1m5s\u001b[0m 198ms/step - loss: 0.5704 - mse: 0.5418 - val_loss: 0.5965 - val_mse: 0.5682 - val_r2: -104515505973340477097762887827456.0000\n",
      "Epoch 21/40\n",
      "\u001b[1m938/938\u001b[0m \u001b[32m━━━━━━━━━━━━━━━━━━━━\u001b[0m\u001b[37m\u001b[0m \u001b[1m2s\u001b[0m 2ms/step\n",
      " - val_r2: -83445383009012874735482530955264.0000\n",
      "\u001b[1m28/28\u001b[0m \u001b[32m━━━━━━━━━━━━━━━━━━━━\u001b[0m\u001b[37m\u001b[0m \u001b[1m5s\u001b[0m 192ms/step - loss: 0.5827 - mse: 0.5545 - val_loss: 0.5942 - val_mse: 0.5662 - val_r2: -83445383009012874735482530955264.0000\n",
      "Epoch 22/40\n",
      "\u001b[1m938/938\u001b[0m \u001b[32m━━━━━━━━━━━━━━━━━━━━\u001b[0m\u001b[37m\u001b[0m \u001b[1m2s\u001b[0m 2ms/step\n",
      " - val_r2: -130816202727858412051176833941504.0000\n",
      "\u001b[1m28/28\u001b[0m \u001b[32m━━━━━━━━━━━━━━━━━━━━\u001b[0m\u001b[37m\u001b[0m \u001b[1m5s\u001b[0m 188ms/step - loss: 0.5784 - mse: 0.5507 - val_loss: 0.5944 - val_mse: 0.5670 - val_r2: -130816202727858412051176833941504.0000\n",
      "Epoch 23/40\n",
      "\u001b[1m938/938\u001b[0m \u001b[32m━━━━━━━━━━━━━━━━━━━━\u001b[0m\u001b[37m\u001b[0m \u001b[1m2s\u001b[0m 3ms/step\n",
      " - val_r2: -144188072479011211209279960776704.0000\n",
      "\u001b[1m28/28\u001b[0m \u001b[32m━━━━━━━━━━━━━━━━━━━━\u001b[0m\u001b[37m\u001b[0m \u001b[1m5s\u001b[0m 197ms/step - loss: 0.5628 - mse: 0.5355 - val_loss: 0.5908 - val_mse: 0.5639 - val_r2: -144188072479011211209279960776704.0000\n",
      "Epoch 24/40\n",
      "\u001b[1m938/938\u001b[0m \u001b[32m━━━━━━━━━━━━━━━━━━━━\u001b[0m\u001b[37m\u001b[0m \u001b[1m2s\u001b[0m 3ms/step\n",
      " - val_r2: -120136511999267341603947780505600.0000\n",
      "\u001b[1m28/28\u001b[0m \u001b[32m━━━━━━━━━━━━━━━━━━━━\u001b[0m\u001b[37m\u001b[0m \u001b[1m6s\u001b[0m 200ms/step - loss: 0.5671 - mse: 0.5403 - val_loss: 0.5860 - val_mse: 0.5593 - val_r2: -120136511999267341603947780505600.0000\n",
      "Epoch 25/40\n",
      "\u001b[1m938/938\u001b[0m \u001b[32m━━━━━━━━━━━━━━━━━━━━\u001b[0m\u001b[37m\u001b[0m \u001b[1m2s\u001b[0m 3ms/step\n",
      " - val_r2: -122882758744359079032813055377408.0000\n",
      "\u001b[1m28/28\u001b[0m \u001b[32m━━━━━━━━━━━━━━━━━━━━\u001b[0m\u001b[37m\u001b[0m \u001b[1m5s\u001b[0m 194ms/step - loss: 0.5481 - mse: 0.5215 - val_loss: 0.5842 - val_mse: 0.5579 - val_r2: -122882758744359079032813055377408.0000\n",
      "Epoch 26/40\n",
      "\u001b[1m938/938\u001b[0m \u001b[32m━━━━━━━━━━━━━━━━━━━━\u001b[0m\u001b[37m\u001b[0m \u001b[1m2s\u001b[0m 3ms/step\n",
      " - val_r2: -156243744894314496741186197258240.0000\n",
      "\u001b[1m28/28\u001b[0m \u001b[32m━━━━━━━━━━━━━━━━━━━━\u001b[0m\u001b[37m\u001b[0m \u001b[1m5s\u001b[0m 191ms/step - loss: 0.5722 - mse: 0.5459 - val_loss: 0.5771 - val_mse: 0.5508 - val_r2: -156243744894314496741186197258240.0000\n",
      "Epoch 27/40\n",
      "\u001b[1m938/938\u001b[0m \u001b[32m━━━━━━━━━━━━━━━━━━━━\u001b[0m\u001b[37m\u001b[0m \u001b[1m2s\u001b[0m 2ms/step\n",
      " - val_r2: -97059088195259564538790705889280.0000\n",
      "\u001b[1m28/28\u001b[0m \u001b[32m━━━━━━━━━━━━━━━━━━━━\u001b[0m\u001b[37m\u001b[0m \u001b[1m5s\u001b[0m 186ms/step - loss: 0.5657 - mse: 0.5394 - val_loss: 0.5816 - val_mse: 0.5554 - val_r2: -97059088195259564538790705889280.0000\n",
      "Epoch 28/40\n",
      "\u001b[1m938/938\u001b[0m \u001b[32m━━━━━━━━━━━━━━━━━━━━\u001b[0m\u001b[37m\u001b[0m \u001b[1m2s\u001b[0m 3ms/step\n",
      " - val_r2: -157008736815336394317327549595648.0000\n",
      "\u001b[1m28/28\u001b[0m \u001b[32m━━━━━━━━━━━━━━━━━━━━\u001b[0m\u001b[37m\u001b[0m \u001b[1m6s\u001b[0m 202ms/step - loss: 0.5654 - mse: 0.5392 - val_loss: 0.5774 - val_mse: 0.5513 - val_r2: -157008736815336394317327549595648.0000\n",
      "Epoch 29/40\n",
      "\u001b[1m938/938\u001b[0m \u001b[32m━━━━━━━━━━━━━━━━━━━━\u001b[0m\u001b[37m\u001b[0m \u001b[1m2s\u001b[0m 2ms/step\n",
      " - val_r2: -149003571989553463290675918274560.0000\n",
      "\u001b[1m28/28\u001b[0m \u001b[32m━━━━━━━━━━━━━━━━━━━━\u001b[0m\u001b[37m\u001b[0m \u001b[1m5s\u001b[0m 191ms/step - loss: 0.5532 - mse: 0.5271 - val_loss: 0.5744 - val_mse: 0.5483 - val_r2: -149003571989553463290675918274560.0000\n",
      "Epoch 30/40\n",
      "\u001b[1m938/938\u001b[0m \u001b[32m━━━━━━━━━━━━━━━━━━━━\u001b[0m\u001b[37m\u001b[0m \u001b[1m2s\u001b[0m 2ms/step\n",
      " - val_r2: -123344648366541897934376936669184.0000\n",
      "\u001b[1m28/28\u001b[0m \u001b[32m━━━━━━━━━━━━━━━━━━━━\u001b[0m\u001b[37m\u001b[0m \u001b[1m5s\u001b[0m 189ms/step - loss: 0.5555 - mse: 0.5295 - val_loss: 0.5712 - val_mse: 0.5453 - val_r2: -123344648366541897934376936669184.0000\n",
      "Epoch 31/40\n",
      "\u001b[1m938/938\u001b[0m \u001b[32m━━━━━━━━━━━━━━━━━━━━\u001b[0m\u001b[37m\u001b[0m \u001b[1m2s\u001b[0m 2ms/step\n",
      " - val_r2: -162259178109192620708319297798144.0000\n",
      "\u001b[1m28/28\u001b[0m \u001b[32m━━━━━━━━━━━━━━━━━━━━\u001b[0m\u001b[37m\u001b[0m \u001b[1m5s\u001b[0m 185ms/step - loss: 0.5456 - mse: 0.5197 - val_loss: 0.5748 - val_mse: 0.5491 - val_r2: -162259178109192620708319297798144.0000\n",
      "Epoch 32/40\n",
      "\u001b[1m938/938\u001b[0m \u001b[32m━━━━━━━━━━━━━━━━━━━━\u001b[0m\u001b[37m\u001b[0m \u001b[1m2s\u001b[0m 2ms/step\n",
      " - val_r2: -108416862222579406252114198921216.0000\n",
      "\u001b[1m28/28\u001b[0m \u001b[32m━━━━━━━━━━━━━━━━━━━━\u001b[0m\u001b[37m\u001b[0m \u001b[1m5s\u001b[0m 185ms/step - loss: 0.5596 - mse: 0.5339 - val_loss: 0.5697 - val_mse: 0.5438 - val_r2: -108416862222579406252114198921216.0000\n",
      "Epoch 33/40\n",
      "\u001b[1m938/938\u001b[0m \u001b[32m━━━━━━━━━━━━━━━━━━━━\u001b[0m\u001b[37m\u001b[0m \u001b[1m2s\u001b[0m 2ms/step\n",
      " - val_r2: -192379005080381657382929884512256.0000\n",
      "\u001b[1m28/28\u001b[0m \u001b[32m━━━━━━━━━━━━━━━━━━━━\u001b[0m\u001b[37m\u001b[0m \u001b[1m5s\u001b[0m 178ms/step - loss: 0.5489 - mse: 0.5230 - val_loss: 0.5743 - val_mse: 0.5486 - val_r2: -192379005080381657382929884512256.0000\n",
      "Epoch 34/40\n",
      "\u001b[1m938/938\u001b[0m \u001b[32m━━━━━━━━━━━━━━━━━━━━\u001b[0m\u001b[37m\u001b[0m \u001b[1m2s\u001b[0m 2ms/step\n",
      " - val_r2: -175798552706433356203361040334848.0000\n",
      "\u001b[1m28/28\u001b[0m \u001b[32m━━━━━━━━━━━━━━━━━━━━\u001b[0m\u001b[37m\u001b[0m \u001b[1m5s\u001b[0m 178ms/step - loss: 0.5374 - mse: 0.5117 - val_loss: 0.5696 - val_mse: 0.5439 - val_r2: -175798552706433356203361040334848.0000\n",
      "Epoch 35/40\n",
      "\u001b[1m938/938\u001b[0m \u001b[32m━━━━━━━━━━━━━━━━━━━━\u001b[0m\u001b[37m\u001b[0m \u001b[1m2s\u001b[0m 2ms/step\n",
      " - val_r2: -191190768758748711053434338410496.0000\n",
      "\u001b[1m28/28\u001b[0m \u001b[32m━━━━━━━━━━━━━━━━━━━━\u001b[0m\u001b[37m\u001b[0m \u001b[1m5s\u001b[0m 188ms/step - loss: 0.5475 - mse: 0.5218 - val_loss: 0.5679 - val_mse: 0.5423 - val_r2: -191190768758748711053434338410496.0000\n",
      "Epoch 36/40\n",
      "\u001b[1m938/938\u001b[0m \u001b[32m━━━━━━━━━━━━━━━━━━━━\u001b[0m\u001b[37m\u001b[0m \u001b[1m2s\u001b[0m 2ms/step\n",
      " - val_r2: -118719254089443853788938531504128.0000\n",
      "\u001b[1m28/28\u001b[0m \u001b[32m━━━━━━━━━━━━━━━━━━━━\u001b[0m\u001b[37m\u001b[0m \u001b[1m5s\u001b[0m 180ms/step - loss: 0.5459 - mse: 0.5203 - val_loss: 0.5678 - val_mse: 0.5422 - val_r2: -118719254089443853788938531504128.0000\n",
      "Epoch 37/40\n",
      "\u001b[1m938/938\u001b[0m \u001b[32m━━━━━━━━━━━━━━━━━━━━\u001b[0m\u001b[37m\u001b[0m \u001b[1m2s\u001b[0m 2ms/step\n",
      " - val_r2: -166326730954296401167626922885120.0000\n",
      "\u001b[1m28/28\u001b[0m \u001b[32m━━━━━━━━━━━━━━━━━━━━\u001b[0m\u001b[37m\u001b[0m \u001b[1m5s\u001b[0m 184ms/step - loss: 0.5429 - mse: 0.5173 - val_loss: 0.5826 - val_mse: 0.5572 - val_r2: -166326730954296401167626922885120.0000\n",
      "Epoch 38/40\n",
      "\u001b[1m938/938\u001b[0m \u001b[32m━━━━━━━━━━━━━━━━━━━━\u001b[0m\u001b[37m\u001b[0m \u001b[1m2s\u001b[0m 2ms/step\n",
      " - val_r2: -214115485439395376718093630832640.0000\n",
      "\u001b[1m28/28\u001b[0m \u001b[32m━━━━━━━━━━━━━━━━━━━━\u001b[0m\u001b[37m\u001b[0m \u001b[1m5s\u001b[0m 180ms/step - loss: 0.5431 - mse: 0.5177 - val_loss: 0.5727 - val_mse: 0.5473 - val_r2: -214115485439395376718093630832640.0000\n",
      "Epoch 39/40\n",
      "\u001b[1m938/938\u001b[0m \u001b[32m━━━━━━━━━━━━━━━━━━━━\u001b[0m\u001b[37m\u001b[0m \u001b[1m2s\u001b[0m 2ms/step\n",
      " - val_r2: -129582038819115032972691534512128.0000\n",
      "\u001b[1m28/28\u001b[0m \u001b[32m━━━━━━━━━━━━━━━━━━━━\u001b[0m\u001b[37m\u001b[0m \u001b[1m5s\u001b[0m 179ms/step - loss: 0.5571 - mse: 0.5317 - val_loss: 0.5694 - val_mse: 0.5439 - val_r2: -129582038819115032972691534512128.0000\n",
      "Epoch 40/40\n",
      "\u001b[1m938/938\u001b[0m \u001b[32m━━━━━━━━━━━━━━━━━━━━\u001b[0m\u001b[37m\u001b[0m \u001b[1m2s\u001b[0m 2ms/step\n",
      " - val_r2: -107345198691260871342805082963968.0000\n",
      "\u001b[1m28/28\u001b[0m \u001b[32m━━━━━━━━━━━━━━━━━━━━\u001b[0m\u001b[37m\u001b[0m \u001b[1m5s\u001b[0m 181ms/step - loss: 0.5439 - mse: 0.5184 - val_loss: 0.5664 - val_mse: 0.5408 - val_r2: -107345198691260871342805082963968.0000\n"
     ]
    }
   ],
   "source": [
    "# Define the model\n",
    "def build_model(input_shape, output_shape):\n",
    "    inputs = layers.Input(shape=(input_shape,))\n",
    "    x = layers.Dense(512, activation='relu', kernel_regularizer=regularizers.l2(1e-4))(inputs)\n",
    "    x = layers.BatchNormalization()(x)\n",
    "    x = layers.Dropout(0.3)(x)\n",
    "    x = layers.Dense(256, activation='relu', kernel_regularizer=regularizers.l2(1e-4))(x)\n",
    "    x = layers.BatchNormalization()(x)\n",
    "    x = layers.Dropout(0.3)(x)\n",
    "    outputs = layers.Dense(output_shape, activation='linear')(x)\n",
    "    \n",
    "    model = models.Model(inputs=inputs, outputs=outputs)\n",
    "    model.compile(optimizer='adam', loss='mse', metrics=['mse'])\n",
    "    return model\n",
    "\n",
    "# Build the model\n",
    "model = build_model(X_train_scaled.shape[1], y_train_scaled.shape[1])\n",
    "\n",
    "# Define callbacks\n",
    "early_stopping = EarlyStopping(monitor='val_loss', patience=10, restore_best_weights=True)\n",
    "\n",
    "# Custom R2 score callback\n",
    "class R2ScoreCallback(tf.keras.callbacks.Callback):\n",
    "    def __init__(self, validation_data):\n",
    "        super().__init__()\n",
    "        self.validation_data = validation_data\n",
    "\n",
    "    def on_epoch_end(self, epoch, logs=None):\n",
    "        val_pred = self.model.predict(self.validation_data[0])\n",
    "        val_true = self.validation_data[1]\n",
    "        r2 = r2_score(val_true, val_pred)\n",
    "        print(f\" - val_r2: {r2:.4f}\")\n",
    "        logs['val_r2'] = r2\n",
    "\n",
    "# Train the model\n",
    "history = model.fit(\n",
    "    X_train_scaled, y_train_scaled,\n",
    "    validation_split=0.2,\n",
    "    epochs=40,\n",
    "    batch_size=2048,\n",
    "    callbacks=[early_stopping, R2ScoreCallback((X_test_scaled, y_test_scaled))],\n",
    "    verbose=1\n",
    ")\n",
    "\n",
    "# Save the trained model\n",
    "model.save('/path/to/best_model_dataframe.h5')"
   ]
  },
  {
   "cell_type": "code",
   "execution_count": 7,
   "metadata": {
    "execution": {
     "iopub.execute_input": "2024-12-30T22:43:30.784238Z",
     "iopub.status.busy": "2024-12-30T22:43:30.783795Z",
     "iopub.status.idle": "2024-12-30T22:43:31.458833Z",
     "shell.execute_reply": "2024-12-30T22:43:31.457632Z",
     "shell.execute_reply.started": "2024-12-30T22:43:30.784204Z"
    },
    "trusted": true
   },
   "outputs": [
    {
     "data": {
      "image/png": "[encoded data removed]",
      "text/plain": [
       "<Figure size 1200x400 with 2 Axes>"
      ]
     },
     "metadata": {},
     "output_type": "display_data"
    }
   ],
   "source": [
    "# Plotting learning curves\n",
    "plt.figure(figsize=(12, 4))\n",
    "plt.subplot(1, 2, 1)\n",
    "plt.plot(history.history['loss'], label='Training Loss')\n",
    "plt.plot(history.history['val_loss'], label='Validation Loss')\n",
    "plt.title('Model Loss')\n",
    "plt.xlabel('Epoch')\n",
    "plt.ylabel('Loss')\n",
    "plt.legend()\n",
    "\n",
    "plt.subplot(1, 2, 2)\n",
    "plt.plot(history.history['val_r2'], label='Validation R2 Score')\n",
    "plt.title('Model R2 Score')\n",
    "plt.xlabel('Epoch')\n",
    "plt.ylabel('R2 Score')\n",
    "plt.legend()\n",
    "\n",
    "plt.tight_layout()\n",
    "plt.show()"
   ]
  },
  {
   "cell_type": "code",
   "execution_count": 8,
   "metadata": {
    "execution": {
     "iopub.execute_input": "2024-12-30T22:43:38.895972Z",
     "iopub.status.busy": "2024-12-30T22:43:38.895469Z",
     "iopub.status.idle": "2024-12-30T22:43:50.793678Z",
     "shell.execute_reply": "2024-12-30T22:43:50.792670Z",
     "shell.execute_reply.started": "2024-12-30T22:43:38.895919Z"
    },
    "trusted": true
   },
   "outputs": [
    {
     "name": "stdout",
     "output_type": "stream",
     "text": [
      "\u001b[1m938/938\u001b[0m \u001b[32m━━━━━━━━━━━━━━━━━━━━\u001b[0m\u001b[37m\u001b[0m \u001b[1m3s\u001b[0m 3ms/step - loss: 0.4978 - mse: 0.4721\n",
      "Test Loss: 0.5132\n",
      "Test MSE: 0.4876\n",
      "\u001b[1m938/938\u001b[0m \u001b[32m━━━━━━━━━━━━━━━━━━━━\u001b[0m\u001b[37m\u001b[0m \u001b[1m2s\u001b[0m 3ms/step\n",
      "\u001b[1m938/938\u001b[0m \u001b[32m━━━━━━━━━━━━━━━━━━━━\u001b[0m\u001b[37m\u001b[0m \u001b[1m3s\u001b[0m 3ms/step - loss: 0.4978 - mse: 0.4721\n",
      "Test Loss: 0.5132\n",
      "Test MSE: 0.4876\n",
      "\u001b[1m938/938\u001b[0m \u001b[32m━━━━━━━━━━━━━━━━━━━━\u001b[0m\u001b[37m\u001b[0m \u001b[1m2s\u001b[0m 2ms/step\n",
      "Test R2 Score: -2186265622.7375\n"
     ]
    }
   ],
   "source": [
    "# Evaluate the model on the test set\n",
    "test_loss, test_mse = model.evaluate(X_test_scaled, y_test_scaled)\n",
    "print(f\"Test Loss: {test_loss:.4f}\")\n",
    "print(f\"Test MSE: {test_mse:.4f}\")\n",
    "\n",
    "# Make predictions on the test set\n",
    "y_pred_scaled = model.predict(X_test_scaled)\n",
    "y_pred = scaler_y.inverse_transform(y_pred_scaled)\n",
    "\n",
    "# Evaluate the model on the test set\n",
    "test_loss, test_mse = model.evaluate(X_test_scaled, y_test_scaled)\n",
    "print(f\"Test Loss: {test_loss:.4f}\")\n",
    "print(f\"Test MSE: {test_mse:.4f}\")\n",
    "\n",
    "# Make predictions on the test set\n",
    "y_pred_scaled = model.predict(X_test_scaled)\n",
    "y_pred = scaler_y.inverse_transform(y_pred_scaled)\n",
    "\n",
    "# Calculate R2 score for the test set\n",
    "test_r2 = r2_score(y_test, y_pred)\n",
    "print(f\"Test R2 Score: {test_r2:.4f}\")"
   ]
  },
  {
   "cell_type": "markdown",
   "metadata": {},
   "source": [
    "#### XGBoost"
   ]
  },
  {
   "cell_type": "code",
   "execution_count": 10,
   "metadata": {
    "execution": {
     "iopub.execute_input": "2024-12-30T22:44:14.677061Z",
     "iopub.status.busy": "2024-12-30T22:44:14.676603Z",
     "iopub.status.idle": "2024-12-30T22:44:15.295941Z",
     "shell.execute_reply": "2024-12-30T22:44:15.294901Z",
     "shell.execute_reply.started": "2024-12-30T22:44:14.676999Z"
    },
    "trusted": true
   },
   "outputs": [],
   "source": [
    "import torch\n",
    "from torch.utils.data import DataLoader, TensorDataset\n",
    "from statistics import mean\n",
    "from xgboost import XGBRegressor\n",
    "from sklearn.metrics import r2_score\n",
    "from sklearn.preprocessing import StandardScaler\n",
    "from sklearn.metrics import mean_squared_error\n",
    "\n",
    "train_df = pl.scan_csv(f'/kaggle/input/leap-atmospheric-physics-ai-climsim/train.csv')\n",
    "fetch_size =1000\n",
    "input_columns = train_df.columns[1:557]\n",
    "output_columns = train_df.columns[557:]\n",
    "X = train_df.select(pl.col(input_columns)).fetch(fetch_size)\n",
    "Y = train_df.select(pl.col(output_columns)).fetch(fetch_size)\n",
    "big = train_df.select(pl.col(\"*\")).fetch(fetch_size)"
   ]
  },
  {
   "cell_type": "code",
   "execution_count": 17,
   "metadata": {
    "execution": {
     "iopub.execute_input": "2024-12-30T22:45:14.195707Z",
     "iopub.status.busy": "2024-12-30T22:45:14.195320Z",
     "iopub.status.idle": "2024-12-30T22:45:14.205374Z",
     "shell.execute_reply": "2024-12-30T22:45:14.204085Z",
     "shell.execute_reply.started": "2024-12-30T22:45:14.195682Z"
    },
    "trusted": true
   },
   "outputs": [],
   "source": [
    "def adicionar_agua_v_erro_info(big: pl.DataFrame, margen = 0.00005) ->pl.DataFrame:\n",
    "    gravidade = 9.80665\n",
    "    ptend_vapor = big.select(pl.col(\"^ptend_q0001.*$\")).to_numpy()\n",
    "    ptend_liquido = big.select(pl.col(\"^ptend_q0002.*$\")).to_numpy()\n",
    "    ptend_gelo = big.select(pl.col(\"^ptend_q0003.*$\")).to_numpy()\n",
    "    \n",
    "    state_vapor = big.select(pl.col(\"^state_q0001.*$\")).to_numpy()\n",
    "    state_liquido = big.select(pl.col(\"^state_q0002.*$\")).to_numpy()\n",
    "    state_gelo = big.select(pl.col(\"^state_q0003.*$\")).to_numpy()\n",
    "    \n",
    "    precipitacao_agua = big.select(pl.col(\"^cam_out_PRECC.*$\")).to_numpy().flatten()\n",
    "    precipitacao_neve = big.select(pl.col(\"^cam_out_PRECSC.*$\")).to_numpy().flatten()\n",
    "    \n",
    "    \n",
    "    pressao = big.select(pl.col(\"^state_ps.*$\")).to_numpy().flatten()\n",
    "    volume_inicial = np.sum(state_vapor + state_liquido + state_gelo,axis=1)*(pressao/gravidade)\n",
    "    volume_predito = np.sum(ptend_vapor + ptend_liquido + ptend_gelo,axis=1)*(pressao/gravidade) + precipitacao_agua + precipitacao_neve\n",
    "    \n",
    "    \n",
    "    erro_volumetrico = abs((volume_predito - volume_inicial)/volume_inicial +1)\n",
    "    flag_erro_volumetrico = (erro_volumetrico >margen).astype(np.int8)\n",
    "    big = big.with_columns([\n",
    "        pl.Series(\"erro_volumetrico\",erro_volumetrico),\n",
    "        pl.Series(\"flag_erro_volumetrico\",flag_erro_volumetrico)\n",
    "    ])\n",
    "    return big"
   ]
  },
  {
   "cell_type": "code",
   "execution_count": 18,
   "metadata": {
    "execution": {
     "iopub.execute_input": "2024-12-30T22:45:15.041042Z",
     "iopub.status.busy": "2024-12-30T22:45:15.040678Z",
     "iopub.status.idle": "2024-12-30T22:45:15.083684Z",
     "shell.execute_reply": "2024-12-30T22:45:15.082292Z",
     "shell.execute_reply.started": "2024-12-30T22:45:15.041014Z"
    },
    "trusted": true
   },
   "outputs": [],
   "source": [
    "def custom_log_transform(column):\n",
    "    \"\"\"Applies a log1p transformation to a given column with an adjustment for negative values.\"\"\"\n",
    "    min_value = column.min()\n",
    "    transformed_column = np.log1p(column - min_value + 1)  # log1p is log(1 + x) which is stable for small x\n",
    "    return transformed_column\n",
    "\n",
    "def log_transformation(data):\n",
    "    \"\"\"Applies custom log transformation to each column in the data.\"\"\"\n",
    "    data_log_transformed = np.array(data, dtype=\"float64\")\n",
    "    for i in range(data.shape[1]):\n",
    "        data_log_transformed[:, i] = custom_log_transform(data[:, i])\n",
    "    return data_log_transformed\n",
    "\n",
    "def preprocess_data(X, Y, transform=True, log=False):\n",
    "    \"\"\"Preprocesses the data by scaling and optionally applying log transformation.\"\"\"\n",
    "    X_np = X.to_numpy()\n",
    "    Y_np = Y.to_numpy()\n",
    "\n",
    "    if transform:\n",
    "        # Standardize features\n",
    "        X_scaler = StandardScaler().fit(X_np)\n",
    "        Y_scaler = StandardScaler().fit(Y_np)\n",
    "\n",
    "        X_transformed = X_scaler.transform(X_np)\n",
    "        Y_transformed = Y_scaler.transform(Y_np)\n",
    "\n",
    "        if log:\n",
    "            X_transformed = log_transformation(X_transformed)\n",
    "            Y_transformed = log_transformation(Y_transformed)\n",
    "        \n",
    "        # Clean up\n",
    "        del X, Y, X_np, Y_np\n",
    "\n",
    "    else:\n",
    "        # Split data into training and validation sets without transformation\n",
    "        #X_train, X_val, Y_train, Y_val = train_test_split(X_np, Y_np, test_size=0.2, random_state=42)\n",
    "        \n",
    "        # Clean up\n",
    "        del X, Y, X_np, Y_np\n",
    "\n",
    "    return X_transformed, Y_transformed\n",
    "\n",
    "# Example usage\n",
    "# Assuming X and Y are defined and are Polars DataFrames\n",
    "X_process, Y_process = preprocess_data(X, Y, transform=True, log=False)\n",
    "X_train, X_val, Y_train, Y_val = train_test_split(X_process, Y_process, test_size=0.2, random_state=42)"
   ]
  },
  {
   "cell_type": "code",
   "execution_count": 19,
   "metadata": {
    "execution": {
     "iopub.execute_input": "2024-12-30T22:45:17.579862Z",
     "iopub.status.busy": "2024-12-30T22:45:17.579467Z",
     "iopub.status.idle": "2024-12-30T22:45:17.606087Z",
     "shell.execute_reply": "2024-12-30T22:45:17.605118Z",
     "shell.execute_reply.started": "2024-12-30T22:45:17.579831Z"
    },
    "trusted": true
   },
   "outputs": [],
   "source": [
    "big=adicionar_agua_v_erro_info(big)"
   ]
  },
  {
   "cell_type": "code",
   "execution_count": 20,
   "metadata": {
    "execution": {
     "iopub.execute_input": "2024-12-30T22:45:18.962961Z",
     "iopub.status.busy": "2024-12-30T22:45:18.962579Z",
     "iopub.status.idle": "2024-12-30T22:45:19.175238Z",
     "shell.execute_reply": "2024-12-30T22:45:19.174075Z",
     "shell.execute_reply.started": "2024-12-30T22:45:18.962931Z"
    },
    "trusted": true
   },
   "outputs": [
    {
     "data": {
      "text/plain": [
       "{'whiskers': [<matplotlib.lines.Line2D at 0x7dc1c2beaf50>,\n",
       "  <matplotlib.lines.Line2D at 0x7dbfe1110070>],\n",
       " 'caps': [<matplotlib.lines.Line2D at 0x7dbfe11103d0>,\n",
       "  <matplotlib.lines.Line2D at 0x7dbfe1110700>],\n",
       " 'boxes': [<matplotlib.lines.Line2D at 0x7dbfe101a920>],\n",
       " 'medians': [<matplotlib.lines.Line2D at 0x7dbfe11106d0>],\n",
       " 'fliers': [<matplotlib.lines.Line2D at 0x7dbfe1110be0>],\n",
       " 'means': []}"
      ]
     },
     "execution_count": 20,
     "metadata": {},
     "output_type": "execute_result"
    },
    {
     "data": {
      "image/png": "[encoded data removed]",
      "text/plain": [
       "<Figure size 640x480 with 1 Axes>"
      ]
     },
     "metadata": {},
     "output_type": "display_data"
    }
   ],
   "source": [
    "plt.boxplot(big[\"erro_volumetrico\"])\n"
   ]
  },
  {
   "cell_type": "code",
   "execution_count": 21,
   "metadata": {
    "execution": {
     "iopub.execute_input": "2024-12-30T22:45:21.156394Z",
     "iopub.status.busy": "2024-12-30T22:45:21.155975Z",
     "iopub.status.idle": "2024-12-30T22:45:21.176648Z",
     "shell.execute_reply": "2024-12-30T22:45:21.175563Z",
     "shell.execute_reply.started": "2024-12-30T22:45:21.156364Z"
    },
    "trusted": true
   },
   "outputs": [
    {
     "data": {
      "text/plain": [
       "0"
      ]
     },
     "execution_count": 21,
     "metadata": {},
     "output_type": "execute_result"
    }
   ],
   "source": [
    "sum(big[\"flag_erro_volumetrico\"]>0)"
   ]
  },
  {
   "cell_type": "code",
   "execution_count": 22,
   "metadata": {
    "execution": {
     "iopub.execute_input": "2024-12-30T22:45:21.981124Z",
     "iopub.status.busy": "2024-12-30T22:45:21.980732Z",
     "iopub.status.idle": "2024-12-30T22:45:22.188941Z",
     "shell.execute_reply": "2024-12-30T22:45:22.187802Z",
     "shell.execute_reply.started": "2024-12-30T22:45:21.981094Z"
    },
    "trusted": true
   },
   "outputs": [
    {
     "data": {
      "text/plain": [
       "{'whiskers': [<matplotlib.lines.Line2D at 0x7dc1109969b0>,\n",
       "  <matplotlib.lines.Line2D at 0x7dc110996c50>],\n",
       " 'caps': [<matplotlib.lines.Line2D at 0x7dc110996ef0>,\n",
       "  <matplotlib.lines.Line2D at 0x7dc110997190>],\n",
       " 'boxes': [<matplotlib.lines.Line2D at 0x7dc110996710>],\n",
       " 'medians': [<matplotlib.lines.Line2D at 0x7dc110997430>],\n",
       " 'fliers': [<matplotlib.lines.Line2D at 0x7dc1109976d0>],\n",
       " 'means': []}"
      ]
     },
     "execution_count": 22,
     "metadata": {},
     "output_type": "execute_result"
    },
    {
     "data": {
      "image/png": "[encoded data removed]",
      "text/plain": [
       "<Figure size 640x480 with 1 Axes>"
      ]
     },
     "metadata": {},
     "output_type": "display_data"
    }
   ],
   "source": [
    "plt.boxplot(big[\"erro_volumetrico\"])"
   ]
  },
  {
   "cell_type": "code",
   "execution_count": 23,
   "metadata": {
    "execution": {
     "iopub.execute_input": "2024-12-30T22:45:24.062220Z",
     "iopub.status.busy": "2024-12-30T22:45:24.061789Z",
     "iopub.status.idle": "2024-12-30T22:48:19.446459Z",
     "shell.execute_reply": "2024-12-30T22:48:19.445187Z",
     "shell.execute_reply.started": "2024-12-30T22:45:24.062185Z"
    },
    "trusted": true
   },
   "outputs": [
    {
     "name": "stderr",
     "output_type": "stream",
     "text": [
      "/opt/conda/lib/python3.10/site-packages/xgboost/core.py:160: UserWarning: [22:45:24] WARNING: /workspace/src/context.cc:44: No visible GPU is found, setting device to CPU.\n",
      "  warnings.warn(smsg, UserWarning)\n"
     ]
    },
    {
     "name": "stdout",
     "output_type": "stream",
     "text": [
      "0.9655256452963115,0.03215382650786335\n"
     ]
    }
   ],
   "source": [
    "# Initialize model\n",
    "model = XGBRegressor(\n",
    "    n_estimators= 1150,\n",
    "    max_depth=56,\n",
    "    learning_rate=0.003,\n",
    "    colsample_bytree=0.9,\n",
    "    subsample=0.8,\n",
    "    min_child_weight=1,\n",
    "    random_state=42,\n",
    "    objective='reg:squarederror',\n",
    "    n_jobs=-1,  # Use all available cores\n",
    "    tree_method='hist',\n",
    "    device ='cuda',\n",
    ")\n",
    "\n",
    "r2_vector = []\n",
    "mse_vector = []\n",
    "\n",
    "y_pred_df = pd.DataFrame()\n",
    "out_i =360\n",
    "out_f=361\n",
    "for i in range(out_i, out_f):\n",
    "    \n",
    "    model.fit(X_train, Y_train[:, i]) \n",
    "    y_pred = model.predict(X_val)\n",
    "    y_pred_df[f'y_pred_{i}'] = y_pred\n",
    "    \n",
    "    # Calculate r\n",
    "    r2 = r2_score(Y_val[:, i], y_pred)\n",
    "    mse = mean_squared_error(Y_val[:, i], y_pred)\n",
    "    print(f\"{r2},{mse}\")\n",
    "    # Append scores to the lists\n",
    "    r2_vector.append(r2)\n",
    "    mse_vector.append(mse)\n",
    "\n",
    "# Optionally convert lists to DataFrame for r2 and mse scores\n",
    "r2_df = pd.DataFrame({'r2_score': r2_vector})\n",
    "mse_df = pd.DataFrame({'mse_score': mse_vector})\n",
    "\n",
    "# Now y_pred_df contains all the predictions for each target variable"
   ]
  },
  {
   "cell_type": "code",
   "execution_count": 24,
   "metadata": {
    "execution": {
     "iopub.execute_input": "2024-12-30T22:48:44.745199Z",
     "iopub.status.busy": "2024-12-30T22:48:44.744818Z",
     "iopub.status.idle": "2024-12-30T22:48:45.008403Z",
     "shell.execute_reply": "2024-12-30T22:48:45.007339Z",
     "shell.execute_reply.started": "2024-12-30T22:48:44.745171Z"
    },
    "trusted": true
   },
   "outputs": [
    {
     "data": {
      "image/png": "[encoded data removed]",
      "text/plain": [
       "<Figure size 2000x600 with 1 Axes>"
      ]
     },
     "metadata": {},
     "output_type": "display_data"
    }
   ],
   "source": [
    "columns = output_columns[out_i:out_f]\n",
    "plt.figure(figsize=(20, 6))\n",
    "plt.plot(columns, mse_vector, label='MSE', color='blue', marker='o')\n",
    "plt.plot(columns, r2_vector, label='R²', color='red', marker='x')\n",
    "\n",
    "plt.xlabel('Column Number')\n",
    "plt.ylabel('Score')\n",
    "plt.title('MSE and R² for each column')\n",
    "plt.legend()\n",
    "plt.grid(True)\n",
    "plt.show()"
   ]
  },
  {
   "cell_type": "markdown",
   "metadata": {},
   "source": [
    "#### Multi-Layer Perceptron"
   ]
  },
  {
   "cell_type": "code",
   "execution_count": 25,
   "metadata": {
    "execution": {
     "iopub.execute_input": "2024-12-30T22:48:54.410119Z",
     "iopub.status.busy": "2024-12-30T22:48:54.409751Z",
     "iopub.status.idle": "2024-12-30T22:49:04.375146Z",
     "shell.execute_reply": "2024-12-30T22:49:04.373710Z",
     "shell.execute_reply.started": "2024-12-30T22:48:54.410092Z"
    },
    "trusted": true
   },
   "outputs": [],
   "source": [
    "leap_raw_df = pl.scan_csv(f'/kaggle/input/leap-atmospheric-physics-ai-climsim/train.csv')\n",
    "fetch_size =100000\n",
    "input_columns = leap_raw_df.columns[1:557]\n",
    "output_columns = leap_raw_df.columns[557:]\n",
    "\n",
    "X = leap_raw_df.select(pl.col(input_columns)).fetch(fetch_size)\n",
    "Y = leap_raw_df.select(pl.col(output_columns)).fetch(fetch_size)"
   ]
  },
  {
   "cell_type": "code",
   "execution_count": 26,
   "metadata": {
    "execution": {
     "iopub.execute_input": "2024-12-30T22:49:11.769313Z",
     "iopub.status.busy": "2024-12-30T22:49:11.768922Z",
     "iopub.status.idle": "2024-12-30T22:49:13.788506Z",
     "shell.execute_reply": "2024-12-30T22:49:13.787354Z",
     "shell.execute_reply.started": "2024-12-30T22:49:11.769283Z"
    },
    "trusted": true
   },
   "outputs": [],
   "source": [
    "from sklearn.preprocessing import StandardScaler\n",
    "from sklearn.preprocessing import FunctionTransformer\n",
    "constant_epson = 1\n",
    "constant_epson_r = 1\n",
    "def log_transform(x):\n",
    "    return (np.log1p(x+constant_epson) +constant_epson_r)\n",
    "\n",
    "# Convert Polars DataFrame to NumPy array\n",
    "X_np = X.to_numpy()\n",
    "Y_np = Y.to_numpy()\n",
    "\n",
    "transformer_X = StandardScaler().fit(X_np)\n",
    "transformer_Y = StandardScaler().fit(Y_np)\n",
    "\n",
    "X_transformed = transformer_X.transform(X_np)\n",
    "Y_transformed = transformer_Y.transform(Y_np)\n",
    "\n",
    "\n",
    "\n",
    "# Log\n",
    "#transformer =FunctionTransformer(log_transform)\n",
    "#X_transformado=transformer.transform(X_np)\n",
    "#Y_transformado=transformer.transform(Y_np)"
   ]
  },
  {
   "cell_type": "code",
   "execution_count": 27,
   "metadata": {
    "execution": {
     "iopub.execute_input": "2024-12-30T22:49:22.709015Z",
     "iopub.status.busy": "2024-12-30T22:49:22.708627Z",
     "iopub.status.idle": "2024-12-30T22:49:22.715593Z",
     "shell.execute_reply": "2024-12-30T22:49:22.714041Z",
     "shell.execute_reply.started": "2024-12-30T22:49:22.708984Z"
    },
    "trusted": true
   },
   "outputs": [
    {
     "name": "stdout",
     "output_type": "stream",
     "text": [
      "float64\n",
      "float64\n"
     ]
    }
   ],
   "source": [
    "print(X_transformed.dtype)\n",
    "print(Y_transformed.dtype)"
   ]
  },
  {
   "cell_type": "code",
   "execution_count": 28,
   "metadata": {
    "execution": {
     "iopub.execute_input": "2024-12-30T22:49:24.181790Z",
     "iopub.status.busy": "2024-12-30T22:49:24.181425Z",
     "iopub.status.idle": "2024-12-30T22:49:24.976388Z",
     "shell.execute_reply": "2024-12-30T22:49:24.975277Z",
     "shell.execute_reply.started": "2024-12-30T22:49:24.181760Z"
    },
    "trusted": true
   },
   "outputs": [],
   "source": [
    "import torch\n",
    "import torch.nn as nn\n",
    "import torch.optim as optim\n",
    "\n",
    "X_tensor = torch.tensor(X_transformed, dtype=torch.float64)\n",
    "Y_tensor = torch.tensor(Y_transformed, dtype=torch.float64)"
   ]
  },
  {
   "cell_type": "code",
   "execution_count": 29,
   "metadata": {
    "execution": {
     "iopub.execute_input": "2024-12-30T22:49:26.979852Z",
     "iopub.status.busy": "2024-12-30T22:49:26.979479Z",
     "iopub.status.idle": "2024-12-30T22:49:26.985448Z",
     "shell.execute_reply": "2024-12-30T22:49:26.984285Z",
     "shell.execute_reply.started": "2024-12-30T22:49:26.979826Z"
    },
    "trusted": true
   },
   "outputs": [],
   "source": [
    "from torch.utils.data import DataLoader, TensorDataset\n",
    "from sklearn.model_selection import train_test_split\n",
    "from sklearn.metrics import r2_score"
   ]
  },
  {
   "cell_type": "code",
   "execution_count": 30,
   "metadata": {
    "execution": {
     "iopub.execute_input": "2024-12-30T22:49:30.243712Z",
     "iopub.status.busy": "2024-12-30T22:49:30.243020Z",
     "iopub.status.idle": "2024-12-30T22:49:32.718207Z",
     "shell.execute_reply": "2024-12-30T22:49:32.717262Z",
     "shell.execute_reply.started": "2024-12-30T22:49:30.243678Z"
    },
    "trusted": true
   },
   "outputs": [],
   "source": [
    "X_train, X_val, Y_train,Y_val = train_test_split(X_tensor, Y_tensor, test_size=0.2, random_state=42)\n",
    "train_dataset = TensorDataset(X_train, Y_train)\n",
    "val_dataset = TensorDataset(X_val, Y_val)\n",
    "\n",
    "def create_dataloader(dataset, batch_size):\n",
    "    return DataLoader(dataset, batch_size=batch_size, shuffle=True)"
   ]
  },
  {
   "cell_type": "code",
   "execution_count": 32,
   "metadata": {
    "execution": {
     "iopub.execute_input": "2024-12-30T23:14:42.663902Z",
     "iopub.status.busy": "2024-12-30T23:14:42.663493Z",
     "iopub.status.idle": "2024-12-30T23:46:41.976605Z",
     "shell.execute_reply": "2024-12-30T23:46:41.975329Z",
     "shell.execute_reply.started": "2024-12-30T23:14:42.663873Z"
    },
    "scrolled": true,
    "trusted": true
   },
   "outputs": [
    {
     "name": "stderr",
     "output_type": "stream",
     "text": [
      "[I 2024-12-30 23:14:42,679] A new study created in memory with name: no-name-1af18056-7277-497d-af65-75be7fd5e94a\n",
      "/tmp/ipykernel_33/1142237259.py:18: FutureWarning: suggest_loguniform has been deprecated in v3.0.0. This feature will be removed in v6.0.0. See https://github.com/optuna/optuna/releases/tag/v3.0.0. Use suggest_float(..., log=True) instead.\n",
      "  learning_rate = trial.suggest_loguniform('learning_rate', 2.5e-4, 2.5e-2)\n",
      "/tmp/ipykernel_33/1142237259.py:20: UserWarning: To copy construct from a tensor, it is recommended to use sourceTensor.clone().detach() or sourceTensor.clone().detach().requires_grad_(True), rather than torch.tensor(sourceTensor).\n",
      "  X_train_tensor = torch.tensor(X_train, dtype=torch.float64)\n",
      "/tmp/ipykernel_33/1142237259.py:21: UserWarning: To copy construct from a tensor, it is recommended to use sourceTensor.clone().detach() or sourceTensor.clone().detach().requires_grad_(True), rather than torch.tensor(sourceTensor).\n",
      "  Y_train_tensor = torch.tensor(Y_train, dtype=torch.float64)\n",
      "/tmp/ipykernel_33/1142237259.py:22: UserWarning: To copy construct from a tensor, it is recommended to use sourceTensor.clone().detach() or sourceTensor.clone().detach().requires_grad_(True), rather than torch.tensor(sourceTensor).\n",
      "  X_val_tensor = torch.tensor(X_val, dtype=torch.float64)\n",
      "/tmp/ipykernel_33/1142237259.py:23: UserWarning: To copy construct from a tensor, it is recommended to use sourceTensor.clone().detach() or sourceTensor.clone().detach().requires_grad_(True), rather than torch.tensor(sourceTensor).\n",
      "  Y_val_tensor = torch.tensor(Y_val, dtype=torch.float64)\n",
      "[I 2024-12-30 23:16:29,321] Trial 0 finished with value: -3.422372073367912e+45 and parameters: {'hidden_layers': 7, 'hidden_units': 663, 'batch_size': 4378, 'learning_rate': 0.017196751495299662}. Best is trial 0 with value: -3.422372073367912e+45.\n"
     ]
    },
    {
     "name": "stdout",
     "output_type": "stream",
     "text": [
      "R² for column 62: -0.0001582125814720836\n",
      "Average R² excluding column 61: -3.422372073367912e+45\n"
     ]
    },
    {
     "name": "stderr",
     "output_type": "stream",
     "text": [
      "/tmp/ipykernel_33/1142237259.py:18: FutureWarning: suggest_loguniform has been deprecated in v3.0.0. This feature will be removed in v6.0.0. See https://github.com/optuna/optuna/releases/tag/v3.0.0. Use suggest_float(..., log=True) instead.\n",
      "  learning_rate = trial.suggest_loguniform('learning_rate', 2.5e-4, 2.5e-2)\n",
      "/tmp/ipykernel_33/1142237259.py:20: UserWarning: To copy construct from a tensor, it is recommended to use sourceTensor.clone().detach() or sourceTensor.clone().detach().requires_grad_(True), rather than torch.tensor(sourceTensor).\n",
      "  X_train_tensor = torch.tensor(X_train, dtype=torch.float64)\n",
      "/tmp/ipykernel_33/1142237259.py:21: UserWarning: To copy construct from a tensor, it is recommended to use sourceTensor.clone().detach() or sourceTensor.clone().detach().requires_grad_(True), rather than torch.tensor(sourceTensor).\n",
      "  Y_train_tensor = torch.tensor(Y_train, dtype=torch.float64)\n",
      "/tmp/ipykernel_33/1142237259.py:22: UserWarning: To copy construct from a tensor, it is recommended to use sourceTensor.clone().detach() or sourceTensor.clone().detach().requires_grad_(True), rather than torch.tensor(sourceTensor).\n",
      "  X_val_tensor = torch.tensor(X_val, dtype=torch.float64)\n",
      "/tmp/ipykernel_33/1142237259.py:23: UserWarning: To copy construct from a tensor, it is recommended to use sourceTensor.clone().detach() or sourceTensor.clone().detach().requires_grad_(True), rather than torch.tensor(sourceTensor).\n",
      "  Y_val_tensor = torch.tensor(Y_val, dtype=torch.float64)\n",
      "[I 2024-12-30 23:19:06,980] Trial 1 finished with value: -1.204546667486323e+37 and parameters: {'hidden_layers': 6, 'hidden_units': 924, 'batch_size': 3341, 'learning_rate': 0.004836921032436607}. Best is trial 1 with value: -1.204546667486323e+37.\n"
     ]
    },
    {
     "name": "stdout",
     "output_type": "stream",
     "text": [
      "R² for column 62: -0.00015821258147230566\n",
      "Average R² excluding column 61: -1.204546667486323e+37\n"
     ]
    },
    {
     "name": "stderr",
     "output_type": "stream",
     "text": [
      "/tmp/ipykernel_33/1142237259.py:18: FutureWarning: suggest_loguniform has been deprecated in v3.0.0. This feature will be removed in v6.0.0. See https://github.com/optuna/optuna/releases/tag/v3.0.0. Use suggest_float(..., log=True) instead.\n",
      "  learning_rate = trial.suggest_loguniform('learning_rate', 2.5e-4, 2.5e-2)\n",
      "/tmp/ipykernel_33/1142237259.py:20: UserWarning: To copy construct from a tensor, it is recommended to use sourceTensor.clone().detach() or sourceTensor.clone().detach().requires_grad_(True), rather than torch.tensor(sourceTensor).\n",
      "  X_train_tensor = torch.tensor(X_train, dtype=torch.float64)\n",
      "/tmp/ipykernel_33/1142237259.py:21: UserWarning: To copy construct from a tensor, it is recommended to use sourceTensor.clone().detach() or sourceTensor.clone().detach().requires_grad_(True), rather than torch.tensor(sourceTensor).\n",
      "  Y_train_tensor = torch.tensor(Y_train, dtype=torch.float64)\n",
      "/tmp/ipykernel_33/1142237259.py:22: UserWarning: To copy construct from a tensor, it is recommended to use sourceTensor.clone().detach() or sourceTensor.clone().detach().requires_grad_(True), rather than torch.tensor(sourceTensor).\n",
      "  X_val_tensor = torch.tensor(X_val, dtype=torch.float64)\n",
      "/tmp/ipykernel_33/1142237259.py:23: UserWarning: To copy construct from a tensor, it is recommended to use sourceTensor.clone().detach() or sourceTensor.clone().detach().requires_grad_(True), rather than torch.tensor(sourceTensor).\n",
      "  Y_val_tensor = torch.tensor(Y_val, dtype=torch.float64)\n",
      "[I 2024-12-30 23:21:23,384] Trial 2 finished with value: -2.376199773091267e+31 and parameters: {'hidden_layers': 8, 'hidden_units': 722, 'batch_size': 4311, 'learning_rate': 0.0035199087260252815}. Best is trial 2 with value: -2.376199773091267e+31.\n"
     ]
    },
    {
     "name": "stdout",
     "output_type": "stream",
     "text": [
      "R² for column 62: -0.00015821258147230566\n",
      "Average R² excluding column 61: -2.376199773091267e+31\n"
     ]
    },
    {
     "name": "stderr",
     "output_type": "stream",
     "text": [
      "/tmp/ipykernel_33/1142237259.py:18: FutureWarning: suggest_loguniform has been deprecated in v3.0.0. This feature will be removed in v6.0.0. See https://github.com/optuna/optuna/releases/tag/v3.0.0. Use suggest_float(..., log=True) instead.\n",
      "  learning_rate = trial.suggest_loguniform('learning_rate', 2.5e-4, 2.5e-2)\n",
      "/tmp/ipykernel_33/1142237259.py:20: UserWarning: To copy construct from a tensor, it is recommended to use sourceTensor.clone().detach() or sourceTensor.clone().detach().requires_grad_(True), rather than torch.tensor(sourceTensor).\n",
      "  X_train_tensor = torch.tensor(X_train, dtype=torch.float64)\n",
      "/tmp/ipykernel_33/1142237259.py:21: UserWarning: To copy construct from a tensor, it is recommended to use sourceTensor.clone().detach() or sourceTensor.clone().detach().requires_grad_(True), rather than torch.tensor(sourceTensor).\n",
      "  Y_train_tensor = torch.tensor(Y_train, dtype=torch.float64)\n",
      "/tmp/ipykernel_33/1142237259.py:22: UserWarning: To copy construct from a tensor, it is recommended to use sourceTensor.clone().detach() or sourceTensor.clone().detach().requires_grad_(True), rather than torch.tensor(sourceTensor).\n",
      "  X_val_tensor = torch.tensor(X_val, dtype=torch.float64)\n",
      "/tmp/ipykernel_33/1142237259.py:23: UserWarning: To copy construct from a tensor, it is recommended to use sourceTensor.clone().detach() or sourceTensor.clone().detach().requires_grad_(True), rather than torch.tensor(sourceTensor).\n",
      "  Y_val_tensor = torch.tensor(Y_val, dtype=torch.float64)\n",
      "[I 2024-12-30 23:22:35,862] Trial 3 finished with value: -1.8348119606206665e+31 and parameters: {'hidden_layers': 5, 'hidden_units': 633, 'batch_size': 2674, 'learning_rate': 0.0002916438937504871}. Best is trial 3 with value: -1.8348119606206665e+31.\n"
     ]
    },
    {
     "name": "stdout",
     "output_type": "stream",
     "text": [
      "R² for column 62: -0.0001582125814720836\n",
      "Average R² excluding column 61: -1.8348119606206665e+31\n"
     ]
    },
    {
     "name": "stderr",
     "output_type": "stream",
     "text": [
      "/tmp/ipykernel_33/1142237259.py:18: FutureWarning: suggest_loguniform has been deprecated in v3.0.0. This feature will be removed in v6.0.0. See https://github.com/optuna/optuna/releases/tag/v3.0.0. Use suggest_float(..., log=True) instead.\n",
      "  learning_rate = trial.suggest_loguniform('learning_rate', 2.5e-4, 2.5e-2)\n",
      "/tmp/ipykernel_33/1142237259.py:20: UserWarning: To copy construct from a tensor, it is recommended to use sourceTensor.clone().detach() or sourceTensor.clone().detach().requires_grad_(True), rather than torch.tensor(sourceTensor).\n",
      "  X_train_tensor = torch.tensor(X_train, dtype=torch.float64)\n",
      "/tmp/ipykernel_33/1142237259.py:21: UserWarning: To copy construct from a tensor, it is recommended to use sourceTensor.clone().detach() or sourceTensor.clone().detach().requires_grad_(True), rather than torch.tensor(sourceTensor).\n",
      "  Y_train_tensor = torch.tensor(Y_train, dtype=torch.float64)\n",
      "/tmp/ipykernel_33/1142237259.py:22: UserWarning: To copy construct from a tensor, it is recommended to use sourceTensor.clone().detach() or sourceTensor.clone().detach().requires_grad_(True), rather than torch.tensor(sourceTensor).\n",
      "  X_val_tensor = torch.tensor(X_val, dtype=torch.float64)\n",
      "/tmp/ipykernel_33/1142237259.py:23: UserWarning: To copy construct from a tensor, it is recommended to use sourceTensor.clone().detach() or sourceTensor.clone().detach().requires_grad_(True), rather than torch.tensor(sourceTensor).\n",
      "  Y_val_tensor = torch.tensor(Y_val, dtype=torch.float64)\n",
      "[I 2024-12-30 23:25:41,396] Trial 4 finished with value: -1.864788607194966e+31 and parameters: {'hidden_layers': 8, 'hidden_units': 861, 'batch_size': 3490, 'learning_rate': 0.0020032736302146832}. Best is trial 3 with value: -1.8348119606206665e+31.\n"
     ]
    },
    {
     "name": "stdout",
     "output_type": "stream",
     "text": [
      "R² for column 62: -0.0001582125814720836\n",
      "Average R² excluding column 61: -1.864788607194966e+31\n"
     ]
    },
    {
     "name": "stderr",
     "output_type": "stream",
     "text": [
      "/tmp/ipykernel_33/1142237259.py:18: FutureWarning: suggest_loguniform has been deprecated in v3.0.0. This feature will be removed in v6.0.0. See https://github.com/optuna/optuna/releases/tag/v3.0.0. Use suggest_float(..., log=True) instead.\n",
      "  learning_rate = trial.suggest_loguniform('learning_rate', 2.5e-4, 2.5e-2)\n",
      "/tmp/ipykernel_33/1142237259.py:20: UserWarning: To copy construct from a tensor, it is recommended to use sourceTensor.clone().detach() or sourceTensor.clone().detach().requires_grad_(True), rather than torch.tensor(sourceTensor).\n",
      "  X_train_tensor = torch.tensor(X_train, dtype=torch.float64)\n",
      "/tmp/ipykernel_33/1142237259.py:21: UserWarning: To copy construct from a tensor, it is recommended to use sourceTensor.clone().detach() or sourceTensor.clone().detach().requires_grad_(True), rather than torch.tensor(sourceTensor).\n",
      "  Y_train_tensor = torch.tensor(Y_train, dtype=torch.float64)\n",
      "/tmp/ipykernel_33/1142237259.py:22: UserWarning: To copy construct from a tensor, it is recommended to use sourceTensor.clone().detach() or sourceTensor.clone().detach().requires_grad_(True), rather than torch.tensor(sourceTensor).\n",
      "  X_val_tensor = torch.tensor(X_val, dtype=torch.float64)\n",
      "/tmp/ipykernel_33/1142237259.py:23: UserWarning: To copy construct from a tensor, it is recommended to use sourceTensor.clone().detach() or sourceTensor.clone().detach().requires_grad_(True), rather than torch.tensor(sourceTensor).\n",
      "  Y_val_tensor = torch.tensor(Y_val, dtype=torch.float64)\n",
      "[I 2024-12-30 23:28:20,638] Trial 5 finished with value: -1.4667241427036644e+31 and parameters: {'hidden_layers': 6, 'hidden_units': 938, 'batch_size': 4299, 'learning_rate': 0.002564474623452791}. Best is trial 5 with value: -1.4667241427036644e+31.\n"
     ]
    },
    {
     "name": "stdout",
     "output_type": "stream",
     "text": [
      "R² for column 62: -0.00015821258147186157\n",
      "Average R² excluding column 61: -1.4667241427036644e+31\n"
     ]
    },
    {
     "name": "stderr",
     "output_type": "stream",
     "text": [
      "/tmp/ipykernel_33/1142237259.py:18: FutureWarning: suggest_loguniform has been deprecated in v3.0.0. This feature will be removed in v6.0.0. See https://github.com/optuna/optuna/releases/tag/v3.0.0. Use suggest_float(..., log=True) instead.\n",
      "  learning_rate = trial.suggest_loguniform('learning_rate', 2.5e-4, 2.5e-2)\n",
      "/tmp/ipykernel_33/1142237259.py:20: UserWarning: To copy construct from a tensor, it is recommended to use sourceTensor.clone().detach() or sourceTensor.clone().detach().requires_grad_(True), rather than torch.tensor(sourceTensor).\n",
      "  X_train_tensor = torch.tensor(X_train, dtype=torch.float64)\n",
      "/tmp/ipykernel_33/1142237259.py:21: UserWarning: To copy construct from a tensor, it is recommended to use sourceTensor.clone().detach() or sourceTensor.clone().detach().requires_grad_(True), rather than torch.tensor(sourceTensor).\n",
      "  Y_train_tensor = torch.tensor(Y_train, dtype=torch.float64)\n",
      "/tmp/ipykernel_33/1142237259.py:22: UserWarning: To copy construct from a tensor, it is recommended to use sourceTensor.clone().detach() or sourceTensor.clone().detach().requires_grad_(True), rather than torch.tensor(sourceTensor).\n",
      "  X_val_tensor = torch.tensor(X_val, dtype=torch.float64)\n",
      "/tmp/ipykernel_33/1142237259.py:23: UserWarning: To copy construct from a tensor, it is recommended to use sourceTensor.clone().detach() or sourceTensor.clone().detach().requires_grad_(True), rather than torch.tensor(sourceTensor).\n",
      "  Y_val_tensor = torch.tensor(Y_val, dtype=torch.float64)\n",
      "[I 2024-12-30 23:29:24,595] Trial 6 finished with value: -2.367685624860981e+31 and parameters: {'hidden_layers': 6, 'hidden_units': 523, 'batch_size': 2129, 'learning_rate': 0.001658607264309859}. Best is trial 5 with value: -1.4667241427036644e+31.\n"
     ]
    },
    {
     "name": "stdout",
     "output_type": "stream",
     "text": [
      "R² for column 62: -0.00015821258147230566\n",
      "Average R² excluding column 61: -2.367685624860981e+31\n"
     ]
    },
    {
     "name": "stderr",
     "output_type": "stream",
     "text": [
      "/tmp/ipykernel_33/1142237259.py:18: FutureWarning: suggest_loguniform has been deprecated in v3.0.0. This feature will be removed in v6.0.0. See https://github.com/optuna/optuna/releases/tag/v3.0.0. Use suggest_float(..., log=True) instead.\n",
      "  learning_rate = trial.suggest_loguniform('learning_rate', 2.5e-4, 2.5e-2)\n",
      "/tmp/ipykernel_33/1142237259.py:20: UserWarning: To copy construct from a tensor, it is recommended to use sourceTensor.clone().detach() or sourceTensor.clone().detach().requires_grad_(True), rather than torch.tensor(sourceTensor).\n",
      "  X_train_tensor = torch.tensor(X_train, dtype=torch.float64)\n",
      "/tmp/ipykernel_33/1142237259.py:21: UserWarning: To copy construct from a tensor, it is recommended to use sourceTensor.clone().detach() or sourceTensor.clone().detach().requires_grad_(True), rather than torch.tensor(sourceTensor).\n",
      "  Y_train_tensor = torch.tensor(Y_train, dtype=torch.float64)\n",
      "/tmp/ipykernel_33/1142237259.py:22: UserWarning: To copy construct from a tensor, it is recommended to use sourceTensor.clone().detach() or sourceTensor.clone().detach().requires_grad_(True), rather than torch.tensor(sourceTensor).\n",
      "  X_val_tensor = torch.tensor(X_val, dtype=torch.float64)\n",
      "/tmp/ipykernel_33/1142237259.py:23: UserWarning: To copy construct from a tensor, it is recommended to use sourceTensor.clone().detach() or sourceTensor.clone().detach().requires_grad_(True), rather than torch.tensor(sourceTensor).\n",
      "  Y_val_tensor = torch.tensor(Y_val, dtype=torch.float64)\n",
      "[I 2024-12-30 23:31:10,506] Trial 7 finished with value: -1.6822738951320458e+31 and parameters: {'hidden_layers': 7, 'hidden_units': 660, 'batch_size': 3018, 'learning_rate': 0.0011729122647911518}. Best is trial 5 with value: -1.4667241427036644e+31.\n"
     ]
    },
    {
     "name": "stdout",
     "output_type": "stream",
     "text": [
      "R² for column 62: -0.00015821258147230566\n",
      "Average R² excluding column 61: -1.6822738951320458e+31\n"
     ]
    },
    {
     "name": "stderr",
     "output_type": "stream",
     "text": [
      "/tmp/ipykernel_33/1142237259.py:18: FutureWarning: suggest_loguniform has been deprecated in v3.0.0. This feature will be removed in v6.0.0. See https://github.com/optuna/optuna/releases/tag/v3.0.0. Use suggest_float(..., log=True) instead.\n",
      "  learning_rate = trial.suggest_loguniform('learning_rate', 2.5e-4, 2.5e-2)\n",
      "/tmp/ipykernel_33/1142237259.py:20: UserWarning: To copy construct from a tensor, it is recommended to use sourceTensor.clone().detach() or sourceTensor.clone().detach().requires_grad_(True), rather than torch.tensor(sourceTensor).\n",
      "  X_train_tensor = torch.tensor(X_train, dtype=torch.float64)\n",
      "/tmp/ipykernel_33/1142237259.py:21: UserWarning: To copy construct from a tensor, it is recommended to use sourceTensor.clone().detach() or sourceTensor.clone().detach().requires_grad_(True), rather than torch.tensor(sourceTensor).\n",
      "  Y_train_tensor = torch.tensor(Y_train, dtype=torch.float64)\n",
      "/tmp/ipykernel_33/1142237259.py:22: UserWarning: To copy construct from a tensor, it is recommended to use sourceTensor.clone().detach() or sourceTensor.clone().detach().requires_grad_(True), rather than torch.tensor(sourceTensor).\n",
      "  X_val_tensor = torch.tensor(X_val, dtype=torch.float64)\n",
      "/tmp/ipykernel_33/1142237259.py:23: UserWarning: To copy construct from a tensor, it is recommended to use sourceTensor.clone().detach() or sourceTensor.clone().detach().requires_grad_(True), rather than torch.tensor(sourceTensor).\n",
      "  Y_val_tensor = torch.tensor(Y_val, dtype=torch.float64)\n",
      "[I 2024-12-30 23:33:33,875] Trial 8 finished with value: -5.025265591828474e+45 and parameters: {'hidden_layers': 8, 'hidden_units': 729, 'batch_size': 3658, 'learning_rate': 0.009671915347938168}. Best is trial 5 with value: -1.4667241427036644e+31.\n"
     ]
    },
    {
     "name": "stdout",
     "output_type": "stream",
     "text": [
      "R² for column 62: -0.00015821258147230566\n",
      "Average R² excluding column 61: -5.025265591828474e+45\n"
     ]
    },
    {
     "name": "stderr",
     "output_type": "stream",
     "text": [
      "/tmp/ipykernel_33/1142237259.py:18: FutureWarning: suggest_loguniform has been deprecated in v3.0.0. This feature will be removed in v6.0.0. See https://github.com/optuna/optuna/releases/tag/v3.0.0. Use suggest_float(..., log=True) instead.\n",
      "  learning_rate = trial.suggest_loguniform('learning_rate', 2.5e-4, 2.5e-2)\n",
      "/tmp/ipykernel_33/1142237259.py:20: UserWarning: To copy construct from a tensor, it is recommended to use sourceTensor.clone().detach() or sourceTensor.clone().detach().requires_grad_(True), rather than torch.tensor(sourceTensor).\n",
      "  X_train_tensor = torch.tensor(X_train, dtype=torch.float64)\n",
      "/tmp/ipykernel_33/1142237259.py:21: UserWarning: To copy construct from a tensor, it is recommended to use sourceTensor.clone().detach() or sourceTensor.clone().detach().requires_grad_(True), rather than torch.tensor(sourceTensor).\n",
      "  Y_train_tensor = torch.tensor(Y_train, dtype=torch.float64)\n",
      "/tmp/ipykernel_33/1142237259.py:22: UserWarning: To copy construct from a tensor, it is recommended to use sourceTensor.clone().detach() or sourceTensor.clone().detach().requires_grad_(True), rather than torch.tensor(sourceTensor).\n",
      "  X_val_tensor = torch.tensor(X_val, dtype=torch.float64)\n",
      "/tmp/ipykernel_33/1142237259.py:23: UserWarning: To copy construct from a tensor, it is recommended to use sourceTensor.clone().detach() or sourceTensor.clone().detach().requires_grad_(True), rather than torch.tensor(sourceTensor).\n",
      "  Y_val_tensor = torch.tensor(Y_val, dtype=torch.float64)\n",
      "[I 2024-12-30 23:35:14,135] Trial 9 finished with value: -1.6218112197733546e+38 and parameters: {'hidden_layers': 4, 'hidden_units': 887, 'batch_size': 3907, 'learning_rate': 0.023842935416766062}. Best is trial 5 with value: -1.4667241427036644e+31.\n"
     ]
    },
    {
     "name": "stdout",
     "output_type": "stream",
     "text": [
      "R² for column 62: -0.00015821258147163952\n",
      "Average R² excluding column 61: -1.6218112197733546e+38\n"
     ]
    },
    {
     "name": "stderr",
     "output_type": "stream",
     "text": [
      "/tmp/ipykernel_33/1142237259.py:18: FutureWarning: suggest_loguniform has been deprecated in v3.0.0. This feature will be removed in v6.0.0. See https://github.com/optuna/optuna/releases/tag/v3.0.0. Use suggest_float(..., log=True) instead.\n",
      "  learning_rate = trial.suggest_loguniform('learning_rate', 2.5e-4, 2.5e-2)\n",
      "/tmp/ipykernel_33/1142237259.py:20: UserWarning: To copy construct from a tensor, it is recommended to use sourceTensor.clone().detach() or sourceTensor.clone().detach().requires_grad_(True), rather than torch.tensor(sourceTensor).\n",
      "  X_train_tensor = torch.tensor(X_train, dtype=torch.float64)\n",
      "/tmp/ipykernel_33/1142237259.py:21: UserWarning: To copy construct from a tensor, it is recommended to use sourceTensor.clone().detach() or sourceTensor.clone().detach().requires_grad_(True), rather than torch.tensor(sourceTensor).\n",
      "  Y_train_tensor = torch.tensor(Y_train, dtype=torch.float64)\n",
      "/tmp/ipykernel_33/1142237259.py:22: UserWarning: To copy construct from a tensor, it is recommended to use sourceTensor.clone().detach() or sourceTensor.clone().detach().requires_grad_(True), rather than torch.tensor(sourceTensor).\n",
      "  X_val_tensor = torch.tensor(X_val, dtype=torch.float64)\n",
      "/tmp/ipykernel_33/1142237259.py:23: UserWarning: To copy construct from a tensor, it is recommended to use sourceTensor.clone().detach() or sourceTensor.clone().detach().requires_grad_(True), rather than torch.tensor(sourceTensor).\n",
      "  Y_val_tensor = torch.tensor(Y_val, dtype=torch.float64)\n",
      "[I 2024-12-30 23:36:50,543] Trial 10 finished with value: -2.8463884111870523e+31 and parameters: {'hidden_layers': 3, 'hidden_units': 1022, 'batch_size': 1560, 'learning_rate': 0.0005844864516970621}. Best is trial 5 with value: -1.4667241427036644e+31.\n"
     ]
    },
    {
     "name": "stdout",
     "output_type": "stream",
     "text": [
      "R² for column 62: -0.0001582125814720836\n",
      "Average R² excluding column 61: -2.8463884111870523e+31\n"
     ]
    },
    {
     "name": "stderr",
     "output_type": "stream",
     "text": [
      "/tmp/ipykernel_33/1142237259.py:18: FutureWarning: suggest_loguniform has been deprecated in v3.0.0. This feature will be removed in v6.0.0. See https://github.com/optuna/optuna/releases/tag/v3.0.0. Use suggest_float(..., log=True) instead.\n",
      "  learning_rate = trial.suggest_loguniform('learning_rate', 2.5e-4, 2.5e-2)\n",
      "/tmp/ipykernel_33/1142237259.py:20: UserWarning: To copy construct from a tensor, it is recommended to use sourceTensor.clone().detach() or sourceTensor.clone().detach().requires_grad_(True), rather than torch.tensor(sourceTensor).\n",
      "  X_train_tensor = torch.tensor(X_train, dtype=torch.float64)\n",
      "/tmp/ipykernel_33/1142237259.py:21: UserWarning: To copy construct from a tensor, it is recommended to use sourceTensor.clone().detach() or sourceTensor.clone().detach().requires_grad_(True), rather than torch.tensor(sourceTensor).\n",
      "  Y_train_tensor = torch.tensor(Y_train, dtype=torch.float64)\n",
      "/tmp/ipykernel_33/1142237259.py:22: UserWarning: To copy construct from a tensor, it is recommended to use sourceTensor.clone().detach() or sourceTensor.clone().detach().requires_grad_(True), rather than torch.tensor(sourceTensor).\n",
      "  X_val_tensor = torch.tensor(X_val, dtype=torch.float64)\n",
      "/tmp/ipykernel_33/1142237259.py:23: UserWarning: To copy construct from a tensor, it is recommended to use sourceTensor.clone().detach() or sourceTensor.clone().detach().requires_grad_(True), rather than torch.tensor(sourceTensor).\n",
      "  Y_val_tensor = torch.tensor(Y_val, dtype=torch.float64)\n",
      "[I 2024-12-30 23:39:17,770] Trial 11 finished with value: -1.4004718572481394e+31 and parameters: {'hidden_layers': 7, 'hidden_units': 810, 'batch_size': 2866, 'learning_rate': 0.0009669463681626142}. Best is trial 11 with value: -1.4004718572481394e+31.\n"
     ]
    },
    {
     "name": "stdout",
     "output_type": "stream",
     "text": [
      "R² for column 62: -0.00015821258147230566\n",
      "Average R² excluding column 61: -1.4004718572481394e+31\n"
     ]
    },
    {
     "name": "stderr",
     "output_type": "stream",
     "text": [
      "/tmp/ipykernel_33/1142237259.py:18: FutureWarning: suggest_loguniform has been deprecated in v3.0.0. This feature will be removed in v6.0.0. See https://github.com/optuna/optuna/releases/tag/v3.0.0. Use suggest_float(..., log=True) instead.\n",
      "  learning_rate = trial.suggest_loguniform('learning_rate', 2.5e-4, 2.5e-2)\n",
      "/tmp/ipykernel_33/1142237259.py:20: UserWarning: To copy construct from a tensor, it is recommended to use sourceTensor.clone().detach() or sourceTensor.clone().detach().requires_grad_(True), rather than torch.tensor(sourceTensor).\n",
      "  X_train_tensor = torch.tensor(X_train, dtype=torch.float64)\n",
      "/tmp/ipykernel_33/1142237259.py:21: UserWarning: To copy construct from a tensor, it is recommended to use sourceTensor.clone().detach() or sourceTensor.clone().detach().requires_grad_(True), rather than torch.tensor(sourceTensor).\n",
      "  Y_train_tensor = torch.tensor(Y_train, dtype=torch.float64)\n",
      "/tmp/ipykernel_33/1142237259.py:22: UserWarning: To copy construct from a tensor, it is recommended to use sourceTensor.clone().detach() or sourceTensor.clone().detach().requires_grad_(True), rather than torch.tensor(sourceTensor).\n",
      "  X_val_tensor = torch.tensor(X_val, dtype=torch.float64)\n",
      "/tmp/ipykernel_33/1142237259.py:23: UserWarning: To copy construct from a tensor, it is recommended to use sourceTensor.clone().detach() or sourceTensor.clone().detach().requires_grad_(True), rather than torch.tensor(sourceTensor).\n",
      "  Y_val_tensor = torch.tensor(Y_val, dtype=torch.float64)\n",
      "[I 2024-12-30 23:41:08,396] Trial 12 finished with value: -2.7548618584764444e+31 and parameters: {'hidden_layers': 5, 'hidden_units': 831, 'batch_size': 2639, 'learning_rate': 0.0007007237319499685}. Best is trial 11 with value: -1.4004718572481394e+31.\n"
     ]
    },
    {
     "name": "stdout",
     "output_type": "stream",
     "text": [
      "R² for column 62: -0.00015821258147230566\n",
      "Average R² excluding column 61: -2.7548618584764444e+31\n"
     ]
    },
    {
     "name": "stderr",
     "output_type": "stream",
     "text": [
      "/tmp/ipykernel_33/1142237259.py:18: FutureWarning: suggest_loguniform has been deprecated in v3.0.0. This feature will be removed in v6.0.0. See https://github.com/optuna/optuna/releases/tag/v3.0.0. Use suggest_float(..., log=True) instead.\n",
      "  learning_rate = trial.suggest_loguniform('learning_rate', 2.5e-4, 2.5e-2)\n",
      "/tmp/ipykernel_33/1142237259.py:20: UserWarning: To copy construct from a tensor, it is recommended to use sourceTensor.clone().detach() or sourceTensor.clone().detach().requires_grad_(True), rather than torch.tensor(sourceTensor).\n",
      "  X_train_tensor = torch.tensor(X_train, dtype=torch.float64)\n",
      "/tmp/ipykernel_33/1142237259.py:21: UserWarning: To copy construct from a tensor, it is recommended to use sourceTensor.clone().detach() or sourceTensor.clone().detach().requires_grad_(True), rather than torch.tensor(sourceTensor).\n",
      "  Y_train_tensor = torch.tensor(Y_train, dtype=torch.float64)\n",
      "/tmp/ipykernel_33/1142237259.py:22: UserWarning: To copy construct from a tensor, it is recommended to use sourceTensor.clone().detach() or sourceTensor.clone().detach().requires_grad_(True), rather than torch.tensor(sourceTensor).\n",
      "  X_val_tensor = torch.tensor(X_val, dtype=torch.float64)\n",
      "/tmp/ipykernel_33/1142237259.py:23: UserWarning: To copy construct from a tensor, it is recommended to use sourceTensor.clone().detach() or sourceTensor.clone().detach().requires_grad_(True), rather than torch.tensor(sourceTensor).\n",
      "  Y_val_tensor = torch.tensor(Y_val, dtype=torch.float64)\n",
      "[I 2024-12-30 23:44:35,040] Trial 13 finished with value: -2.38883520730873e+40 and parameters: {'hidden_layers': 7, 'hidden_units': 980, 'batch_size': 2869, 'learning_rate': 0.005142444288473128}. Best is trial 11 with value: -1.4004718572481394e+31.\n"
     ]
    },
    {
     "name": "stdout",
     "output_type": "stream",
     "text": [
      "R² for column 62: -0.0001582125814720836\n",
      "Average R² excluding column 61: -2.38883520730873e+40\n"
     ]
    },
    {
     "name": "stderr",
     "output_type": "stream",
     "text": [
      "/tmp/ipykernel_33/1142237259.py:18: FutureWarning: suggest_loguniform has been deprecated in v3.0.0. This feature will be removed in v6.0.0. See https://github.com/optuna/optuna/releases/tag/v3.0.0. Use suggest_float(..., log=True) instead.\n",
      "  learning_rate = trial.suggest_loguniform('learning_rate', 2.5e-4, 2.5e-2)\n",
      "/tmp/ipykernel_33/1142237259.py:20: UserWarning: To copy construct from a tensor, it is recommended to use sourceTensor.clone().detach() or sourceTensor.clone().detach().requires_grad_(True), rather than torch.tensor(sourceTensor).\n",
      "  X_train_tensor = torch.tensor(X_train, dtype=torch.float64)\n",
      "/tmp/ipykernel_33/1142237259.py:21: UserWarning: To copy construct from a tensor, it is recommended to use sourceTensor.clone().detach() or sourceTensor.clone().detach().requires_grad_(True), rather than torch.tensor(sourceTensor).\n",
      "  Y_train_tensor = torch.tensor(Y_train, dtype=torch.float64)\n",
      "/tmp/ipykernel_33/1142237259.py:22: UserWarning: To copy construct from a tensor, it is recommended to use sourceTensor.clone().detach() or sourceTensor.clone().detach().requires_grad_(True), rather than torch.tensor(sourceTensor).\n",
      "  X_val_tensor = torch.tensor(X_val, dtype=torch.float64)\n",
      "/tmp/ipykernel_33/1142237259.py:23: UserWarning: To copy construct from a tensor, it is recommended to use sourceTensor.clone().detach() or sourceTensor.clone().detach().requires_grad_(True), rather than torch.tensor(sourceTensor).\n",
      "  Y_val_tensor = torch.tensor(Y_val, dtype=torch.float64)\n",
      "[I 2024-12-30 23:46:41,970] Trial 14 finished with value: -1.1180549266502544e+31 and parameters: {'hidden_layers': 6, 'hidden_units': 803, 'batch_size': 2254, 'learning_rate': 0.0008367957375003527}. Best is trial 14 with value: -1.1180549266502544e+31.\n"
     ]
    },
    {
     "name": "stdout",
     "output_type": "stream",
     "text": [
      "R² for column 62: -0.00015821258147230566\n",
      "Average R² excluding column 61: -1.1180549266502544e+31\n",
      "Best hyperparameters:  {'hidden_layers': 6, 'hidden_units': 803, 'batch_size': 2254, 'learning_rate': 0.0008367957375003527}\n",
      "Best value (MSE):  -1.1180549266502544e+31\n"
     ]
    }
   ],
   "source": [
    "import optuna\n",
    "import torch\n",
    "import torch.nn as nn\n",
    "import torch.optim as optim\n",
    "from sklearn.metrics import mean_squared_error, r2_score\n",
    "from sklearn.preprocessing import StandardScaler\n",
    "import polars as pl\n",
    "\n",
    "def objective(trial):\n",
    "    # Define the actual input size and output size based on your data\n",
    "    input_size = 556  # Number of features in X\n",
    "    output_size = 368  # Number of targets in Y\n",
    "\n",
    "    # Tune the number of hidden layers and units per layer\n",
    "    hidden_layers = trial.suggest_int('hidden_layers', 3, 8)\n",
    "    hidden_units = trial.suggest_int('hidden_units', 512, 1024)\n",
    "    batch_size = trial.suggest_int('batch_size', 1536, 4608)\n",
    "    learning_rate = trial.suggest_loguniform('learning_rate', 2.5e-4, 2.5e-2)\n",
    "\n",
    "    X_train_tensor = torch.tensor(X_train, dtype=torch.float64)\n",
    "    Y_train_tensor = torch.tensor(Y_train, dtype=torch.float64)\n",
    "    X_val_tensor = torch.tensor(X_val, dtype=torch.float64)\n",
    "    Y_val_tensor = torch.tensor(Y_val, dtype=torch.float64)\n",
    "\n",
    "    # Define the architecture of the MLP\n",
    "    class MLPRegressor(nn.Module):\n",
    "        def __init__(self, input_size, output_size, hidden_layers, hidden_units):\n",
    "            super(MLPRegressor, self).__init__()\n",
    "            layers = []\n",
    "            layers.append(nn.Linear(input_size, hidden_units, dtype=torch.float64))\n",
    "            layers.append(nn.LeakyReLU(0.15))\n",
    "            for _ in range(hidden_layers - 1):\n",
    "                layers.append(nn.Linear(hidden_units, hidden_units, dtype=torch.float64))\n",
    "                layers.append(nn.LeakyReLU(0.15))\n",
    "            layers.append(nn.Linear(hidden_units, output_size, dtype=torch.float64))\n",
    "            self.model = nn.Sequential(*layers)\n",
    "        \n",
    "        def forward(self, x):\n",
    "            return self.model(x)\n",
    "\n",
    "    model = MLPRegressor(input_size, output_size, hidden_layers, hidden_units).double()\n",
    "    criterion = nn.MSELoss()\n",
    "    optimizer = optim.Adam(model.parameters(), lr=learning_rate)\n",
    "\n",
    "    def create_dataloader(X, Y, batch_size):\n",
    "        dataset = torch.utils.data.TensorDataset(X, Y)\n",
    "        return torch.utils.data.DataLoader(dataset, batch_size=batch_size, shuffle=True)\n",
    "\n",
    "    train_loader = create_dataloader(X_train_tensor, Y_train_tensor, batch_size)\n",
    "    val_loader = create_dataloader(X_val_tensor, Y_val_tensor, batch_size)\n",
    "\n",
    "    # Train the model\n",
    "    def train(model, criterion, optimizer, train_loader, val_loader, epochs=4):\n",
    "        model.train()\n",
    "        for epoch in range(epochs):\n",
    "            for inputs, targets in train_loader:\n",
    "                optimizer.zero_grad()\n",
    "                outputs = model(inputs)\n",
    "                loss = criterion(outputs, targets)\n",
    "                loss.backward()\n",
    "                optimizer.step()\n",
    "        \n",
    "        # Evaluate on the validation set\n",
    "        model.eval()\n",
    "        val_preds = []\n",
    "        val_targets = []\n",
    "        with torch.no_grad():\n",
    "            for val_inputs, val_targets_batch in val_loader:\n",
    "                val_outputs = model(val_inputs)\n",
    "                val_preds.append(val_outputs)\n",
    "                val_targets.append(val_targets_batch)\n",
    "        \n",
    "        val_preds = torch.cat(val_preds).cpu().numpy()\n",
    "        val_targets = torch.cat(val_targets).cpu().numpy()\n",
    "        val_preds[:, 61] = 0\n",
    "        mse = mean_squared_error(val_targets, val_preds)\n",
    "        \n",
    "        r2_values = []\n",
    "        for i in range(output_size):\n",
    "            r2 = r2_score(val_targets[:, i], val_preds[:, i])\n",
    "            r2_values.append(r2)\n",
    "        print(f\"R² for column 62: {r2_values[61]}\")\n",
    "\n",
    "        # Calculate the average R² excluding the value at index 61\n",
    "        r2_values_excluding_61 = [r2 for idx, r2 in enumerate(r2_values) if idx != 61]\n",
    "        avg_r2_excluding_61 = sum(r2_values_excluding_61) / len(r2_values_excluding_61)\n",
    "        print(\"Average R² excluding column 61:\", avg_r2_excluding_61)\n",
    "        return avg_r2_excluding_61\n",
    "\n",
    "    avg_r2_excluding_61 = train(model, criterion, optimizer, train_loader, val_loader)\n",
    "    return avg_r2_excluding_61\n",
    "\n",
    "study = optuna.create_study(direction='maximize')\n",
    "study.optimize(objective, n_trials=15)\n",
    "\n",
    "print(\"Best hyperparameters: \", study.best_params)\n",
    "print(\"Best value (MSE): \", study.best_value)"
   ]
  },
  {
   "cell_type": "code",
   "execution_count": 33,
   "metadata": {
    "execution": {
     "iopub.execute_input": "2024-12-30T23:49:25.407530Z",
     "iopub.status.busy": "2024-12-30T23:49:25.407066Z",
     "iopub.status.idle": "2024-12-30T23:49:25.412923Z",
     "shell.execute_reply": "2024-12-30T23:49:25.411672Z",
     "shell.execute_reply.started": "2024-12-30T23:49:25.407499Z"
    },
    "trusted": true
   },
   "outputs": [],
   "source": [
    "import optuna\n",
    "import warnings\n",
    "warnings.filterwarnings(\"ignore\")"
   ]
  },
  {
   "cell_type": "code",
   "execution_count": 34,
   "metadata": {
    "execution": {
     "iopub.execute_input": "2024-12-30T23:49:26.745090Z",
     "iopub.status.busy": "2024-12-30T23:49:26.744228Z",
     "iopub.status.idle": "2024-12-30T23:49:27.277889Z",
     "shell.execute_reply": "2024-12-30T23:49:27.276897Z",
     "shell.execute_reply.started": "2024-12-30T23:49:26.745052Z"
    },
    "trusted": true
   },
   "outputs": [],
   "source": [
    "import optuna.visualization as vis\n",
    "import matplotlib.pyplot as plt"
   ]
  },
  {
   "cell_type": "code",
   "execution_count": 35,
   "metadata": {
    "execution": {
     "iopub.execute_input": "2024-12-30T23:49:28.302443Z",
     "iopub.status.busy": "2024-12-30T23:49:28.301381Z",
     "iopub.status.idle": "2024-12-30T23:49:28.864876Z",
     "shell.execute_reply": "2024-12-30T23:49:28.863667Z",
     "shell.execute_reply.started": "2024-12-30T23:49:28.302407Z"
    },
    "trusted": true
   },
   "outputs": [
    {
     "data": {
      "text/html": [
       "        <script type=\"text/javascript\">\n",
       "        window.PlotlyConfig = {MathJaxConfig: 'local'};\n",
       "        if (window.MathJax && window.MathJax.Hub && window.MathJax.Hub.Config) {window.MathJax.Hub.Config({SVG: {font: \"STIX-Web\"}});}\n",
       "        if (typeof require !== 'undefined') {\n",
       "        require.undef(\"plotly\");\n",
       "        requirejs.config({\n",
       "            paths: {\n",
       "                'plotly': ['https://cdn.plot.ly/plotly-2.27.0.min']\n",
       "            }\n",
       "        });\n",
       "        require(['plotly'], function(Plotly) {\n",
       "            window._Plotly = Plotly;\n",
       "        });\n",
       "        }\n",
       "        </script>\n",
       "        "
      ]
     },
     "metadata": {},
     "output_type": "display_data"
    },
    {
     "data": {
      "text/html": [
       "<div>                            <div id=\"27ba5ca6-3c11-4745-a4cd-51d332b80380\" class=\"plotly-graph-div\" style=\"height:525px; width:100%;\"></div>            <script type=\"text/javascript\">                require([\"plotly\"], function(Plotly) {                    window.PLOTLYENV=window.PLOTLYENV || {};                                    if (document.getElementById(\"27ba5ca6-3c11-4745-a4cd-51d332b80380\")) {                    Plotly.newPlot(                        \"27ba5ca6-3c11-4745-a4cd-51d332b80380\",                        [{\"cliponaxis\":false,\"hovertemplate\":[\"hidden_units (IntDistribution): 0.1307472129017203\\u003cextra\\u003e\\u003c\\u002fextra\\u003e\",\"hidden_layers (IntDistribution): 0.20673488890661998\\u003cextra\\u003e\\u003c\\u002fextra\\u003e\",\"batch_size (IntDistribution): 0.23424471754703352\\u003cextra\\u003e\\u003c\\u002fextra\\u003e\",\"learning_rate (FloatDistribution): 0.4282731806446262\\u003cextra\\u003e\\u003c\\u002fextra\\u003e\"],\"name\":\"Objective Value\",\"orientation\":\"h\",\"text\":[\"0.13\",\"0.21\",\"0.23\",\"0.43\"],\"textposition\":\"outside\",\"x\":[0.1307472129017203,0.20673488890661998,0.23424471754703352,0.4282731806446262],\"y\":[\"hidden_units\",\"hidden_layers\",\"batch_size\",\"learning_rate\"],\"type\":\"bar\"}],                        {\"title\":{\"text\":\"Hyperparameter Importances\"},\"xaxis\":{\"title\":{\"text\":\"Hyperparameter Importance\"}},\"yaxis\":{\"title\":{\"text\":\"Hyperparameter\"}},\"template\":{\"data\":{\"histogram2dcontour\":[{\"type\":\"histogram2dcontour\",\"colorbar\":{\"outlinewidth\":0,\"ticks\":\"\"},\"colorscale\":[[0.0,\"#0d0887\"],[0.1111111111111111,\"#46039f\"],[0.2222222222222222,\"#7201a8\"],[0.3333333333333333,\"#9c179e\"],[0.4444444444444444,\"#bd3786\"],[0.5555555555555556,\"#d8576b\"],[0.6666666666666666,\"#ed7953\"],[0.7777777777777778,\"#fb9f3a\"],[0.8888888888888888,\"#fdca26\"],[1.0,\"#f0f921\"]]}],\"choropleth\":[{\"type\":\"choropleth\",\"colorbar\":{\"outlinewidth\":0,\"ticks\":\"\"}}],\"histogram2d\":[{\"type\":\"histogram2d\",\"colorbar\":{\"outlinewidth\":0,\"ticks\":\"\"},\"colorscale\":[[0.0,\"#0d0887\"],[0.1111111111111111,\"#46039f\"],[0.2222222222222222,\"#7201a8\"],[0.3333333333333333,\"#9c179e\"],[0.4444444444444444,\"#bd3786\"],[0.5555555555555556,\"#d8576b\"],[0.6666666666666666,\"#ed7953\"],[0.7777777777777778,\"#fb9f3a\"],[0.8888888888888888,\"#fdca26\"],[1.0,\"#f0f921\"]]}],\"heatmap\":[{\"type\":\"heatmap\",\"colorbar\":{\"outlinewidth\":0,\"ticks\":\"\"},\"colorscale\":[[0.0,\"#0d0887\"],[0.1111111111111111,\"#46039f\"],[0.2222222222222222,\"#7201a8\"],[0.3333333333333333,\"#9c179e\"],[0.4444444444444444,\"#bd3786\"],[0.5555555555555556,\"#d8576b\"],[0.6666666666666666,\"#ed7953\"],[0.7777777777777778,\"#fb9f3a\"],[0.8888888888888888,\"#fdca26\"],[1.0,\"#f0f921\"]]}],\"heatmapgl\":[{\"type\":\"heatmapgl\",\"colorbar\":{\"outlinewidth\":0,\"ticks\":\"\"},\"colorscale\":[[0.0,\"#0d0887\"],[0.1111111111111111,\"#46039f\"],[0.2222222222222222,\"#7201a8\"],[0.3333333333333333,\"#9c179e\"],[0.4444444444444444,\"#bd3786\"],[0.5555555555555556,\"#d8576b\"],[0.6666666666666666,\"#ed7953\"],[0.7777777777777778,\"#fb9f3a\"],[0.8888888888888888,\"#fdca26\"],[1.0,\"#f0f921\"]]}],\"contourcarpet\":[{\"type\":\"contourcarpet\",\"colorbar\":{\"outlinewidth\":0,\"ticks\":\"\"}}],\"contour\":[{\"type\":\"contour\",\"colorbar\":{\"outlinewidth\":0,\"ticks\":\"\"},\"colorscale\":[[0.0,\"#0d0887\"],[0.1111111111111111,\"#46039f\"],[0.2222222222222222,\"#7201a8\"],[0.3333333333333333,\"#9c179e\"],[0.4444444444444444,\"#bd3786\"],[0.5555555555555556,\"#d8576b\"],[0.6666666666666666,\"#ed7953\"],[0.7777777777777778,\"#fb9f3a\"],[0.8888888888888888,\"#fdca26\"],[1.0,\"#f0f921\"]]}],\"surface\":[{\"type\":\"surface\",\"colorbar\":{\"outlinewidth\":0,\"ticks\":\"\"},\"colorscale\":[[0.0,\"#0d0887\"],[0.1111111111111111,\"#46039f\"],[0.2222222222222222,\"#7201a8\"],[0.3333333333333333,\"#9c179e\"],[0.4444444444444444,\"#bd3786\"],[0.5555555555555556,\"#d8576b\"],[0.6666666666666666,\"#ed7953\"],[0.7777777777777778,\"#fb9f3a\"],[0.8888888888888888,\"#fdca26\"],[1.0,\"#f0f921\"]]}],\"mesh3d\":[{\"type\":\"mesh3d\",\"colorbar\":{\"outlinewidth\":0,\"ticks\":\"\"}}],\"scatter\":[{\"fillpattern\":{\"fillmode\":\"overlay\",\"size\":10,\"solidity\":0.2},\"type\":\"scatter\"}],\"parcoords\":[{\"type\":\"parcoords\",\"line\":{\"colorbar\":{\"outlinewidth\":0,\"ticks\":\"\"}}}],\"scatterpolargl\":[{\"type\":\"scatterpolargl\",\"marker\":{\"colorbar\":{\"outlinewidth\":0,\"ticks\":\"\"}}}],\"bar\":[{\"error_x\":{\"color\":\"#2a3f5f\"},\"error_y\":{\"color\":\"#2a3f5f\"},\"marker\":{\"line\":{\"color\":\"#E5ECF6\",\"width\":0.5},\"pattern\":{\"fillmode\":\"overlay\",\"size\":10,\"solidity\":0.2}},\"type\":\"bar\"}],\"scattergeo\":[{\"type\":\"scattergeo\",\"marker\":{\"colorbar\":{\"outlinewidth\":0,\"ticks\":\"\"}}}],\"scatterpolar\":[{\"type\":\"scatterpolar\",\"marker\":{\"colorbar\":{\"outlinewidth\":0,\"ticks\":\"\"}}}],\"histogram\":[{\"marker\":{\"pattern\":{\"fillmode\":\"overlay\",\"size\":10,\"solidity\":0.2}},\"type\":\"histogram\"}],\"scattergl\":[{\"type\":\"scattergl\",\"marker\":{\"colorbar\":{\"outlinewidth\":0,\"ticks\":\"\"}}}],\"scatter3d\":[{\"type\":\"scatter3d\",\"line\":{\"colorbar\":{\"outlinewidth\":0,\"ticks\":\"\"}},\"marker\":{\"colorbar\":{\"outlinewidth\":0,\"ticks\":\"\"}}}],\"scattermapbox\":[{\"type\":\"scattermapbox\",\"marker\":{\"colorbar\":{\"outlinewidth\":0,\"ticks\":\"\"}}}],\"scatterternary\":[{\"type\":\"scatterternary\",\"marker\":{\"colorbar\":{\"outlinewidth\":0,\"ticks\":\"\"}}}],\"scattercarpet\":[{\"type\":\"scattercarpet\",\"marker\":{\"colorbar\":{\"outlinewidth\":0,\"ticks\":\"\"}}}],\"carpet\":[{\"aaxis\":{\"endlinecolor\":\"#2a3f5f\",\"gridcolor\":\"white\",\"linecolor\":\"white\",\"minorgridcolor\":\"white\",\"startlinecolor\":\"#2a3f5f\"},\"baxis\":{\"endlinecolor\":\"#2a3f5f\",\"gridcolor\":\"white\",\"linecolor\":\"white\",\"minorgridcolor\":\"white\",\"startlinecolor\":\"#2a3f5f\"},\"type\":\"carpet\"}],\"table\":[{\"cells\":{\"fill\":{\"color\":\"#EBF0F8\"},\"line\":{\"color\":\"white\"}},\"header\":{\"fill\":{\"color\":\"#C8D4E3\"},\"line\":{\"color\":\"white\"}},\"type\":\"table\"}],\"barpolar\":[{\"marker\":{\"line\":{\"color\":\"#E5ECF6\",\"width\":0.5},\"pattern\":{\"fillmode\":\"overlay\",\"size\":10,\"solidity\":0.2}},\"type\":\"barpolar\"}],\"pie\":[{\"automargin\":true,\"type\":\"pie\"}]},\"layout\":{\"autotypenumbers\":\"strict\",\"colorway\":[\"#636efa\",\"#EF553B\",\"#00cc96\",\"#ab63fa\",\"#FFA15A\",\"#19d3f3\",\"#FF6692\",\"#B6E880\",\"#FF97FF\",\"#FECB52\"],\"font\":{\"color\":\"#2a3f5f\"},\"hovermode\":\"closest\",\"hoverlabel\":{\"align\":\"left\"},\"paper_bgcolor\":\"white\",\"plot_bgcolor\":\"#E5ECF6\",\"polar\":{\"bgcolor\":\"#E5ECF6\",\"angularaxis\":{\"gridcolor\":\"white\",\"linecolor\":\"white\",\"ticks\":\"\"},\"radialaxis\":{\"gridcolor\":\"white\",\"linecolor\":\"white\",\"ticks\":\"\"}},\"ternary\":{\"bgcolor\":\"#E5ECF6\",\"aaxis\":{\"gridcolor\":\"white\",\"linecolor\":\"white\",\"ticks\":\"\"},\"baxis\":{\"gridcolor\":\"white\",\"linecolor\":\"white\",\"ticks\":\"\"},\"caxis\":{\"gridcolor\":\"white\",\"linecolor\":\"white\",\"ticks\":\"\"}},\"coloraxis\":{\"colorbar\":{\"outlinewidth\":0,\"ticks\":\"\"}},\"colorscale\":{\"sequential\":[[0.0,\"#0d0887\"],[0.1111111111111111,\"#46039f\"],[0.2222222222222222,\"#7201a8\"],[0.3333333333333333,\"#9c179e\"],[0.4444444444444444,\"#bd3786\"],[0.5555555555555556,\"#d8576b\"],[0.6666666666666666,\"#ed7953\"],[0.7777777777777778,\"#fb9f3a\"],[0.8888888888888888,\"#fdca26\"],[1.0,\"#f0f921\"]],\"sequentialminus\":[[0.0,\"#0d0887\"],[0.1111111111111111,\"#46039f\"],[0.2222222222222222,\"#7201a8\"],[0.3333333333333333,\"#9c179e\"],[0.4444444444444444,\"#bd3786\"],[0.5555555555555556,\"#d8576b\"],[0.6666666666666666,\"#ed7953\"],[0.7777777777777778,\"#fb9f3a\"],[0.8888888888888888,\"#fdca26\"],[1.0,\"#f0f921\"]],\"diverging\":[[0,\"#8e0152\"],[0.1,\"#c51b7d\"],[0.2,\"#de77ae\"],[0.3,\"#f1b6da\"],[0.4,\"#fde0ef\"],[0.5,\"#f7f7f7\"],[0.6,\"#e6f5d0\"],[0.7,\"#b8e186\"],[0.8,\"#7fbc41\"],[0.9,\"#4d9221\"],[1,\"#276419\"]]},\"xaxis\":{\"gridcolor\":\"white\",\"linecolor\":\"white\",\"ticks\":\"\",\"title\":{\"standoff\":15},\"zerolinecolor\":\"white\",\"automargin\":true,\"zerolinewidth\":2},\"yaxis\":{\"gridcolor\":\"white\",\"linecolor\":\"white\",\"ticks\":\"\",\"title\":{\"standoff\":15},\"zerolinecolor\":\"white\",\"automargin\":true,\"zerolinewidth\":2},\"scene\":{\"xaxis\":{\"backgroundcolor\":\"#E5ECF6\",\"gridcolor\":\"white\",\"linecolor\":\"white\",\"showbackground\":true,\"ticks\":\"\",\"zerolinecolor\":\"white\",\"gridwidth\":2},\"yaxis\":{\"backgroundcolor\":\"#E5ECF6\",\"gridcolor\":\"white\",\"linecolor\":\"white\",\"showbackground\":true,\"ticks\":\"\",\"zerolinecolor\":\"white\",\"gridwidth\":2},\"zaxis\":{\"backgroundcolor\":\"#E5ECF6\",\"gridcolor\":\"white\",\"linecolor\":\"white\",\"showbackground\":true,\"ticks\":\"\",\"zerolinecolor\":\"white\",\"gridwidth\":2}},\"shapedefaults\":{\"line\":{\"color\":\"#2a3f5f\"}},\"annotationdefaults\":{\"arrowcolor\":\"#2a3f5f\",\"arrowhead\":0,\"arrowwidth\":1},\"geo\":{\"bgcolor\":\"white\",\"landcolor\":\"#E5ECF6\",\"subunitcolor\":\"white\",\"showland\":true,\"showlakes\":true,\"lakecolor\":\"white\"},\"title\":{\"x\":0.05},\"mapbox\":{\"style\":\"light\"}}}},                        {\"responsive\": true}                    ).then(function(){\n",
       "                            \n",
       "var gd = document.getElementById('27ba5ca6-3c11-4745-a4cd-51d332b80380');\n",
       "var x = new MutationObserver(function (mutations, observer) {{\n",
       "        var display = window.getComputedStyle(gd).display;\n",
       "        if (!display || display === 'none') {{\n",
       "            console.log([gd, 'removed!']);\n",
       "            Plotly.purge(gd);\n",
       "            observer.disconnect();\n",
       "        }}\n",
       "}});\n",
       "\n",
       "// Listen for the removal of the full notebook cells\n",
       "var notebookContainer = gd.closest('#notebook-container');\n",
       "if (notebookContainer) {{\n",
       "    x.observe(notebookContainer, {childList: true});\n",
       "}}\n",
       "\n",
       "// Listen for the clearing of the current output cell\n",
       "var outputEl = gd.closest('.output');\n",
       "if (outputEl) {{\n",
       "    x.observe(outputEl, {childList: true});\n",
       "}}\n",
       "\n",
       "                        })                };                });            </script>        </div>"
      ]
     },
     "metadata": {},
     "output_type": "display_data"
    }
   ],
   "source": [
    "importance_plot = vis.plot_param_importances(study)\n",
    "importance_plot.show()"
   ]
  },
  {
   "cell_type": "code",
   "execution_count": 36,
   "metadata": {
    "execution": {
     "iopub.execute_input": "2024-12-30T23:49:37.658862Z",
     "iopub.status.busy": "2024-12-30T23:49:37.658463Z",
     "iopub.status.idle": "2024-12-30T23:49:37.698449Z",
     "shell.execute_reply": "2024-12-30T23:49:37.697312Z",
     "shell.execute_reply.started": "2024-12-30T23:49:37.658822Z"
    },
    "trusted": true
   },
   "outputs": [
    {
     "data": {
      "text/html": [
       "<div>                            <div id=\"16dde577-6d10-4c24-a125-385cea9275c1\" class=\"plotly-graph-div\" style=\"height:525px; width:100%;\"></div>            <script type=\"text/javascript\">                require([\"plotly\"], function(Plotly) {                    window.PLOTLYENV=window.PLOTLYENV || {};                                    if (document.getElementById(\"16dde577-6d10-4c24-a125-385cea9275c1\")) {                    Plotly.newPlot(                        \"16dde577-6d10-4c24-a125-385cea9275c1\",                        [{\"mode\":\"markers\",\"name\":\"Objective Value\",\"x\":[0,1,2,3,4,5,6,7,8,9,10,11,12,13,14],\"y\":[-3.422372073367912e45,-1.204546667486323e37,-2.376199773091267e31,-1.8348119606206665e31,-1.864788607194966e31,-1.4667241427036644e31,-2.367685624860981e31,-1.6822738951320458e31,-5.025265591828474e45,-1.6218112197733546e38,-2.8463884111870523e31,-1.4004718572481394e31,-2.7548618584764444e31,-2.38883520730873e40,-1.1180549266502544e31],\"type\":\"scatter\"},{\"mode\":\"lines\",\"name\":\"Best Value\",\"x\":[0,1,2,3,4,5,6,7,8,9,10,11,12,13,14],\"y\":[-3.422372073367912e45,-1.204546667486323e37,-2.376199773091267e31,-1.8348119606206665e31,-1.8348119606206665e31,-1.4667241427036644e31,-1.4667241427036644e31,-1.4667241427036644e31,-1.4667241427036644e31,-1.4667241427036644e31,-1.4667241427036644e31,-1.4004718572481394e31,-1.4004718572481394e31,-1.4004718572481394e31,-1.1180549266502544e31],\"type\":\"scatter\"},{\"marker\":{\"color\":\"#cccccc\"},\"mode\":\"markers\",\"name\":\"Infeasible Trial\",\"showlegend\":false,\"x\":[],\"y\":[],\"type\":\"scatter\"}],                        {\"title\":{\"text\":\"Optimization History Plot\"},\"xaxis\":{\"title\":{\"text\":\"Trial\"}},\"yaxis\":{\"title\":{\"text\":\"Objective Value\"}},\"template\":{\"data\":{\"histogram2dcontour\":[{\"type\":\"histogram2dcontour\",\"colorbar\":{\"outlinewidth\":0,\"ticks\":\"\"},\"colorscale\":[[0.0,\"#0d0887\"],[0.1111111111111111,\"#46039f\"],[0.2222222222222222,\"#7201a8\"],[0.3333333333333333,\"#9c179e\"],[0.4444444444444444,\"#bd3786\"],[0.5555555555555556,\"#d8576b\"],[0.6666666666666666,\"#ed7953\"],[0.7777777777777778,\"#fb9f3a\"],[0.8888888888888888,\"#fdca26\"],[1.0,\"#f0f921\"]]}],\"choropleth\":[{\"type\":\"choropleth\",\"colorbar\":{\"outlinewidth\":0,\"ticks\":\"\"}}],\"histogram2d\":[{\"type\":\"histogram2d\",\"colorbar\":{\"outlinewidth\":0,\"ticks\":\"\"},\"colorscale\":[[0.0,\"#0d0887\"],[0.1111111111111111,\"#46039f\"],[0.2222222222222222,\"#7201a8\"],[0.3333333333333333,\"#9c179e\"],[0.4444444444444444,\"#bd3786\"],[0.5555555555555556,\"#d8576b\"],[0.6666666666666666,\"#ed7953\"],[0.7777777777777778,\"#fb9f3a\"],[0.8888888888888888,\"#fdca26\"],[1.0,\"#f0f921\"]]}],\"heatmap\":[{\"type\":\"heatmap\",\"colorbar\":{\"outlinewidth\":0,\"ticks\":\"\"},\"colorscale\":[[0.0,\"#0d0887\"],[0.1111111111111111,\"#46039f\"],[0.2222222222222222,\"#7201a8\"],[0.3333333333333333,\"#9c179e\"],[0.4444444444444444,\"#bd3786\"],[0.5555555555555556,\"#d8576b\"],[0.6666666666666666,\"#ed7953\"],[0.7777777777777778,\"#fb9f3a\"],[0.8888888888888888,\"#fdca26\"],[1.0,\"#f0f921\"]]}],\"heatmapgl\":[{\"type\":\"heatmapgl\",\"colorbar\":{\"outlinewidth\":0,\"ticks\":\"\"},\"colorscale\":[[0.0,\"#0d0887\"],[0.1111111111111111,\"#46039f\"],[0.2222222222222222,\"#7201a8\"],[0.3333333333333333,\"#9c179e\"],[0.4444444444444444,\"#bd3786\"],[0.5555555555555556,\"#d8576b\"],[0.6666666666666666,\"#ed7953\"],[0.7777777777777778,\"#fb9f3a\"],[0.8888888888888888,\"#fdca26\"],[1.0,\"#f0f921\"]]}],\"contourcarpet\":[{\"type\":\"contourcarpet\",\"colorbar\":{\"outlinewidth\":0,\"ticks\":\"\"}}],\"contour\":[{\"type\":\"contour\",\"colorbar\":{\"outlinewidth\":0,\"ticks\":\"\"},\"colorscale\":[[0.0,\"#0d0887\"],[0.1111111111111111,\"#46039f\"],[0.2222222222222222,\"#7201a8\"],[0.3333333333333333,\"#9c179e\"],[0.4444444444444444,\"#bd3786\"],[0.5555555555555556,\"#d8576b\"],[0.6666666666666666,\"#ed7953\"],[0.7777777777777778,\"#fb9f3a\"],[0.8888888888888888,\"#fdca26\"],[1.0,\"#f0f921\"]]}],\"surface\":[{\"type\":\"surface\",\"colorbar\":{\"outlinewidth\":0,\"ticks\":\"\"},\"colorscale\":[[0.0,\"#0d0887\"],[0.1111111111111111,\"#46039f\"],[0.2222222222222222,\"#7201a8\"],[0.3333333333333333,\"#9c179e\"],[0.4444444444444444,\"#bd3786\"],[0.5555555555555556,\"#d8576b\"],[0.6666666666666666,\"#ed7953\"],[0.7777777777777778,\"#fb9f3a\"],[0.8888888888888888,\"#fdca26\"],[1.0,\"#f0f921\"]]}],\"mesh3d\":[{\"type\":\"mesh3d\",\"colorbar\":{\"outlinewidth\":0,\"ticks\":\"\"}}],\"scatter\":[{\"fillpattern\":{\"fillmode\":\"overlay\",\"size\":10,\"solidity\":0.2},\"type\":\"scatter\"}],\"parcoords\":[{\"type\":\"parcoords\",\"line\":{\"colorbar\":{\"outlinewidth\":0,\"ticks\":\"\"}}}],\"scatterpolargl\":[{\"type\":\"scatterpolargl\",\"marker\":{\"colorbar\":{\"outlinewidth\":0,\"ticks\":\"\"}}}],\"bar\":[{\"error_x\":{\"color\":\"#2a3f5f\"},\"error_y\":{\"color\":\"#2a3f5f\"},\"marker\":{\"line\":{\"color\":\"#E5ECF6\",\"width\":0.5},\"pattern\":{\"fillmode\":\"overlay\",\"size\":10,\"solidity\":0.2}},\"type\":\"bar\"}],\"scattergeo\":[{\"type\":\"scattergeo\",\"marker\":{\"colorbar\":{\"outlinewidth\":0,\"ticks\":\"\"}}}],\"scatterpolar\":[{\"type\":\"scatterpolar\",\"marker\":{\"colorbar\":{\"outlinewidth\":0,\"ticks\":\"\"}}}],\"histogram\":[{\"marker\":{\"pattern\":{\"fillmode\":\"overlay\",\"size\":10,\"solidity\":0.2}},\"type\":\"histogram\"}],\"scattergl\":[{\"type\":\"scattergl\",\"marker\":{\"colorbar\":{\"outlinewidth\":0,\"ticks\":\"\"}}}],\"scatter3d\":[{\"type\":\"scatter3d\",\"line\":{\"colorbar\":{\"outlinewidth\":0,\"ticks\":\"\"}},\"marker\":{\"colorbar\":{\"outlinewidth\":0,\"ticks\":\"\"}}}],\"scattermapbox\":[{\"type\":\"scattermapbox\",\"marker\":{\"colorbar\":{\"outlinewidth\":0,\"ticks\":\"\"}}}],\"scatterternary\":[{\"type\":\"scatterternary\",\"marker\":{\"colorbar\":{\"outlinewidth\":0,\"ticks\":\"\"}}}],\"scattercarpet\":[{\"type\":\"scattercarpet\",\"marker\":{\"colorbar\":{\"outlinewidth\":0,\"ticks\":\"\"}}}],\"carpet\":[{\"aaxis\":{\"endlinecolor\":\"#2a3f5f\",\"gridcolor\":\"white\",\"linecolor\":\"white\",\"minorgridcolor\":\"white\",\"startlinecolor\":\"#2a3f5f\"},\"baxis\":{\"endlinecolor\":\"#2a3f5f\",\"gridcolor\":\"white\",\"linecolor\":\"white\",\"minorgridcolor\":\"white\",\"startlinecolor\":\"#2a3f5f\"},\"type\":\"carpet\"}],\"table\":[{\"cells\":{\"fill\":{\"color\":\"#EBF0F8\"},\"line\":{\"color\":\"white\"}},\"header\":{\"fill\":{\"color\":\"#C8D4E3\"},\"line\":{\"color\":\"white\"}},\"type\":\"table\"}],\"barpolar\":[{\"marker\":{\"line\":{\"color\":\"#E5ECF6\",\"width\":0.5},\"pattern\":{\"fillmode\":\"overlay\",\"size\":10,\"solidity\":0.2}},\"type\":\"barpolar\"}],\"pie\":[{\"automargin\":true,\"type\":\"pie\"}]},\"layout\":{\"autotypenumbers\":\"strict\",\"colorway\":[\"#636efa\",\"#EF553B\",\"#00cc96\",\"#ab63fa\",\"#FFA15A\",\"#19d3f3\",\"#FF6692\",\"#B6E880\",\"#FF97FF\",\"#FECB52\"],\"font\":{\"color\":\"#2a3f5f\"},\"hovermode\":\"closest\",\"hoverlabel\":{\"align\":\"left\"},\"paper_bgcolor\":\"white\",\"plot_bgcolor\":\"#E5ECF6\",\"polar\":{\"bgcolor\":\"#E5ECF6\",\"angularaxis\":{\"gridcolor\":\"white\",\"linecolor\":\"white\",\"ticks\":\"\"},\"radialaxis\":{\"gridcolor\":\"white\",\"linecolor\":\"white\",\"ticks\":\"\"}},\"ternary\":{\"bgcolor\":\"#E5ECF6\",\"aaxis\":{\"gridcolor\":\"white\",\"linecolor\":\"white\",\"ticks\":\"\"},\"baxis\":{\"gridcolor\":\"white\",\"linecolor\":\"white\",\"ticks\":\"\"},\"caxis\":{\"gridcolor\":\"white\",\"linecolor\":\"white\",\"ticks\":\"\"}},\"coloraxis\":{\"colorbar\":{\"outlinewidth\":0,\"ticks\":\"\"}},\"colorscale\":{\"sequential\":[[0.0,\"#0d0887\"],[0.1111111111111111,\"#46039f\"],[0.2222222222222222,\"#7201a8\"],[0.3333333333333333,\"#9c179e\"],[0.4444444444444444,\"#bd3786\"],[0.5555555555555556,\"#d8576b\"],[0.6666666666666666,\"#ed7953\"],[0.7777777777777778,\"#fb9f3a\"],[0.8888888888888888,\"#fdca26\"],[1.0,\"#f0f921\"]],\"sequentialminus\":[[0.0,\"#0d0887\"],[0.1111111111111111,\"#46039f\"],[0.2222222222222222,\"#7201a8\"],[0.3333333333333333,\"#9c179e\"],[0.4444444444444444,\"#bd3786\"],[0.5555555555555556,\"#d8576b\"],[0.6666666666666666,\"#ed7953\"],[0.7777777777777778,\"#fb9f3a\"],[0.8888888888888888,\"#fdca26\"],[1.0,\"#f0f921\"]],\"diverging\":[[0,\"#8e0152\"],[0.1,\"#c51b7d\"],[0.2,\"#de77ae\"],[0.3,\"#f1b6da\"],[0.4,\"#fde0ef\"],[0.5,\"#f7f7f7\"],[0.6,\"#e6f5d0\"],[0.7,\"#b8e186\"],[0.8,\"#7fbc41\"],[0.9,\"#4d9221\"],[1,\"#276419\"]]},\"xaxis\":{\"gridcolor\":\"white\",\"linecolor\":\"white\",\"ticks\":\"\",\"title\":{\"standoff\":15},\"zerolinecolor\":\"white\",\"automargin\":true,\"zerolinewidth\":2},\"yaxis\":{\"gridcolor\":\"white\",\"linecolor\":\"white\",\"ticks\":\"\",\"title\":{\"standoff\":15},\"zerolinecolor\":\"white\",\"automargin\":true,\"zerolinewidth\":2},\"scene\":{\"xaxis\":{\"backgroundcolor\":\"#E5ECF6\",\"gridcolor\":\"white\",\"linecolor\":\"white\",\"showbackground\":true,\"ticks\":\"\",\"zerolinecolor\":\"white\",\"gridwidth\":2},\"yaxis\":{\"backgroundcolor\":\"#E5ECF6\",\"gridcolor\":\"white\",\"linecolor\":\"white\",\"showbackground\":true,\"ticks\":\"\",\"zerolinecolor\":\"white\",\"gridwidth\":2},\"zaxis\":{\"backgroundcolor\":\"#E5ECF6\",\"gridcolor\":\"white\",\"linecolor\":\"white\",\"showbackground\":true,\"ticks\":\"\",\"zerolinecolor\":\"white\",\"gridwidth\":2}},\"shapedefaults\":{\"line\":{\"color\":\"#2a3f5f\"}},\"annotationdefaults\":{\"arrowcolor\":\"#2a3f5f\",\"arrowhead\":0,\"arrowwidth\":1},\"geo\":{\"bgcolor\":\"white\",\"landcolor\":\"#E5ECF6\",\"subunitcolor\":\"white\",\"showland\":true,\"showlakes\":true,\"lakecolor\":\"white\"},\"title\":{\"x\":0.05},\"mapbox\":{\"style\":\"light\"}}}},                        {\"responsive\": true}                    ).then(function(){\n",
       "                            \n",
       "var gd = document.getElementById('16dde577-6d10-4c24-a125-385cea9275c1');\n",
       "var x = new MutationObserver(function (mutations, observer) {{\n",
       "        var display = window.getComputedStyle(gd).display;\n",
       "        if (!display || display === 'none') {{\n",
       "            console.log([gd, 'removed!']);\n",
       "            Plotly.purge(gd);\n",
       "            observer.disconnect();\n",
       "        }}\n",
       "}});\n",
       "\n",
       "// Listen for the removal of the full notebook cells\n",
       "var notebookContainer = gd.closest('#notebook-container');\n",
       "if (notebookContainer) {{\n",
       "    x.observe(notebookContainer, {childList: true});\n",
       "}}\n",
       "\n",
       "// Listen for the clearing of the current output cell\n",
       "var outputEl = gd.closest('.output');\n",
       "if (outputEl) {{\n",
       "    x.observe(outputEl, {childList: true});\n",
       "}}\n",
       "\n",
       "                        })                };                });            </script>        </div>"
      ]
     },
     "metadata": {},
     "output_type": "display_data"
    }
   ],
   "source": [
    "opt_history_plot = vis.plot_optimization_history(study)\n",
    "opt_history_plot.show()"
   ]
  },
  {
   "cell_type": "code",
   "execution_count": 37,
   "metadata": {
    "execution": {
     "iopub.execute_input": "2024-12-30T23:49:40.610458Z",
     "iopub.status.busy": "2024-12-30T23:49:40.610043Z",
     "iopub.status.idle": "2024-12-30T23:49:40.687431Z",
     "shell.execute_reply": "2024-12-30T23:49:40.686302Z",
     "shell.execute_reply.started": "2024-12-30T23:49:40.610425Z"
    },
    "trusted": true
   },
   "outputs": [
    {
     "data": {
      "text/html": [
       "<div>                            <div id=\"7b77f816-34d8-40f9-93c6-3fdd3283d027\" class=\"plotly-graph-div\" style=\"height:525px; width:100%;\"></div>            <script type=\"text/javascript\">                require([\"plotly\"], function(Plotly) {                    window.PLOTLYENV=window.PLOTLYENV || {};                                    if (document.getElementById(\"7b77f816-34d8-40f9-93c6-3fdd3283d027\")) {                    Plotly.newPlot(                        \"7b77f816-34d8-40f9-93c6-3fdd3283d027\",                        [{\"dimensions\":[{\"label\":\"Objective Value\",\"range\":[-5.025265591828474e45,-1.1180549266502544e31],\"values\":[-3.422372073367912e45,-1.204546667486323e37,-2.376199773091267e31,-1.8348119606206665e31,-1.864788607194966e31,-1.4667241427036644e31,-2.367685624860981e31,-1.6822738951320458e31,-5.025265591828474e45,-1.6218112197733546e38,-2.8463884111870523e31,-1.4004718572481394e31,-2.7548618584764444e31,-2.38883520730873e40,-1.1180549266502544e31]},{\"label\":\"batch_size\",\"range\":[1560,4378],\"values\":[4378,3341,4311,2674,3490,4299,2129,3018,3658,3907,1560,2866,2639,2869,2254]},{\"label\":\"hidden_layers\",\"range\":[3,8],\"values\":[7,6,8,5,8,6,6,7,8,4,3,7,5,7,6]},{\"label\":\"hidden_units\",\"range\":[523,1022],\"values\":[663,924,722,633,861,938,523,660,729,887,1022,810,831,980,803]},{\"label\":\"learning_rate\",\"range\":[-3.5351471121132056,-1.6226402775884765],\"ticktext\":[\"0.000292\",\"0.001\",\"0.01\",\"0.0238\"],\"tickvals\":[-3.5351471121132056,-3,-2,-1.6226402775884765],\"values\":[-1.764553584540693,-2.3154310028445364,-2.4534685979700233,-3.5351471121132056,-2.6982597257059506,-2.591001594102205,-2.7802564368418095,-2.9307344724045965,-2.014487513231261,-1.6226402775884765,-3.2332255512624477,-3.0145976134629824,-3.1544531736718557,-2.288830404609371,-3.077380540695719]}],\"labelangle\":30,\"labelside\":\"bottom\",\"line\":{\"color\":[-3.422372073367912e45,-1.204546667486323e37,-2.376199773091267e31,-1.8348119606206665e31,-1.864788607194966e31,-1.4667241427036644e31,-2.367685624860981e31,-1.6822738951320458e31,-5.025265591828474e45,-1.6218112197733546e38,-2.8463884111870523e31,-1.4004718572481394e31,-2.7548618584764444e31,-2.38883520730873e40,-1.1180549266502544e31],\"colorbar\":{\"title\":{\"text\":\"Objective Value\"}},\"colorscale\":[[0.0,\"rgb(247,251,255)\"],[0.125,\"rgb(222,235,247)\"],[0.25,\"rgb(198,219,239)\"],[0.375,\"rgb(158,202,225)\"],[0.5,\"rgb(107,174,214)\"],[0.625,\"rgb(66,146,198)\"],[0.75,\"rgb(33,113,181)\"],[0.875,\"rgb(8,81,156)\"],[1.0,\"rgb(8,48,107)\"]],\"reversescale\":false,\"showscale\":true},\"type\":\"parcoords\"}],                        {\"title\":{\"text\":\"Parallel Coordinate Plot\"},\"template\":{\"data\":{\"histogram2dcontour\":[{\"type\":\"histogram2dcontour\",\"colorbar\":{\"outlinewidth\":0,\"ticks\":\"\"},\"colorscale\":[[0.0,\"#0d0887\"],[0.1111111111111111,\"#46039f\"],[0.2222222222222222,\"#7201a8\"],[0.3333333333333333,\"#9c179e\"],[0.4444444444444444,\"#bd3786\"],[0.5555555555555556,\"#d8576b\"],[0.6666666666666666,\"#ed7953\"],[0.7777777777777778,\"#fb9f3a\"],[0.8888888888888888,\"#fdca26\"],[1.0,\"#f0f921\"]]}],\"choropleth\":[{\"type\":\"choropleth\",\"colorbar\":{\"outlinewidth\":0,\"ticks\":\"\"}}],\"histogram2d\":[{\"type\":\"histogram2d\",\"colorbar\":{\"outlinewidth\":0,\"ticks\":\"\"},\"colorscale\":[[0.0,\"#0d0887\"],[0.1111111111111111,\"#46039f\"],[0.2222222222222222,\"#7201a8\"],[0.3333333333333333,\"#9c179e\"],[0.4444444444444444,\"#bd3786\"],[0.5555555555555556,\"#d8576b\"],[0.6666666666666666,\"#ed7953\"],[0.7777777777777778,\"#fb9f3a\"],[0.8888888888888888,\"#fdca26\"],[1.0,\"#f0f921\"]]}],\"heatmap\":[{\"type\":\"heatmap\",\"colorbar\":{\"outlinewidth\":0,\"ticks\":\"\"},\"colorscale\":[[0.0,\"#0d0887\"],[0.1111111111111111,\"#46039f\"],[0.2222222222222222,\"#7201a8\"],[0.3333333333333333,\"#9c179e\"],[0.4444444444444444,\"#bd3786\"],[0.5555555555555556,\"#d8576b\"],[0.6666666666666666,\"#ed7953\"],[0.7777777777777778,\"#fb9f3a\"],[0.8888888888888888,\"#fdca26\"],[1.0,\"#f0f921\"]]}],\"heatmapgl\":[{\"type\":\"heatmapgl\",\"colorbar\":{\"outlinewidth\":0,\"ticks\":\"\"},\"colorscale\":[[0.0,\"#0d0887\"],[0.1111111111111111,\"#46039f\"],[0.2222222222222222,\"#7201a8\"],[0.3333333333333333,\"#9c179e\"],[0.4444444444444444,\"#bd3786\"],[0.5555555555555556,\"#d8576b\"],[0.6666666666666666,\"#ed7953\"],[0.7777777777777778,\"#fb9f3a\"],[0.8888888888888888,\"#fdca26\"],[1.0,\"#f0f921\"]]}],\"contourcarpet\":[{\"type\":\"contourcarpet\",\"colorbar\":{\"outlinewidth\":0,\"ticks\":\"\"}}],\"contour\":[{\"type\":\"contour\",\"colorbar\":{\"outlinewidth\":0,\"ticks\":\"\"},\"colorscale\":[[0.0,\"#0d0887\"],[0.1111111111111111,\"#46039f\"],[0.2222222222222222,\"#7201a8\"],[0.3333333333333333,\"#9c179e\"],[0.4444444444444444,\"#bd3786\"],[0.5555555555555556,\"#d8576b\"],[0.6666666666666666,\"#ed7953\"],[0.7777777777777778,\"#fb9f3a\"],[0.8888888888888888,\"#fdca26\"],[1.0,\"#f0f921\"]]}],\"surface\":[{\"type\":\"surface\",\"colorbar\":{\"outlinewidth\":0,\"ticks\":\"\"},\"colorscale\":[[0.0,\"#0d0887\"],[0.1111111111111111,\"#46039f\"],[0.2222222222222222,\"#7201a8\"],[0.3333333333333333,\"#9c179e\"],[0.4444444444444444,\"#bd3786\"],[0.5555555555555556,\"#d8576b\"],[0.6666666666666666,\"#ed7953\"],[0.7777777777777778,\"#fb9f3a\"],[0.8888888888888888,\"#fdca26\"],[1.0,\"#f0f921\"]]}],\"mesh3d\":[{\"type\":\"mesh3d\",\"colorbar\":{\"outlinewidth\":0,\"ticks\":\"\"}}],\"scatter\":[{\"fillpattern\":{\"fillmode\":\"overlay\",\"size\":10,\"solidity\":0.2},\"type\":\"scatter\"}],\"parcoords\":[{\"type\":\"parcoords\",\"line\":{\"colorbar\":{\"outlinewidth\":0,\"ticks\":\"\"}}}],\"scatterpolargl\":[{\"type\":\"scatterpolargl\",\"marker\":{\"colorbar\":{\"outlinewidth\":0,\"ticks\":\"\"}}}],\"bar\":[{\"error_x\":{\"color\":\"#2a3f5f\"},\"error_y\":{\"color\":\"#2a3f5f\"},\"marker\":{\"line\":{\"color\":\"#E5ECF6\",\"width\":0.5},\"pattern\":{\"fillmode\":\"overlay\",\"size\":10,\"solidity\":0.2}},\"type\":\"bar\"}],\"scattergeo\":[{\"type\":\"scattergeo\",\"marker\":{\"colorbar\":{\"outlinewidth\":0,\"ticks\":\"\"}}}],\"scatterpolar\":[{\"type\":\"scatterpolar\",\"marker\":{\"colorbar\":{\"outlinewidth\":0,\"ticks\":\"\"}}}],\"histogram\":[{\"marker\":{\"pattern\":{\"fillmode\":\"overlay\",\"size\":10,\"solidity\":0.2}},\"type\":\"histogram\"}],\"scattergl\":[{\"type\":\"scattergl\",\"marker\":{\"colorbar\":{\"outlinewidth\":0,\"ticks\":\"\"}}}],\"scatter3d\":[{\"type\":\"scatter3d\",\"line\":{\"colorbar\":{\"outlinewidth\":0,\"ticks\":\"\"}},\"marker\":{\"colorbar\":{\"outlinewidth\":0,\"ticks\":\"\"}}}],\"scattermapbox\":[{\"type\":\"scattermapbox\",\"marker\":{\"colorbar\":{\"outlinewidth\":0,\"ticks\":\"\"}}}],\"scatterternary\":[{\"type\":\"scatterternary\",\"marker\":{\"colorbar\":{\"outlinewidth\":0,\"ticks\":\"\"}}}],\"scattercarpet\":[{\"type\":\"scattercarpet\",\"marker\":{\"colorbar\":{\"outlinewidth\":0,\"ticks\":\"\"}}}],\"carpet\":[{\"aaxis\":{\"endlinecolor\":\"#2a3f5f\",\"gridcolor\":\"white\",\"linecolor\":\"white\",\"minorgridcolor\":\"white\",\"startlinecolor\":\"#2a3f5f\"},\"baxis\":{\"endlinecolor\":\"#2a3f5f\",\"gridcolor\":\"white\",\"linecolor\":\"white\",\"minorgridcolor\":\"white\",\"startlinecolor\":\"#2a3f5f\"},\"type\":\"carpet\"}],\"table\":[{\"cells\":{\"fill\":{\"color\":\"#EBF0F8\"},\"line\":{\"color\":\"white\"}},\"header\":{\"fill\":{\"color\":\"#C8D4E3\"},\"line\":{\"color\":\"white\"}},\"type\":\"table\"}],\"barpolar\":[{\"marker\":{\"line\":{\"color\":\"#E5ECF6\",\"width\":0.5},\"pattern\":{\"fillmode\":\"overlay\",\"size\":10,\"solidity\":0.2}},\"type\":\"barpolar\"}],\"pie\":[{\"automargin\":true,\"type\":\"pie\"}]},\"layout\":{\"autotypenumbers\":\"strict\",\"colorway\":[\"#636efa\",\"#EF553B\",\"#00cc96\",\"#ab63fa\",\"#FFA15A\",\"#19d3f3\",\"#FF6692\",\"#B6E880\",\"#FF97FF\",\"#FECB52\"],\"font\":{\"color\":\"#2a3f5f\"},\"hovermode\":\"closest\",\"hoverlabel\":{\"align\":\"left\"},\"paper_bgcolor\":\"white\",\"plot_bgcolor\":\"#E5ECF6\",\"polar\":{\"bgcolor\":\"#E5ECF6\",\"angularaxis\":{\"gridcolor\":\"white\",\"linecolor\":\"white\",\"ticks\":\"\"},\"radialaxis\":{\"gridcolor\":\"white\",\"linecolor\":\"white\",\"ticks\":\"\"}},\"ternary\":{\"bgcolor\":\"#E5ECF6\",\"aaxis\":{\"gridcolor\":\"white\",\"linecolor\":\"white\",\"ticks\":\"\"},\"baxis\":{\"gridcolor\":\"white\",\"linecolor\":\"white\",\"ticks\":\"\"},\"caxis\":{\"gridcolor\":\"white\",\"linecolor\":\"white\",\"ticks\":\"\"}},\"coloraxis\":{\"colorbar\":{\"outlinewidth\":0,\"ticks\":\"\"}},\"colorscale\":{\"sequential\":[[0.0,\"#0d0887\"],[0.1111111111111111,\"#46039f\"],[0.2222222222222222,\"#7201a8\"],[0.3333333333333333,\"#9c179e\"],[0.4444444444444444,\"#bd3786\"],[0.5555555555555556,\"#d8576b\"],[0.6666666666666666,\"#ed7953\"],[0.7777777777777778,\"#fb9f3a\"],[0.8888888888888888,\"#fdca26\"],[1.0,\"#f0f921\"]],\"sequentialminus\":[[0.0,\"#0d0887\"],[0.1111111111111111,\"#46039f\"],[0.2222222222222222,\"#7201a8\"],[0.3333333333333333,\"#9c179e\"],[0.4444444444444444,\"#bd3786\"],[0.5555555555555556,\"#d8576b\"],[0.6666666666666666,\"#ed7953\"],[0.7777777777777778,\"#fb9f3a\"],[0.8888888888888888,\"#fdca26\"],[1.0,\"#f0f921\"]],\"diverging\":[[0,\"#8e0152\"],[0.1,\"#c51b7d\"],[0.2,\"#de77ae\"],[0.3,\"#f1b6da\"],[0.4,\"#fde0ef\"],[0.5,\"#f7f7f7\"],[0.6,\"#e6f5d0\"],[0.7,\"#b8e186\"],[0.8,\"#7fbc41\"],[0.9,\"#4d9221\"],[1,\"#276419\"]]},\"xaxis\":{\"gridcolor\":\"white\",\"linecolor\":\"white\",\"ticks\":\"\",\"title\":{\"standoff\":15},\"zerolinecolor\":\"white\",\"automargin\":true,\"zerolinewidth\":2},\"yaxis\":{\"gridcolor\":\"white\",\"linecolor\":\"white\",\"ticks\":\"\",\"title\":{\"standoff\":15},\"zerolinecolor\":\"white\",\"automargin\":true,\"zerolinewidth\":2},\"scene\":{\"xaxis\":{\"backgroundcolor\":\"#E5ECF6\",\"gridcolor\":\"white\",\"linecolor\":\"white\",\"showbackground\":true,\"ticks\":\"\",\"zerolinecolor\":\"white\",\"gridwidth\":2},\"yaxis\":{\"backgroundcolor\":\"#E5ECF6\",\"gridcolor\":\"white\",\"linecolor\":\"white\",\"showbackground\":true,\"ticks\":\"\",\"zerolinecolor\":\"white\",\"gridwidth\":2},\"zaxis\":{\"backgroundcolor\":\"#E5ECF6\",\"gridcolor\":\"white\",\"linecolor\":\"white\",\"showbackground\":true,\"ticks\":\"\",\"zerolinecolor\":\"white\",\"gridwidth\":2}},\"shapedefaults\":{\"line\":{\"color\":\"#2a3f5f\"}},\"annotationdefaults\":{\"arrowcolor\":\"#2a3f5f\",\"arrowhead\":0,\"arrowwidth\":1},\"geo\":{\"bgcolor\":\"white\",\"landcolor\":\"#E5ECF6\",\"subunitcolor\":\"white\",\"showland\":true,\"showlakes\":true,\"lakecolor\":\"white\"},\"title\":{\"x\":0.05},\"mapbox\":{\"style\":\"light\"}}}},                        {\"responsive\": true}                    ).then(function(){\n",
       "                            \n",
       "var gd = document.getElementById('7b77f816-34d8-40f9-93c6-3fdd3283d027');\n",
       "var x = new MutationObserver(function (mutations, observer) {{\n",
       "        var display = window.getComputedStyle(gd).display;\n",
       "        if (!display || display === 'none') {{\n",
       "            console.log([gd, 'removed!']);\n",
       "            Plotly.purge(gd);\n",
       "            observer.disconnect();\n",
       "        }}\n",
       "}});\n",
       "\n",
       "// Listen for the removal of the full notebook cells\n",
       "var notebookContainer = gd.closest('#notebook-container');\n",
       "if (notebookContainer) {{\n",
       "    x.observe(notebookContainer, {childList: true});\n",
       "}}\n",
       "\n",
       "// Listen for the clearing of the current output cell\n",
       "var outputEl = gd.closest('.output');\n",
       "if (outputEl) {{\n",
       "    x.observe(outputEl, {childList: true});\n",
       "}}\n",
       "\n",
       "                        })                };                });            </script>        </div>"
      ]
     },
     "metadata": {},
     "output_type": "display_data"
    }
   ],
   "source": [
    "parallel_plot = vis.plot_parallel_coordinate(study)\n",
    "parallel_plot.show()"
   ]
  },
  {
   "cell_type": "code",
   "execution_count": 38,
   "metadata": {
    "execution": {
     "iopub.execute_input": "2024-12-30T23:49:45.561768Z",
     "iopub.status.busy": "2024-12-30T23:49:45.561378Z",
     "iopub.status.idle": "2024-12-30T23:49:46.525142Z",
     "shell.execute_reply": "2024-12-30T23:49:46.523936Z",
     "shell.execute_reply.started": "2024-12-30T23:49:45.561739Z"
    },
    "trusted": true
   },
   "outputs": [
    {
     "data": {
      "text/html": [
       "<div>                            <div id=\"7270ec12-0904-404b-9a11-2436ea64e0f4\" class=\"plotly-graph-div\" style=\"height:525px; width:100%;\"></div>            <script type=\"text/javascript\">                require([\"plotly\"], function(Plotly) {                    window.PLOTLYENV=window.PLOTLYENV || {};                                    if (document.getElementById(\"7270ec12-0904-404b-9a11-2436ea64e0f4\")) {                    Plotly.newPlot(                        \"7270ec12-0904-404b-9a11-2436ea64e0f4\",                        [{\"type\":\"scatter\",\"xaxis\":\"x\",\"yaxis\":\"y\"},{\"colorbar\":{\"title\":{\"text\":\"Objective Value\"}},\"colorscale\":[[0.0,\"rgb(247,251,255)\"],[0.125,\"rgb(222,235,247)\"],[0.25,\"rgb(198,219,239)\"],[0.375,\"rgb(158,202,225)\"],[0.5,\"rgb(107,174,214)\"],[0.625,\"rgb(66,146,198)\"],[0.75,\"rgb(33,113,181)\"],[0.875,\"rgb(8,81,156)\"],[1.0,\"rgb(8,48,107)\"]],\"connectgaps\":true,\"contours\":{\"coloring\":\"heatmap\"},\"hoverinfo\":\"none\",\"line\":{\"smoothing\":1.3},\"reversescale\":false,\"showscale\":true,\"x\":[1419.1,1560,2129,2254,2639,2674,2866,2869,3018,3341,3490,3658,3907,4299,4311,4378,4518.9],\"y\":[2.75,3,4,5,6,7,8,8.25],\"z\":[[null,null,null,null,null,null,null,null,null,null,null,null,null,null,null,null,null],[null,-2.8463884111870523e31,null,null,null,null,null,null,null,null,null,null,null,null,null,null,null],[null,null,null,null,null,null,null,null,null,null,null,null,-1.6218112197733546e38,null,null,null,null],[null,null,null,null,-2.7548618584764444e31,-1.8348119606206665e31,null,null,null,null,null,null,null,null,null,null,null],[null,null,-2.367685624860981e31,-1.1180549266502544e31,null,null,null,null,null,-1.204546667486323e37,null,null,null,-1.4667241427036644e31,null,null,null],[null,null,null,null,null,null,-1.4004718572481394e31,-2.38883520730873e40,-1.6822738951320458e31,null,null,null,null,null,null,-3.422372073367912e45,null],[null,null,null,null,null,null,null,null,null,null,-1.864788607194966e31,-5.025265591828474e45,null,null,-2.376199773091267e31,null,null],[null,null,null,null,null,null,null,null,null,null,null,null,null,null,null,null,null]],\"type\":\"contour\",\"xaxis\":\"x5\",\"yaxis\":\"y5\"},{\"marker\":{\"color\":\"black\",\"line\":{\"color\":\"Gray\",\"width\":2.0}},\"mode\":\"markers\",\"name\":\"Feasible Trial\",\"showlegend\":false,\"x\":[4378,3341,4311,2674,3490,4299,2129,3018,3658,3907,1560,2866,2639,2869,2254],\"y\":[7,6,8,5,8,6,6,7,8,4,3,7,5,7,6],\"type\":\"scatter\",\"xaxis\":\"x5\",\"yaxis\":\"y5\"},{\"colorbar\":{\"title\":{\"text\":\"Objective Value\"}},\"colorscale\":[[0.0,\"rgb(247,251,255)\"],[0.125,\"rgb(222,235,247)\"],[0.25,\"rgb(198,219,239)\"],[0.375,\"rgb(158,202,225)\"],[0.5,\"rgb(107,174,214)\"],[0.625,\"rgb(66,146,198)\"],[0.75,\"rgb(33,113,181)\"],[0.875,\"rgb(8,81,156)\"],[1.0,\"rgb(8,48,107)\"]],\"connectgaps\":true,\"contours\":{\"coloring\":\"heatmap\"},\"hoverinfo\":\"none\",\"line\":{\"smoothing\":1.3},\"reversescale\":false,\"showscale\":false,\"x\":[1419.1,1560,2129,2254,2639,2674,2866,2869,3018,3341,3490,3658,3907,4299,4311,4378,4518.9],\"y\":[498.05,523,633,660,663,722,729,803,810,831,861,887,924,938,980,1022,1046.95],\"z\":[[null,null,null,null,null,null,null,null,null,null,null,null,null,null,null,null,null],[null,null,-2.367685624860981e31,null,null,null,null,null,null,null,null,null,null,null,null,null,null],[null,null,null,null,null,-1.8348119606206665e31,null,null,null,null,null,null,null,null,null,null,null],[null,null,null,null,null,null,null,null,-1.6822738951320458e31,null,null,null,null,null,null,null,null],[null,null,null,null,null,null,null,null,null,null,null,null,null,null,null,-3.422372073367912e45,null],[null,null,null,null,null,null,null,null,null,null,null,null,null,null,-2.376199773091267e31,null,null],[null,null,null,null,null,null,null,null,null,null,null,-5.025265591828474e45,null,null,null,null,null],[null,null,null,-1.1180549266502544e31,null,null,null,null,null,null,null,null,null,null,null,null,null],[null,null,null,null,null,null,-1.4004718572481394e31,null,null,null,null,null,null,null,null,null,null],[null,null,null,null,-2.7548618584764444e31,null,null,null,null,null,null,null,null,null,null,null,null],[null,null,null,null,null,null,null,null,null,null,-1.864788607194966e31,null,null,null,null,null,null],[null,null,null,null,null,null,null,null,null,null,null,null,-1.6218112197733546e38,null,null,null,null],[null,null,null,null,null,null,null,null,null,-1.204546667486323e37,null,null,null,null,null,null,null],[null,null,null,null,null,null,null,null,null,null,null,null,null,-1.4667241427036644e31,null,null,null],[null,null,null,null,null,null,null,-2.38883520730873e40,null,null,null,null,null,null,null,null,null],[null,-2.8463884111870523e31,null,null,null,null,null,null,null,null,null,null,null,null,null,null,null],[null,null,null,null,null,null,null,null,null,null,null,null,null,null,null,null,null]],\"type\":\"contour\",\"xaxis\":\"x9\",\"yaxis\":\"y9\"},{\"marker\":{\"color\":\"black\",\"line\":{\"color\":\"Gray\",\"width\":2.0}},\"mode\":\"markers\",\"name\":\"Feasible Trial\",\"showlegend\":false,\"x\":[4378,3341,4311,2674,3490,4299,2129,3018,3658,3907,1560,2866,2639,2869,2254],\"y\":[663,924,722,633,861,938,523,660,729,887,1022,810,831,980,803],\"type\":\"scatter\",\"xaxis\":\"x9\",\"yaxis\":\"y9\"},{\"colorbar\":{\"title\":{\"text\":\"Objective Value\"}},\"colorscale\":[[0.0,\"rgb(247,251,255)\"],[0.125,\"rgb(222,235,247)\"],[0.25,\"rgb(198,219,239)\"],[0.375,\"rgb(158,202,225)\"],[0.5,\"rgb(107,174,214)\"],[0.625,\"rgb(66,146,198)\"],[0.75,\"rgb(33,113,181)\"],[0.875,\"rgb(8,81,156)\"],[1.0,\"rgb(8,48,107)\"]],\"connectgaps\":true,\"contours\":{\"coloring\":\"heatmap\"},\"hoverinfo\":\"none\",\"line\":{\"smoothing\":1.3},\"reversescale\":false,\"showscale\":false,\"x\":[1419.1,1560,2129,2254,2639,2674,2866,2869,3018,3341,3490,3658,3907,4299,4311,4378,4518.9],\"y\":[0.0002340062980408895,0.0002916438937504871,0.0005844864516970621,0.0007007237319499685,0.0008367957375003527,0.0009669463681626142,0.0011729122647911518,0.001658607264309859,0.0020032736302146832,0.002564474623452791,0.0035199087260252815,0.004836921032436607,0.005142444288473128,0.009671915347938168,0.017196751495299662,0.023842935416766062,0.02971563834650295],\"z\":[[null,null,null,null,null,null,null,null,null,null,null,null,null,null,null,null,null],[null,null,null,null,null,-1.8348119606206665e31,null,null,null,null,null,null,null,null,null,null,null],[null,-2.8463884111870523e31,null,null,null,null,null,null,null,null,null,null,null,null,null,null,null],[null,null,null,null,-2.7548618584764444e31,null,null,null,null,null,null,null,null,null,null,null,null],[null,null,null,-1.1180549266502544e31,null,null,null,null,null,null,null,null,null,null,null,null,null],[null,null,null,null,null,null,-1.4004718572481394e31,null,null,null,null,null,null,null,null,null,null],[null,null,null,null,null,null,null,null,-1.6822738951320458e31,null,null,null,null,null,null,null,null],[null,null,-2.367685624860981e31,null,null,null,null,null,null,null,null,null,null,null,null,null,null],[null,null,null,null,null,null,null,null,null,null,-1.864788607194966e31,null,null,null,null,null,null],[null,null,null,null,null,null,null,null,null,null,null,null,null,-1.4667241427036644e31,null,null,null],[null,null,null,null,null,null,null,null,null,null,null,null,null,null,-2.376199773091267e31,null,null],[null,null,null,null,null,null,null,null,null,-1.204546667486323e37,null,null,null,null,null,null,null],[null,null,null,null,null,null,null,-2.38883520730873e40,null,null,null,null,null,null,null,null,null],[null,null,null,null,null,null,null,null,null,null,null,-5.025265591828474e45,null,null,null,null,null],[null,null,null,null,null,null,null,null,null,null,null,null,null,null,null,-3.422372073367912e45,null],[null,null,null,null,null,null,null,null,null,null,null,null,-1.6218112197733546e38,null,null,null,null],[null,null,null,null,null,null,null,null,null,null,null,null,null,null,null,null,null]],\"type\":\"contour\",\"xaxis\":\"x13\",\"yaxis\":\"y13\"},{\"marker\":{\"color\":\"black\",\"line\":{\"color\":\"Gray\",\"width\":2.0}},\"mode\":\"markers\",\"name\":\"Feasible Trial\",\"showlegend\":false,\"x\":[4378,3341,4311,2674,3490,4299,2129,3018,3658,3907,1560,2866,2639,2869,2254],\"y\":[0.017196751495299662,0.004836921032436607,0.0035199087260252815,0.0002916438937504871,0.0020032736302146832,0.002564474623452791,0.001658607264309859,0.0011729122647911518,0.009671915347938168,0.023842935416766062,0.0005844864516970621,0.0009669463681626142,0.0007007237319499685,0.005142444288473128,0.0008367957375003527],\"type\":\"scatter\",\"xaxis\":\"x13\",\"yaxis\":\"y13\"},{\"colorbar\":{\"title\":{\"text\":\"Objective Value\"}},\"colorscale\":[[0.0,\"rgb(247,251,255)\"],[0.125,\"rgb(222,235,247)\"],[0.25,\"rgb(198,219,239)\"],[0.375,\"rgb(158,202,225)\"],[0.5,\"rgb(107,174,214)\"],[0.625,\"rgb(66,146,198)\"],[0.75,\"rgb(33,113,181)\"],[0.875,\"rgb(8,81,156)\"],[1.0,\"rgb(8,48,107)\"]],\"connectgaps\":true,\"contours\":{\"coloring\":\"heatmap\"},\"hoverinfo\":\"none\",\"line\":{\"smoothing\":1.3},\"reversescale\":false,\"showscale\":false,\"x\":[2.75,3,4,5,6,7,8,8.25],\"y\":[1419.1,1560,2129,2254,2639,2674,2866,2869,3018,3341,3490,3658,3907,4299,4311,4378,4518.9],\"z\":[[null,null,null,null,null,null,null,null],[null,-2.8463884111870523e31,null,null,null,null,null,null],[null,null,null,null,-2.367685624860981e31,null,null,null],[null,null,null,null,-1.1180549266502544e31,null,null,null],[null,null,null,-2.7548618584764444e31,null,null,null,null],[null,null,null,-1.8348119606206665e31,null,null,null,null],[null,null,null,null,null,-1.4004718572481394e31,null,null],[null,null,null,null,null,-2.38883520730873e40,null,null],[null,null,null,null,null,-1.6822738951320458e31,null,null],[null,null,null,null,-1.204546667486323e37,null,null,null],[null,null,null,null,null,null,-1.864788607194966e31,null],[null,null,null,null,null,null,-5.025265591828474e45,null],[null,null,-1.6218112197733546e38,null,null,null,null,null],[null,null,null,null,-1.4667241427036644e31,null,null,null],[null,null,null,null,null,null,-2.376199773091267e31,null],[null,null,null,null,null,-3.422372073367912e45,null,null],[null,null,null,null,null,null,null,null]],\"type\":\"contour\",\"xaxis\":\"x2\",\"yaxis\":\"y2\"},{\"marker\":{\"color\":\"black\",\"line\":{\"color\":\"Gray\",\"width\":2.0}},\"mode\":\"markers\",\"name\":\"Feasible Trial\",\"showlegend\":false,\"x\":[7,6,8,5,8,6,6,7,8,4,3,7,5,7,6],\"y\":[4378,3341,4311,2674,3490,4299,2129,3018,3658,3907,1560,2866,2639,2869,2254],\"type\":\"scatter\",\"xaxis\":\"x2\",\"yaxis\":\"y2\"},{\"type\":\"scatter\",\"xaxis\":\"x6\",\"yaxis\":\"y6\"},{\"colorbar\":{\"title\":{\"text\":\"Objective Value\"}},\"colorscale\":[[0.0,\"rgb(247,251,255)\"],[0.125,\"rgb(222,235,247)\"],[0.25,\"rgb(198,219,239)\"],[0.375,\"rgb(158,202,225)\"],[0.5,\"rgb(107,174,214)\"],[0.625,\"rgb(66,146,198)\"],[0.75,\"rgb(33,113,181)\"],[0.875,\"rgb(8,81,156)\"],[1.0,\"rgb(8,48,107)\"]],\"connectgaps\":true,\"contours\":{\"coloring\":\"heatmap\"},\"hoverinfo\":\"none\",\"line\":{\"smoothing\":1.3},\"reversescale\":false,\"showscale\":false,\"x\":[2.75,3,4,5,6,7,8,8.25],\"y\":[498.05,523,633,660,663,722,729,803,810,831,861,887,924,938,980,1022,1046.95],\"z\":[[null,null,null,null,null,null,null,null],[null,null,null,null,-2.367685624860981e31,null,null,null],[null,null,null,-1.8348119606206665e31,null,null,null,null],[null,null,null,null,null,-1.6822738951320458e31,null,null],[null,null,null,null,null,-3.422372073367912e45,null,null],[null,null,null,null,null,null,-2.376199773091267e31,null],[null,null,null,null,null,null,-5.025265591828474e45,null],[null,null,null,null,-1.1180549266502544e31,null,null,null],[null,null,null,null,null,-1.4004718572481394e31,null,null],[null,null,null,-2.7548618584764444e31,null,null,null,null],[null,null,null,null,null,null,-1.864788607194966e31,null],[null,null,-1.6218112197733546e38,null,null,null,null,null],[null,null,null,null,-1.204546667486323e37,null,null,null],[null,null,null,null,-1.4667241427036644e31,null,null,null],[null,null,null,null,null,-2.38883520730873e40,null,null],[null,-2.8463884111870523e31,null,null,null,null,null,null],[null,null,null,null,null,null,null,null]],\"type\":\"contour\",\"xaxis\":\"x10\",\"yaxis\":\"y10\"},{\"marker\":{\"color\":\"black\",\"line\":{\"color\":\"Gray\",\"width\":2.0}},\"mode\":\"markers\",\"name\":\"Feasible Trial\",\"showlegend\":false,\"x\":[7,6,8,5,8,6,6,7,8,4,3,7,5,7,6],\"y\":[663,924,722,633,861,938,523,660,729,887,1022,810,831,980,803],\"type\":\"scatter\",\"xaxis\":\"x10\",\"yaxis\":\"y10\"},{\"colorbar\":{\"title\":{\"text\":\"Objective Value\"}},\"colorscale\":[[0.0,\"rgb(247,251,255)\"],[0.125,\"rgb(222,235,247)\"],[0.25,\"rgb(198,219,239)\"],[0.375,\"rgb(158,202,225)\"],[0.5,\"rgb(107,174,214)\"],[0.625,\"rgb(66,146,198)\"],[0.75,\"rgb(33,113,181)\"],[0.875,\"rgb(8,81,156)\"],[1.0,\"rgb(8,48,107)\"]],\"connectgaps\":true,\"contours\":{\"coloring\":\"heatmap\"},\"hoverinfo\":\"none\",\"line\":{\"smoothing\":1.3},\"reversescale\":false,\"showscale\":false,\"x\":[2.75,3,4,5,6,7,8,8.25],\"y\":[0.0002340062980408895,0.0002916438937504871,0.0005844864516970621,0.0007007237319499685,0.0008367957375003527,0.0009669463681626142,0.0011729122647911518,0.001658607264309859,0.0020032736302146832,0.002564474623452791,0.0035199087260252815,0.004836921032436607,0.005142444288473128,0.009671915347938168,0.017196751495299662,0.023842935416766062,0.02971563834650295],\"z\":[[null,null,null,null,null,null,null,null],[null,null,null,-1.8348119606206665e31,null,null,null,null],[null,-2.8463884111870523e31,null,null,null,null,null,null],[null,null,null,-2.7548618584764444e31,null,null,null,null],[null,null,null,null,-1.1180549266502544e31,null,null,null],[null,null,null,null,null,-1.4004718572481394e31,null,null],[null,null,null,null,null,-1.6822738951320458e31,null,null],[null,null,null,null,-2.367685624860981e31,null,null,null],[null,null,null,null,null,null,-1.864788607194966e31,null],[null,null,null,null,-1.4667241427036644e31,null,null,null],[null,null,null,null,null,null,-2.376199773091267e31,null],[null,null,null,null,-1.204546667486323e37,null,null,null],[null,null,null,null,null,-2.38883520730873e40,null,null],[null,null,null,null,null,null,-5.025265591828474e45,null],[null,null,null,null,null,-3.422372073367912e45,null,null],[null,null,-1.6218112197733546e38,null,null,null,null,null],[null,null,null,null,null,null,null,null]],\"type\":\"contour\",\"xaxis\":\"x14\",\"yaxis\":\"y14\"},{\"marker\":{\"color\":\"black\",\"line\":{\"color\":\"Gray\",\"width\":2.0}},\"mode\":\"markers\",\"name\":\"Feasible Trial\",\"showlegend\":false,\"x\":[7,6,8,5,8,6,6,7,8,4,3,7,5,7,6],\"y\":[0.017196751495299662,0.004836921032436607,0.0035199087260252815,0.0002916438937504871,0.0020032736302146832,0.002564474623452791,0.001658607264309859,0.0011729122647911518,0.009671915347938168,0.023842935416766062,0.0005844864516970621,0.0009669463681626142,0.0007007237319499685,0.005142444288473128,0.0008367957375003527],\"type\":\"scatter\",\"xaxis\":\"x14\",\"yaxis\":\"y14\"},{\"colorbar\":{\"title\":{\"text\":\"Objective Value\"}},\"colorscale\":[[0.0,\"rgb(247,251,255)\"],[0.125,\"rgb(222,235,247)\"],[0.25,\"rgb(198,219,239)\"],[0.375,\"rgb(158,202,225)\"],[0.5,\"rgb(107,174,214)\"],[0.625,\"rgb(66,146,198)\"],[0.75,\"rgb(33,113,181)\"],[0.875,\"rgb(8,81,156)\"],[1.0,\"rgb(8,48,107)\"]],\"connectgaps\":true,\"contours\":{\"coloring\":\"heatmap\"},\"hoverinfo\":\"none\",\"line\":{\"smoothing\":1.3},\"reversescale\":false,\"showscale\":false,\"x\":[498.05,523,633,660,663,722,729,803,810,831,861,887,924,938,980,1022,1046.95],\"y\":[1419.1,1560,2129,2254,2639,2674,2866,2869,3018,3341,3490,3658,3907,4299,4311,4378,4518.9],\"z\":[[null,null,null,null,null,null,null,null,null,null,null,null,null,null,null,null,null],[null,null,null,null,null,null,null,null,null,null,null,null,null,null,null,-2.8463884111870523e31,null],[null,-2.367685624860981e31,null,null,null,null,null,null,null,null,null,null,null,null,null,null,null],[null,null,null,null,null,null,null,-1.1180549266502544e31,null,null,null,null,null,null,null,null,null],[null,null,null,null,null,null,null,null,null,-2.7548618584764444e31,null,null,null,null,null,null,null],[null,null,-1.8348119606206665e31,null,null,null,null,null,null,null,null,null,null,null,null,null,null],[null,null,null,null,null,null,null,null,-1.4004718572481394e31,null,null,null,null,null,null,null,null],[null,null,null,null,null,null,null,null,null,null,null,null,null,null,-2.38883520730873e40,null,null],[null,null,null,-1.6822738951320458e31,null,null,null,null,null,null,null,null,null,null,null,null,null],[null,null,null,null,null,null,null,null,null,null,null,null,-1.204546667486323e37,null,null,null,null],[null,null,null,null,null,null,null,null,null,null,-1.864788607194966e31,null,null,null,null,null,null],[null,null,null,null,null,null,-5.025265591828474e45,null,null,null,null,null,null,null,null,null,null],[null,null,null,null,null,null,null,null,null,null,null,-1.6218112197733546e38,null,null,null,null,null],[null,null,null,null,null,null,null,null,null,null,null,null,null,-1.4667241427036644e31,null,null,null],[null,null,null,null,null,-2.376199773091267e31,null,null,null,null,null,null,null,null,null,null,null],[null,null,null,null,-3.422372073367912e45,null,null,null,null,null,null,null,null,null,null,null,null],[null,null,null,null,null,null,null,null,null,null,null,null,null,null,null,null,null]],\"type\":\"contour\",\"xaxis\":\"x3\",\"yaxis\":\"y3\"},{\"marker\":{\"color\":\"black\",\"line\":{\"color\":\"Gray\",\"width\":2.0}},\"mode\":\"markers\",\"name\":\"Feasible Trial\",\"showlegend\":false,\"x\":[663,924,722,633,861,938,523,660,729,887,1022,810,831,980,803],\"y\":[4378,3341,4311,2674,3490,4299,2129,3018,3658,3907,1560,2866,2639,2869,2254],\"type\":\"scatter\",\"xaxis\":\"x3\",\"yaxis\":\"y3\"},{\"colorbar\":{\"title\":{\"text\":\"Objective Value\"}},\"colorscale\":[[0.0,\"rgb(247,251,255)\"],[0.125,\"rgb(222,235,247)\"],[0.25,\"rgb(198,219,239)\"],[0.375,\"rgb(158,202,225)\"],[0.5,\"rgb(107,174,214)\"],[0.625,\"rgb(66,146,198)\"],[0.75,\"rgb(33,113,181)\"],[0.875,\"rgb(8,81,156)\"],[1.0,\"rgb(8,48,107)\"]],\"connectgaps\":true,\"contours\":{\"coloring\":\"heatmap\"},\"hoverinfo\":\"none\",\"line\":{\"smoothing\":1.3},\"reversescale\":false,\"showscale\":false,\"x\":[498.05,523,633,660,663,722,729,803,810,831,861,887,924,938,980,1022,1046.95],\"y\":[2.75,3,4,5,6,7,8,8.25],\"z\":[[null,null,null,null,null,null,null,null,null,null,null,null,null,null,null,null,null],[null,null,null,null,null,null,null,null,null,null,null,null,null,null,null,-2.8463884111870523e31,null],[null,null,null,null,null,null,null,null,null,null,null,-1.6218112197733546e38,null,null,null,null,null],[null,null,-1.8348119606206665e31,null,null,null,null,null,null,-2.7548618584764444e31,null,null,null,null,null,null,null],[null,-2.367685624860981e31,null,null,null,null,null,-1.1180549266502544e31,null,null,null,null,-1.204546667486323e37,-1.4667241427036644e31,null,null,null],[null,null,null,-1.6822738951320458e31,-3.422372073367912e45,null,null,null,-1.4004718572481394e31,null,null,null,null,null,-2.38883520730873e40,null,null],[null,null,null,null,null,-2.376199773091267e31,-5.025265591828474e45,null,null,null,-1.864788607194966e31,null,null,null,null,null,null],[null,null,null,null,null,null,null,null,null,null,null,null,null,null,null,null,null]],\"type\":\"contour\",\"xaxis\":\"x7\",\"yaxis\":\"y7\"},{\"marker\":{\"color\":\"black\",\"line\":{\"color\":\"Gray\",\"width\":2.0}},\"mode\":\"markers\",\"name\":\"Feasible Trial\",\"showlegend\":false,\"x\":[663,924,722,633,861,938,523,660,729,887,1022,810,831,980,803],\"y\":[7,6,8,5,8,6,6,7,8,4,3,7,5,7,6],\"type\":\"scatter\",\"xaxis\":\"x7\",\"yaxis\":\"y7\"},{\"type\":\"scatter\",\"xaxis\":\"x11\",\"yaxis\":\"y11\"},{\"colorbar\":{\"title\":{\"text\":\"Objective Value\"}},\"colorscale\":[[0.0,\"rgb(247,251,255)\"],[0.125,\"rgb(222,235,247)\"],[0.25,\"rgb(198,219,239)\"],[0.375,\"rgb(158,202,225)\"],[0.5,\"rgb(107,174,214)\"],[0.625,\"rgb(66,146,198)\"],[0.75,\"rgb(33,113,181)\"],[0.875,\"rgb(8,81,156)\"],[1.0,\"rgb(8,48,107)\"]],\"connectgaps\":true,\"contours\":{\"coloring\":\"heatmap\"},\"hoverinfo\":\"none\",\"line\":{\"smoothing\":1.3},\"reversescale\":false,\"showscale\":false,\"x\":[498.05,523,633,660,663,722,729,803,810,831,861,887,924,938,980,1022,1046.95],\"y\":[0.0002340062980408895,0.0002916438937504871,0.0005844864516970621,0.0007007237319499685,0.0008367957375003527,0.0009669463681626142,0.0011729122647911518,0.001658607264309859,0.0020032736302146832,0.002564474623452791,0.0035199087260252815,0.004836921032436607,0.005142444288473128,0.009671915347938168,0.017196751495299662,0.023842935416766062,0.02971563834650295],\"z\":[[null,null,null,null,null,null,null,null,null,null,null,null,null,null,null,null,null],[null,null,-1.8348119606206665e31,null,null,null,null,null,null,null,null,null,null,null,null,null,null],[null,null,null,null,null,null,null,null,null,null,null,null,null,null,null,-2.8463884111870523e31,null],[null,null,null,null,null,null,null,null,null,-2.7548618584764444e31,null,null,null,null,null,null,null],[null,null,null,null,null,null,null,-1.1180549266502544e31,null,null,null,null,null,null,null,null,null],[null,null,null,null,null,null,null,null,-1.4004718572481394e31,null,null,null,null,null,null,null,null],[null,null,null,-1.6822738951320458e31,null,null,null,null,null,null,null,null,null,null,null,null,null],[null,-2.367685624860981e31,null,null,null,null,null,null,null,null,null,null,null,null,null,null,null],[null,null,null,null,null,null,null,null,null,null,-1.864788607194966e31,null,null,null,null,null,null],[null,null,null,null,null,null,null,null,null,null,null,null,null,-1.4667241427036644e31,null,null,null],[null,null,null,null,null,-2.376199773091267e31,null,null,null,null,null,null,null,null,null,null,null],[null,null,null,null,null,null,null,null,null,null,null,null,-1.204546667486323e37,null,null,null,null],[null,null,null,null,null,null,null,null,null,null,null,null,null,null,-2.38883520730873e40,null,null],[null,null,null,null,null,null,-5.025265591828474e45,null,null,null,null,null,null,null,null,null,null],[null,null,null,null,-3.422372073367912e45,null,null,null,null,null,null,null,null,null,null,null,null],[null,null,null,null,null,null,null,null,null,null,null,-1.6218112197733546e38,null,null,null,null,null],[null,null,null,null,null,null,null,null,null,null,null,null,null,null,null,null,null]],\"type\":\"contour\",\"xaxis\":\"x15\",\"yaxis\":\"y15\"},{\"marker\":{\"color\":\"black\",\"line\":{\"color\":\"Gray\",\"width\":2.0}},\"mode\":\"markers\",\"name\":\"Feasible Trial\",\"showlegend\":false,\"x\":[663,924,722,633,861,938,523,660,729,887,1022,810,831,980,803],\"y\":[0.017196751495299662,0.004836921032436607,0.0035199087260252815,0.0002916438937504871,0.0020032736302146832,0.002564474623452791,0.001658607264309859,0.0011729122647911518,0.009671915347938168,0.023842935416766062,0.0005844864516970621,0.0009669463681626142,0.0007007237319499685,0.005142444288473128,0.0008367957375003527],\"type\":\"scatter\",\"xaxis\":\"x15\",\"yaxis\":\"y15\"},{\"colorbar\":{\"title\":{\"text\":\"Objective Value\"}},\"colorscale\":[[0.0,\"rgb(247,251,255)\"],[0.125,\"rgb(222,235,247)\"],[0.25,\"rgb(198,219,239)\"],[0.375,\"rgb(158,202,225)\"],[0.5,\"rgb(107,174,214)\"],[0.625,\"rgb(66,146,198)\"],[0.75,\"rgb(33,113,181)\"],[0.875,\"rgb(8,81,156)\"],[1.0,\"rgb(8,48,107)\"]],\"connectgaps\":true,\"contours\":{\"coloring\":\"heatmap\"},\"hoverinfo\":\"none\",\"line\":{\"smoothing\":1.3},\"reversescale\":false,\"showscale\":false,\"x\":[0.0002340062980408895,0.0002916438937504871,0.0005844864516970621,0.0007007237319499685,0.0008367957375003527,0.0009669463681626142,0.0011729122647911518,0.001658607264309859,0.0020032736302146832,0.002564474623452791,0.0035199087260252815,0.004836921032436607,0.005142444288473128,0.009671915347938168,0.017196751495299662,0.023842935416766062,0.02971563834650295],\"y\":[1419.1,1560,2129,2254,2639,2674,2866,2869,3018,3341,3490,3658,3907,4299,4311,4378,4518.9],\"z\":[[null,null,null,null,null,null,null,null,null,null,null,null,null,null,null,null,null],[null,null,-2.8463884111870523e31,null,null,null,null,null,null,null,null,null,null,null,null,null,null],[null,null,null,null,null,null,null,-2.367685624860981e31,null,null,null,null,null,null,null,null,null],[null,null,null,null,-1.1180549266502544e31,null,null,null,null,null,null,null,null,null,null,null,null],[null,null,null,-2.7548618584764444e31,null,null,null,null,null,null,null,null,null,null,null,null,null],[null,-1.8348119606206665e31,null,null,null,null,null,null,null,null,null,null,null,null,null,null,null],[null,null,null,null,null,-1.4004718572481394e31,null,null,null,null,null,null,null,null,null,null,null],[null,null,null,null,null,null,null,null,null,null,null,null,-2.38883520730873e40,null,null,null,null],[null,null,null,null,null,null,-1.6822738951320458e31,null,null,null,null,null,null,null,null,null,null],[null,null,null,null,null,null,null,null,null,null,null,-1.204546667486323e37,null,null,null,null,null],[null,null,null,null,null,null,null,null,-1.864788607194966e31,null,null,null,null,null,null,null,null],[null,null,null,null,null,null,null,null,null,null,null,null,null,-5.025265591828474e45,null,null,null],[null,null,null,null,null,null,null,null,null,null,null,null,null,null,null,-1.6218112197733546e38,null],[null,null,null,null,null,null,null,null,null,-1.4667241427036644e31,null,null,null,null,null,null,null],[null,null,null,null,null,null,null,null,null,null,-2.376199773091267e31,null,null,null,null,null,null],[null,null,null,null,null,null,null,null,null,null,null,null,null,null,-3.422372073367912e45,null,null],[null,null,null,null,null,null,null,null,null,null,null,null,null,null,null,null,null]],\"type\":\"contour\",\"xaxis\":\"x4\",\"yaxis\":\"y4\"},{\"marker\":{\"color\":\"black\",\"line\":{\"color\":\"Gray\",\"width\":2.0}},\"mode\":\"markers\",\"name\":\"Feasible Trial\",\"showlegend\":false,\"x\":[0.017196751495299662,0.004836921032436607,0.0035199087260252815,0.0002916438937504871,0.0020032736302146832,0.002564474623452791,0.001658607264309859,0.0011729122647911518,0.009671915347938168,0.023842935416766062,0.0005844864516970621,0.0009669463681626142,0.0007007237319499685,0.005142444288473128,0.0008367957375003527],\"y\":[4378,3341,4311,2674,3490,4299,2129,3018,3658,3907,1560,2866,2639,2869,2254],\"type\":\"scatter\",\"xaxis\":\"x4\",\"yaxis\":\"y4\"},{\"colorbar\":{\"title\":{\"text\":\"Objective Value\"}},\"colorscale\":[[0.0,\"rgb(247,251,255)\"],[0.125,\"rgb(222,235,247)\"],[0.25,\"rgb(198,219,239)\"],[0.375,\"rgb(158,202,225)\"],[0.5,\"rgb(107,174,214)\"],[0.625,\"rgb(66,146,198)\"],[0.75,\"rgb(33,113,181)\"],[0.875,\"rgb(8,81,156)\"],[1.0,\"rgb(8,48,107)\"]],\"connectgaps\":true,\"contours\":{\"coloring\":\"heatmap\"},\"hoverinfo\":\"none\",\"line\":{\"smoothing\":1.3},\"reversescale\":false,\"showscale\":false,\"x\":[0.0002340062980408895,0.0002916438937504871,0.0005844864516970621,0.0007007237319499685,0.0008367957375003527,0.0009669463681626142,0.0011729122647911518,0.001658607264309859,0.0020032736302146832,0.002564474623452791,0.0035199087260252815,0.004836921032436607,0.005142444288473128,0.009671915347938168,0.017196751495299662,0.023842935416766062,0.02971563834650295],\"y\":[2.75,3,4,5,6,7,8,8.25],\"z\":[[null,null,null,null,null,null,null,null,null,null,null,null,null,null,null,null,null],[null,null,-2.8463884111870523e31,null,null,null,null,null,null,null,null,null,null,null,null,null,null],[null,null,null,null,null,null,null,null,null,null,null,null,null,null,null,-1.6218112197733546e38,null],[null,-1.8348119606206665e31,null,-2.7548618584764444e31,null,null,null,null,null,null,null,null,null,null,null,null,null],[null,null,null,null,-1.1180549266502544e31,null,null,-2.367685624860981e31,null,-1.4667241427036644e31,null,-1.204546667486323e37,null,null,null,null,null],[null,null,null,null,null,-1.4004718572481394e31,-1.6822738951320458e31,null,null,null,null,null,-2.38883520730873e40,null,-3.422372073367912e45,null,null],[null,null,null,null,null,null,null,null,-1.864788607194966e31,null,-2.376199773091267e31,null,null,-5.025265591828474e45,null,null,null],[null,null,null,null,null,null,null,null,null,null,null,null,null,null,null,null,null]],\"type\":\"contour\",\"xaxis\":\"x8\",\"yaxis\":\"y8\"},{\"marker\":{\"color\":\"black\",\"line\":{\"color\":\"Gray\",\"width\":2.0}},\"mode\":\"markers\",\"name\":\"Feasible Trial\",\"showlegend\":false,\"x\":[0.017196751495299662,0.004836921032436607,0.0035199087260252815,0.0002916438937504871,0.0020032736302146832,0.002564474623452791,0.001658607264309859,0.0011729122647911518,0.009671915347938168,0.023842935416766062,0.0005844864516970621,0.0009669463681626142,0.0007007237319499685,0.005142444288473128,0.0008367957375003527],\"y\":[7,6,8,5,8,6,6,7,8,4,3,7,5,7,6],\"type\":\"scatter\",\"xaxis\":\"x8\",\"yaxis\":\"y8\"},{\"colorbar\":{\"title\":{\"text\":\"Objective Value\"}},\"colorscale\":[[0.0,\"rgb(247,251,255)\"],[0.125,\"rgb(222,235,247)\"],[0.25,\"rgb(198,219,239)\"],[0.375,\"rgb(158,202,225)\"],[0.5,\"rgb(107,174,214)\"],[0.625,\"rgb(66,146,198)\"],[0.75,\"rgb(33,113,181)\"],[0.875,\"rgb(8,81,156)\"],[1.0,\"rgb(8,48,107)\"]],\"connectgaps\":true,\"contours\":{\"coloring\":\"heatmap\"},\"hoverinfo\":\"none\",\"line\":{\"smoothing\":1.3},\"reversescale\":false,\"showscale\":false,\"x\":[0.0002340062980408895,0.0002916438937504871,0.0005844864516970621,0.0007007237319499685,0.0008367957375003527,0.0009669463681626142,0.0011729122647911518,0.001658607264309859,0.0020032736302146832,0.002564474623452791,0.0035199087260252815,0.004836921032436607,0.005142444288473128,0.009671915347938168,0.017196751495299662,0.023842935416766062,0.02971563834650295],\"y\":[498.05,523,633,660,663,722,729,803,810,831,861,887,924,938,980,1022,1046.95],\"z\":[[null,null,null,null,null,null,null,null,null,null,null,null,null,null,null,null,null],[null,null,null,null,null,null,null,-2.367685624860981e31,null,null,null,null,null,null,null,null,null],[null,-1.8348119606206665e31,null,null,null,null,null,null,null,null,null,null,null,null,null,null,null],[null,null,null,null,null,null,-1.6822738951320458e31,null,null,null,null,null,null,null,null,null,null],[null,null,null,null,null,null,null,null,null,null,null,null,null,null,-3.422372073367912e45,null,null],[null,null,null,null,null,null,null,null,null,null,-2.376199773091267e31,null,null,null,null,null,null],[null,null,null,null,null,null,null,null,null,null,null,null,null,-5.025265591828474e45,null,null,null],[null,null,null,null,-1.1180549266502544e31,null,null,null,null,null,null,null,null,null,null,null,null],[null,null,null,null,null,-1.4004718572481394e31,null,null,null,null,null,null,null,null,null,null,null],[null,null,null,-2.7548618584764444e31,null,null,null,null,null,null,null,null,null,null,null,null,null],[null,null,null,null,null,null,null,null,-1.864788607194966e31,null,null,null,null,null,null,null,null],[null,null,null,null,null,null,null,null,null,null,null,null,null,null,null,-1.6218112197733546e38,null],[null,null,null,null,null,null,null,null,null,null,null,-1.204546667486323e37,null,null,null,null,null],[null,null,null,null,null,null,null,null,null,-1.4667241427036644e31,null,null,null,null,null,null,null],[null,null,null,null,null,null,null,null,null,null,null,null,-2.38883520730873e40,null,null,null,null],[null,null,-2.8463884111870523e31,null,null,null,null,null,null,null,null,null,null,null,null,null,null],[null,null,null,null,null,null,null,null,null,null,null,null,null,null,null,null,null]],\"type\":\"contour\",\"xaxis\":\"x12\",\"yaxis\":\"y12\"},{\"marker\":{\"color\":\"black\",\"line\":{\"color\":\"Gray\",\"width\":2.0}},\"mode\":\"markers\",\"name\":\"Feasible Trial\",\"showlegend\":false,\"x\":[0.017196751495299662,0.004836921032436607,0.0035199087260252815,0.0002916438937504871,0.0020032736302146832,0.002564474623452791,0.001658607264309859,0.0011729122647911518,0.009671915347938168,0.023842935416766062,0.0005844864516970621,0.0009669463681626142,0.0007007237319499685,0.005142444288473128,0.0008367957375003527],\"y\":[663,924,722,633,861,938,523,660,729,887,1022,810,831,980,803],\"type\":\"scatter\",\"xaxis\":\"x12\",\"yaxis\":\"y12\"},{\"type\":\"scatter\",\"xaxis\":\"x16\",\"yaxis\":\"y16\"}],                        {\"template\":{\"data\":{\"histogram2dcontour\":[{\"type\":\"histogram2dcontour\",\"colorbar\":{\"outlinewidth\":0,\"ticks\":\"\"},\"colorscale\":[[0.0,\"#0d0887\"],[0.1111111111111111,\"#46039f\"],[0.2222222222222222,\"#7201a8\"],[0.3333333333333333,\"#9c179e\"],[0.4444444444444444,\"#bd3786\"],[0.5555555555555556,\"#d8576b\"],[0.6666666666666666,\"#ed7953\"],[0.7777777777777778,\"#fb9f3a\"],[0.8888888888888888,\"#fdca26\"],[1.0,\"#f0f921\"]]}],\"choropleth\":[{\"type\":\"choropleth\",\"colorbar\":{\"outlinewidth\":0,\"ticks\":\"\"}}],\"histogram2d\":[{\"type\":\"histogram2d\",\"colorbar\":{\"outlinewidth\":0,\"ticks\":\"\"},\"colorscale\":[[0.0,\"#0d0887\"],[0.1111111111111111,\"#46039f\"],[0.2222222222222222,\"#7201a8\"],[0.3333333333333333,\"#9c179e\"],[0.4444444444444444,\"#bd3786\"],[0.5555555555555556,\"#d8576b\"],[0.6666666666666666,\"#ed7953\"],[0.7777777777777778,\"#fb9f3a\"],[0.8888888888888888,\"#fdca26\"],[1.0,\"#f0f921\"]]}],\"heatmap\":[{\"type\":\"heatmap\",\"colorbar\":{\"outlinewidth\":0,\"ticks\":\"\"},\"colorscale\":[[0.0,\"#0d0887\"],[0.1111111111111111,\"#46039f\"],[0.2222222222222222,\"#7201a8\"],[0.3333333333333333,\"#9c179e\"],[0.4444444444444444,\"#bd3786\"],[0.5555555555555556,\"#d8576b\"],[0.6666666666666666,\"#ed7953\"],[0.7777777777777778,\"#fb9f3a\"],[0.8888888888888888,\"#fdca26\"],[1.0,\"#f0f921\"]]}],\"heatmapgl\":[{\"type\":\"heatmapgl\",\"colorbar\":{\"outlinewidth\":0,\"ticks\":\"\"},\"colorscale\":[[0.0,\"#0d0887\"],[0.1111111111111111,\"#46039f\"],[0.2222222222222222,\"#7201a8\"],[0.3333333333333333,\"#9c179e\"],[0.4444444444444444,\"#bd3786\"],[0.5555555555555556,\"#d8576b\"],[0.6666666666666666,\"#ed7953\"],[0.7777777777777778,\"#fb9f3a\"],[0.8888888888888888,\"#fdca26\"],[1.0,\"#f0f921\"]]}],\"contourcarpet\":[{\"type\":\"contourcarpet\",\"colorbar\":{\"outlinewidth\":0,\"ticks\":\"\"}}],\"contour\":[{\"type\":\"contour\",\"colorbar\":{\"outlinewidth\":0,\"ticks\":\"\"},\"colorscale\":[[0.0,\"#0d0887\"],[0.1111111111111111,\"#46039f\"],[0.2222222222222222,\"#7201a8\"],[0.3333333333333333,\"#9c179e\"],[0.4444444444444444,\"#bd3786\"],[0.5555555555555556,\"#d8576b\"],[0.6666666666666666,\"#ed7953\"],[0.7777777777777778,\"#fb9f3a\"],[0.8888888888888888,\"#fdca26\"],[1.0,\"#f0f921\"]]}],\"surface\":[{\"type\":\"surface\",\"colorbar\":{\"outlinewidth\":0,\"ticks\":\"\"},\"colorscale\":[[0.0,\"#0d0887\"],[0.1111111111111111,\"#46039f\"],[0.2222222222222222,\"#7201a8\"],[0.3333333333333333,\"#9c179e\"],[0.4444444444444444,\"#bd3786\"],[0.5555555555555556,\"#d8576b\"],[0.6666666666666666,\"#ed7953\"],[0.7777777777777778,\"#fb9f3a\"],[0.8888888888888888,\"#fdca26\"],[1.0,\"#f0f921\"]]}],\"mesh3d\":[{\"type\":\"mesh3d\",\"colorbar\":{\"outlinewidth\":0,\"ticks\":\"\"}}],\"scatter\":[{\"fillpattern\":{\"fillmode\":\"overlay\",\"size\":10,\"solidity\":0.2},\"type\":\"scatter\"}],\"parcoords\":[{\"type\":\"parcoords\",\"line\":{\"colorbar\":{\"outlinewidth\":0,\"ticks\":\"\"}}}],\"scatterpolargl\":[{\"type\":\"scatterpolargl\",\"marker\":{\"colorbar\":{\"outlinewidth\":0,\"ticks\":\"\"}}}],\"bar\":[{\"error_x\":{\"color\":\"#2a3f5f\"},\"error_y\":{\"color\":\"#2a3f5f\"},\"marker\":{\"line\":{\"color\":\"#E5ECF6\",\"width\":0.5},\"pattern\":{\"fillmode\":\"overlay\",\"size\":10,\"solidity\":0.2}},\"type\":\"bar\"}],\"scattergeo\":[{\"type\":\"scattergeo\",\"marker\":{\"colorbar\":{\"outlinewidth\":0,\"ticks\":\"\"}}}],\"scatterpolar\":[{\"type\":\"scatterpolar\",\"marker\":{\"colorbar\":{\"outlinewidth\":0,\"ticks\":\"\"}}}],\"histogram\":[{\"marker\":{\"pattern\":{\"fillmode\":\"overlay\",\"size\":10,\"solidity\":0.2}},\"type\":\"histogram\"}],\"scattergl\":[{\"type\":\"scattergl\",\"marker\":{\"colorbar\":{\"outlinewidth\":0,\"ticks\":\"\"}}}],\"scatter3d\":[{\"type\":\"scatter3d\",\"line\":{\"colorbar\":{\"outlinewidth\":0,\"ticks\":\"\"}},\"marker\":{\"colorbar\":{\"outlinewidth\":0,\"ticks\":\"\"}}}],\"scattermapbox\":[{\"type\":\"scattermapbox\",\"marker\":{\"colorbar\":{\"outlinewidth\":0,\"ticks\":\"\"}}}],\"scatterternary\":[{\"type\":\"scatterternary\",\"marker\":{\"colorbar\":{\"outlinewidth\":0,\"ticks\":\"\"}}}],\"scattercarpet\":[{\"type\":\"scattercarpet\",\"marker\":{\"colorbar\":{\"outlinewidth\":0,\"ticks\":\"\"}}}],\"carpet\":[{\"aaxis\":{\"endlinecolor\":\"#2a3f5f\",\"gridcolor\":\"white\",\"linecolor\":\"white\",\"minorgridcolor\":\"white\",\"startlinecolor\":\"#2a3f5f\"},\"baxis\":{\"endlinecolor\":\"#2a3f5f\",\"gridcolor\":\"white\",\"linecolor\":\"white\",\"minorgridcolor\":\"white\",\"startlinecolor\":\"#2a3f5f\"},\"type\":\"carpet\"}],\"table\":[{\"cells\":{\"fill\":{\"color\":\"#EBF0F8\"},\"line\":{\"color\":\"white\"}},\"header\":{\"fill\":{\"color\":\"#C8D4E3\"},\"line\":{\"color\":\"white\"}},\"type\":\"table\"}],\"barpolar\":[{\"marker\":{\"line\":{\"color\":\"#E5ECF6\",\"width\":0.5},\"pattern\":{\"fillmode\":\"overlay\",\"size\":10,\"solidity\":0.2}},\"type\":\"barpolar\"}],\"pie\":[{\"automargin\":true,\"type\":\"pie\"}]},\"layout\":{\"autotypenumbers\":\"strict\",\"colorway\":[\"#636efa\",\"#EF553B\",\"#00cc96\",\"#ab63fa\",\"#FFA15A\",\"#19d3f3\",\"#FF6692\",\"#B6E880\",\"#FF97FF\",\"#FECB52\"],\"font\":{\"color\":\"#2a3f5f\"},\"hovermode\":\"closest\",\"hoverlabel\":{\"align\":\"left\"},\"paper_bgcolor\":\"white\",\"plot_bgcolor\":\"#E5ECF6\",\"polar\":{\"bgcolor\":\"#E5ECF6\",\"angularaxis\":{\"gridcolor\":\"white\",\"linecolor\":\"white\",\"ticks\":\"\"},\"radialaxis\":{\"gridcolor\":\"white\",\"linecolor\":\"white\",\"ticks\":\"\"}},\"ternary\":{\"bgcolor\":\"#E5ECF6\",\"aaxis\":{\"gridcolor\":\"white\",\"linecolor\":\"white\",\"ticks\":\"\"},\"baxis\":{\"gridcolor\":\"white\",\"linecolor\":\"white\",\"ticks\":\"\"},\"caxis\":{\"gridcolor\":\"white\",\"linecolor\":\"white\",\"ticks\":\"\"}},\"coloraxis\":{\"colorbar\":{\"outlinewidth\":0,\"ticks\":\"\"}},\"colorscale\":{\"sequential\":[[0.0,\"#0d0887\"],[0.1111111111111111,\"#46039f\"],[0.2222222222222222,\"#7201a8\"],[0.3333333333333333,\"#9c179e\"],[0.4444444444444444,\"#bd3786\"],[0.5555555555555556,\"#d8576b\"],[0.6666666666666666,\"#ed7953\"],[0.7777777777777778,\"#fb9f3a\"],[0.8888888888888888,\"#fdca26\"],[1.0,\"#f0f921\"]],\"sequentialminus\":[[0.0,\"#0d0887\"],[0.1111111111111111,\"#46039f\"],[0.2222222222222222,\"#7201a8\"],[0.3333333333333333,\"#9c179e\"],[0.4444444444444444,\"#bd3786\"],[0.5555555555555556,\"#d8576b\"],[0.6666666666666666,\"#ed7953\"],[0.7777777777777778,\"#fb9f3a\"],[0.8888888888888888,\"#fdca26\"],[1.0,\"#f0f921\"]],\"diverging\":[[0,\"#8e0152\"],[0.1,\"#c51b7d\"],[0.2,\"#de77ae\"],[0.3,\"#f1b6da\"],[0.4,\"#fde0ef\"],[0.5,\"#f7f7f7\"],[0.6,\"#e6f5d0\"],[0.7,\"#b8e186\"],[0.8,\"#7fbc41\"],[0.9,\"#4d9221\"],[1,\"#276419\"]]},\"xaxis\":{\"gridcolor\":\"white\",\"linecolor\":\"white\",\"ticks\":\"\",\"title\":{\"standoff\":15},\"zerolinecolor\":\"white\",\"automargin\":true,\"zerolinewidth\":2},\"yaxis\":{\"gridcolor\":\"white\",\"linecolor\":\"white\",\"ticks\":\"\",\"title\":{\"standoff\":15},\"zerolinecolor\":\"white\",\"automargin\":true,\"zerolinewidth\":2},\"scene\":{\"xaxis\":{\"backgroundcolor\":\"#E5ECF6\",\"gridcolor\":\"white\",\"linecolor\":\"white\",\"showbackground\":true,\"ticks\":\"\",\"zerolinecolor\":\"white\",\"gridwidth\":2},\"yaxis\":{\"backgroundcolor\":\"#E5ECF6\",\"gridcolor\":\"white\",\"linecolor\":\"white\",\"showbackground\":true,\"ticks\":\"\",\"zerolinecolor\":\"white\",\"gridwidth\":2},\"zaxis\":{\"backgroundcolor\":\"#E5ECF6\",\"gridcolor\":\"white\",\"linecolor\":\"white\",\"showbackground\":true,\"ticks\":\"\",\"zerolinecolor\":\"white\",\"gridwidth\":2}},\"shapedefaults\":{\"line\":{\"color\":\"#2a3f5f\"}},\"annotationdefaults\":{\"arrowcolor\":\"#2a3f5f\",\"arrowhead\":0,\"arrowwidth\":1},\"geo\":{\"bgcolor\":\"white\",\"landcolor\":\"#E5ECF6\",\"subunitcolor\":\"white\",\"showland\":true,\"showlakes\":true,\"lakecolor\":\"white\"},\"title\":{\"x\":0.05},\"mapbox\":{\"style\":\"light\"}}},\"xaxis\":{\"anchor\":\"y\",\"domain\":[0.0,0.2125],\"matches\":\"x13\",\"showticklabels\":false,\"range\":[1419.1,4518.9]},\"yaxis\":{\"anchor\":\"x\",\"domain\":[0.80625,1.0],\"range\":[1419.1,4518.9],\"title\":{\"text\":\"batch_size\"}},\"xaxis2\":{\"anchor\":\"y2\",\"domain\":[0.2625,0.475],\"matches\":\"x14\",\"showticklabels\":false,\"range\":[2.75,8.25]},\"yaxis2\":{\"anchor\":\"x2\",\"domain\":[0.80625,1.0],\"matches\":\"y\",\"showticklabels\":false,\"range\":[1419.1,4518.9]},\"xaxis3\":{\"anchor\":\"y3\",\"domain\":[0.525,0.7375],\"matches\":\"x15\",\"showticklabels\":false,\"range\":[498.05,1046.95]},\"yaxis3\":{\"anchor\":\"x3\",\"domain\":[0.80625,1.0],\"matches\":\"y\",\"showticklabels\":false,\"range\":[1419.1,4518.9]},\"xaxis4\":{\"anchor\":\"y4\",\"domain\":[0.7875,1.0],\"matches\":\"x16\",\"showticklabels\":false,\"range\":[-3.630772453839442,-1.52701493586224],\"type\":\"log\"},\"yaxis4\":{\"anchor\":\"x4\",\"domain\":[0.80625,1.0],\"matches\":\"y\",\"showticklabels\":false,\"range\":[1419.1,4518.9]},\"xaxis5\":{\"anchor\":\"y5\",\"domain\":[0.0,0.2125],\"matches\":\"x13\",\"showticklabels\":false,\"range\":[1419.1,4518.9]},\"yaxis5\":{\"anchor\":\"x5\",\"domain\":[0.5375,0.73125],\"range\":[2.75,8.25],\"title\":{\"text\":\"hidden_layers\"}},\"xaxis6\":{\"anchor\":\"y6\",\"domain\":[0.2625,0.475],\"matches\":\"x14\",\"showticklabels\":false,\"range\":[2.75,8.25]},\"yaxis6\":{\"anchor\":\"x6\",\"domain\":[0.5375,0.73125],\"matches\":\"y5\",\"showticklabels\":false,\"range\":[2.75,8.25]},\"xaxis7\":{\"anchor\":\"y7\",\"domain\":[0.525,0.7375],\"matches\":\"x15\",\"showticklabels\":false,\"range\":[498.05,1046.95]},\"yaxis7\":{\"anchor\":\"x7\",\"domain\":[0.5375,0.73125],\"matches\":\"y5\",\"showticklabels\":false,\"range\":[2.75,8.25]},\"xaxis8\":{\"anchor\":\"y8\",\"domain\":[0.7875,1.0],\"matches\":\"x16\",\"showticklabels\":false,\"range\":[-3.630772453839442,-1.52701493586224],\"type\":\"log\"},\"yaxis8\":{\"anchor\":\"x8\",\"domain\":[0.5375,0.73125],\"matches\":\"y5\",\"showticklabels\":false,\"range\":[2.75,8.25]},\"xaxis9\":{\"anchor\":\"y9\",\"domain\":[0.0,0.2125],\"matches\":\"x13\",\"showticklabels\":false,\"range\":[1419.1,4518.9]},\"yaxis9\":{\"anchor\":\"x9\",\"domain\":[0.26875,0.4625],\"range\":[498.05,1046.95],\"title\":{\"text\":\"hidden_units\"}},\"xaxis10\":{\"anchor\":\"y10\",\"domain\":[0.2625,0.475],\"matches\":\"x14\",\"showticklabels\":false,\"range\":[2.75,8.25]},\"yaxis10\":{\"anchor\":\"x10\",\"domain\":[0.26875,0.4625],\"matches\":\"y9\",\"showticklabels\":false,\"range\":[498.05,1046.95]},\"xaxis11\":{\"anchor\":\"y11\",\"domain\":[0.525,0.7375],\"matches\":\"x15\",\"showticklabels\":false,\"range\":[498.05,1046.95]},\"yaxis11\":{\"anchor\":\"x11\",\"domain\":[0.26875,0.4625],\"matches\":\"y9\",\"showticklabels\":false,\"range\":[498.05,1046.95]},\"xaxis12\":{\"anchor\":\"y12\",\"domain\":[0.7875,1.0],\"matches\":\"x16\",\"showticklabels\":false,\"range\":[-3.630772453839442,-1.52701493586224],\"type\":\"log\"},\"yaxis12\":{\"anchor\":\"x12\",\"domain\":[0.26875,0.4625],\"matches\":\"y9\",\"showticklabels\":false,\"range\":[498.05,1046.95]},\"xaxis13\":{\"anchor\":\"y13\",\"domain\":[0.0,0.2125],\"range\":[1419.1,4518.9],\"title\":{\"text\":\"batch_size\"}},\"yaxis13\":{\"anchor\":\"x13\",\"domain\":[0.0,0.19375],\"range\":[-3.630772453839442,-1.52701493586224],\"type\":\"log\",\"title\":{\"text\":\"learning_rate\"}},\"xaxis14\":{\"anchor\":\"y14\",\"domain\":[0.2625,0.475],\"range\":[2.75,8.25],\"title\":{\"text\":\"hidden_layers\"}},\"yaxis14\":{\"anchor\":\"x14\",\"domain\":[0.0,0.19375],\"matches\":\"y13\",\"showticklabels\":false,\"range\":[-3.630772453839442,-1.52701493586224],\"type\":\"log\"},\"xaxis15\":{\"anchor\":\"y15\",\"domain\":[0.525,0.7375],\"range\":[498.05,1046.95],\"title\":{\"text\":\"hidden_units\"}},\"yaxis15\":{\"anchor\":\"x15\",\"domain\":[0.0,0.19375],\"matches\":\"y13\",\"showticklabels\":false,\"range\":[-3.630772453839442,-1.52701493586224],\"type\":\"log\"},\"xaxis16\":{\"anchor\":\"y16\",\"domain\":[0.7875,1.0],\"range\":[-3.630772453839442,-1.52701493586224],\"type\":\"log\",\"title\":{\"text\":\"learning_rate\"}},\"yaxis16\":{\"anchor\":\"x16\",\"domain\":[0.0,0.19375],\"matches\":\"y13\",\"showticklabels\":false,\"range\":[-3.630772453839442,-1.52701493586224],\"type\":\"log\"},\"title\":{\"text\":\"Contour Plot\"}},                        {\"responsive\": true}                    ).then(function(){\n",
       "                            \n",
       "var gd = document.getElementById('7270ec12-0904-404b-9a11-2436ea64e0f4');\n",
       "var x = new MutationObserver(function (mutations, observer) {{\n",
       "        var display = window.getComputedStyle(gd).display;\n",
       "        if (!display || display === 'none') {{\n",
       "            console.log([gd, 'removed!']);\n",
       "            Plotly.purge(gd);\n",
       "            observer.disconnect();\n",
       "        }}\n",
       "}});\n",
       "\n",
       "// Listen for the removal of the full notebook cells\n",
       "var notebookContainer = gd.closest('#notebook-container');\n",
       "if (notebookContainer) {{\n",
       "    x.observe(notebookContainer, {childList: true});\n",
       "}}\n",
       "\n",
       "// Listen for the clearing of the current output cell\n",
       "var outputEl = gd.closest('.output');\n",
       "if (outputEl) {{\n",
       "    x.observe(outputEl, {childList: true});\n",
       "}}\n",
       "\n",
       "                        })                };                });            </script>        </div>"
      ]
     },
     "metadata": {},
     "output_type": "display_data"
    }
   ],
   "source": [
    "contour_plot = vis.plot_contour(study)\n",
    "contour_plot.show()"
   ]
  }
 ],
 "metadata": {
  "kaggle": {
   "accelerator": "none",
   "dataSources": [
    {
     "databundleVersionId": 8877088,
     "sourceId": 56537,
     "sourceType": "competition"
    }
   ],
   "dockerImageVersionId": 30732,
   "isGpuEnabled": false,
   "isInternetEnabled": true,
   "language": "python",
   "sourceType": "notebook"
  },
  "kernelspec": {
   "display_name": "Python 3",
   "language": "python",
   "name": "python3"
  },
  "language_info": {
   "codemirror_mode": {
    "name": "ipython",
    "version": 3
   },
   "file_extension": ".py",
   "mimetype": "text/x-python",
   "name": "python",
   "nbconvert_exporter": "python",
   "pygments_lexer": "ipython3",
   "version": "3.10.13"
  }
 },
 "nbformat": 4,
 "nbformat_minor": 4
}
