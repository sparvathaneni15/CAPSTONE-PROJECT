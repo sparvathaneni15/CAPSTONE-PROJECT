{
 "cells": [
  {
   "cell_type": "code",
   "execution_count": null,
   "metadata": {
    "_cell_guid": "b1076dfc-b9ad-4769-8c92-a6c4dae69d19",
    "_uuid": "8f2839f25d086af736a60e9eeb907d3b93b6e0e5",
    "execution": {
     "iopub.execute_input": "2024-09-25T16:57:18.778762Z",
     "iopub.status.busy": "2024-09-25T16:57:18.778312Z",
     "iopub.status.idle": "2024-09-25T16:57:19.238171Z",
     "shell.execute_reply": "2024-09-25T16:57:19.236909Z",
     "shell.execute_reply.started": "2024-09-25T16:57:18.778723Z"
    },
    "trusted": true
   },
   "outputs": [],
   "source": [
    "# This Python 3 environment comes with many helpful analytics libraries installed\n",
    "# It is defined by the kaggle/python Docker image: https://github.com/kaggle/docker-python\n",
    "# For example, here's several helpful packages to load\n",
    "\n",
    "import numpy as np # linear algebra\n",
    "import pandas as pd # data processing, CSV file I/O (e.g. pd.read_csv)\n",
    "\n",
    "# Input data files are available in the read-only \"../input/\" directory\n",
    "# For example, running this (by clicking run or pressing Shift+Enter) will list all files under the input directory\n",
    "\n",
    "import os\n",
    "for dirname, _, filenames in os.walk('/kaggle/input'):\n",
    "    for filename in filenames:\n",
    "        print(os.path.join(dirname, filename))\n",
    "\n",
    "# You can write up to 20GB to the current directory (/kaggle/working/) that gets preserved as output when you create a version using \"Save & Run All\" \n",
    "# You can also write temporary files to /kaggle/temp/, but they won't be saved outside of the current session"
   ]
  },
  {
   "cell_type": "markdown",
   "metadata": {},
   "source": [
    "# Upload Data to S3"
   ]
  },
  {
   "cell_type": "code",
   "execution_count": null,
   "metadata": {
    "execution": {
     "iopub.execute_input": "2024-09-25T16:57:22.569948Z",
     "iopub.status.busy": "2024-09-25T16:57:22.569390Z",
     "iopub.status.idle": "2024-09-25T16:57:22.922449Z",
     "shell.execute_reply": "2024-09-25T16:57:22.921225Z",
     "shell.execute_reply.started": "2024-09-25T16:57:22.569905Z"
    },
    "trusted": true
   },
   "outputs": [],
   "source": [
    "import boto3\n",
    "import os\n",
    "\n",
    "os.environ['AWS_ACCESS_KEY_ID'] = \"*****\"\n",
    "os.environ['AWS_SECRET_ACCESS_KEY'] = \"*****\"\n",
    "os.environ['AWS_DEFAULT_REGION'] = \"*****\"\n",
    "\n",
    "def upload_to_s3(file_path, bucket_name, s3_key):\n",
    "    # Create an S3 client\n",
    "    s3 = boto3.client('s3')\n",
    "\n",
    "    try:\n",
    "        # Upload the file\n",
    "        s3.upload_file(file_path, bucket_name, s3_key)\n",
    "        print(f\"Successfully uploaded {file_path} to {bucket_name}/{s3_key}\")\n",
    "    except Exception as e:\n",
    "        print(f\"Error uploading file: {str(e)}\")\n",
    "\n",
    "local_train_file_path = '../input/leap-atmospheric-physics-ai-climsim/train.csv'\n",
    "local_test_file_path = '../input/leap-atmospheric-physics-ai-climsim/test.csv'\n",
    "s3_bucket_name = 'capstone-project-ucsd-mle-bootcamp'\n",
    "s3_train_file = 'train_data.csv'\n",
    "s3_test_file = 'test_data.csv'"
   ]
  },
  {
   "cell_type": "code",
   "execution_count": null,
   "metadata": {
    "execution": {
     "iopub.execute_input": "2024-09-19T20:28:27.613930Z",
     "iopub.status.busy": "2024-09-19T20:28:27.613476Z",
     "iopub.status.idle": "2024-09-19T20:53:38.636257Z",
     "shell.execute_reply": "2024-09-19T20:53:38.632468Z",
     "shell.execute_reply.started": "2024-09-19T20:28:27.613889Z"
    },
    "trusted": true
   },
   "outputs": [],
   "source": [
    "upload_to_s3(local_train_file_path, s3_bucket_name, s3_train_file)\n",
    "upload_to_s3(local_test_file_path, s3_bucket_name, s3_test_file)"
   ]
  },
  {
   "cell_type": "markdown",
   "metadata": {},
   "source": [
    "## Original Dataset"
   ]
  },
  {
   "cell_type": "markdown",
   "metadata": {},
   "source": [
    "https://www.kaggle.com/competitions/leap-atmospheric-physics-ai-climsim/data"
   ]
  },
  {
   "cell_type": "markdown",
   "metadata": {},
   "source": [
    "## S3 URI"
   ]
  },
  {
   "cell_type": "markdown",
   "metadata": {},
   "source": [
    "s3://capstone-project-ucsd-mle-bootcamp/datasets/"
   ]
  }
 ],
 "metadata": {
  "kaggle": {
   "accelerator": "none",
   "dataSources": [
    {
     "databundleVersionId": 8877088,
     "sourceId": 56537,
     "sourceType": "competition"
    }
   ],
   "dockerImageVersionId": 30761,
   "isGpuEnabled": false,
   "isInternetEnabled": true,
   "language": "python",
   "sourceType": "notebook"
  },
  "kernelspec": {
   "display_name": "Python 3",
   "language": "python",
   "name": "python3"
  },
  "language_info": {
   "codemirror_mode": {
    "name": "ipython",
    "version": 3
   },
   "file_extension": ".py",
   "mimetype": "text/x-python",
   "name": "python",
   "nbconvert_exporter": "python",
   "pygments_lexer": "ipython3",
   "version": "3.10.14"
  }
 },
 "nbformat": 4,
 "nbformat_minor": 4
}
